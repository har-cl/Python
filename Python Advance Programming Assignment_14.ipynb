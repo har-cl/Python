{
 "cells": [
  {
   "cell_type": "markdown",
   "id": "034c1c5a",
   "metadata": {},
   "source": [
    "# 1. Given a list of numbers, create a function that removes 25% from every number in the list except the smallest number, and adds the total amount removed to the smallest number."
   ]
  },
  {
   "cell_type": "code",
   "execution_count": 1,
   "id": "b8d9be18",
   "metadata": {},
   "outputs": [],
   "source": [
    "def show_the_love(l):\n",
    "    m= min(l)\n",
    "    x= l.index(m)\n",
    "    tf = 0\n",
    "    for i in range(len(l)):\n",
    "        if l[i] != m:\n",
    "            tf=tf+l[i]*0.25\n",
    "            l[i] = l[i]-(l[i]*0.25)\n",
    "    l[x]=l[x]+tf\n",
    "    return(l)"
   ]
  },
  {
   "cell_type": "code",
   "execution_count": 19,
   "id": "c0829e39",
   "metadata": {},
   "outputs": [
    {
     "data": {
      "text/plain": [
       "[12.0, 7.5, 14.5]"
      ]
     },
     "execution_count": 19,
     "metadata": {},
     "output_type": "execute_result"
    }
   ],
   "source": [
    "show_the_love([16, 10, 8])"
   ]
  },
  {
   "cell_type": "code",
   "execution_count": 3,
   "id": "5b27c857",
   "metadata": {},
   "outputs": [
    {
     "data": {
      "text/plain": [
       "[27.0, 75.0]"
      ]
     },
     "execution_count": 3,
     "metadata": {},
     "output_type": "execute_result"
    }
   ],
   "source": [
    "show_the_love([2, 100])"
   ]
  },
  {
   "cell_type": "markdown",
   "id": "43fecf63",
   "metadata": {},
   "source": [
    "# 2. Create a function that takes in two words as input and returns a list of three elements, in the following order:\n",
    "1.Shared letters between two words.\n",
    "2.Letters unique to word 1.\n",
    "3.Letters unique to word 2.\n",
    "Each element should have unique letters, and have each letter be\n",
    "alphabetically sorted."
   ]
  },
  {
   "cell_type": "code",
   "execution_count": 20,
   "id": "790fb9ea",
   "metadata": {},
   "outputs": [],
   "source": [
    "def letters(l1,l2):\n",
    "    l1=set(l1)\n",
    "    l2=set(l2)\n",
    "    l3=[]\n",
    "    c=\"\"\n",
    "    for i in l1:\n",
    "        if i in l2:\n",
    "            c += i\n",
    "    c= ''.join(sorted(c))\n",
    "    a= ''.join(sorted(l1.difference(l2)))\n",
    "    b= ''.join(sorted(l2.difference(l1)))\n",
    "    l3.append(c)\n",
    "    l3.append(a)\n",
    "    l3.append(b)\n",
    "    return(l3)"
   ]
  },
  {
   "cell_type": "code",
   "execution_count": 21,
   "id": "f79dd182",
   "metadata": {},
   "outputs": [
    {
     "data": {
      "text/plain": [
       "['bdor', 'a', 'e']"
      ]
     },
     "execution_count": 21,
     "metadata": {},
     "output_type": "execute_result"
    }
   ],
   "source": [
    "letters(\"board\", \"bored\")"
   ]
  },
  {
   "cell_type": "code",
   "execution_count": 22,
   "id": "be539a08",
   "metadata": {},
   "outputs": [
    {
     "data": {
      "text/plain": [
       "['flu', 'ekr', 'y']"
      ]
     },
     "execution_count": 22,
     "metadata": {},
     "output_type": "execute_result"
    }
   ],
   "source": [
    "letters(\"kerfuffle\", \"fluffy\")"
   ]
  },
  {
   "cell_type": "markdown",
   "id": "de0618c8",
   "metadata": {},
   "source": [
    "# 3. Write a function that pairs the first number in an array with the last, the second number with the second to last, etc."
   ]
  },
  {
   "cell_type": "code",
   "execution_count": 9,
   "id": "c54d0719",
   "metadata": {},
   "outputs": [],
   "source": [
    "def pairs(l):\n",
    "    r = l[::-1]\n",
    "    a=[]\n",
    "    n=[]\n",
    "    i = 0\n",
    "    if len(l) %2 == 0:\n",
    "        length = int(len(l)/2)\n",
    "    else:\n",
    "        length = int(len(l)/2) +1\n",
    "    while length:\n",
    "        a.append(l[i])\n",
    "        a.append(r[i])\n",
    "        length = length -1\n",
    "        i = i+1\n",
    "    i=0\n",
    "    while i<len(a):\n",
    "        n.append(a[i:i+2])\n",
    "        i+=2\n",
    "    return n"
   ]
  },
  {
   "cell_type": "code",
   "execution_count": 18,
   "id": "0da72bc8",
   "metadata": {},
   "outputs": [
    {
     "data": {
      "text/plain": [
       "[[1, 7], [2, 6], [3, 5], [4, 4]]"
      ]
     },
     "execution_count": 18,
     "metadata": {},
     "output_type": "execute_result"
    }
   ],
   "source": [
    "pairs([1, 2, 3, 4, 5, 6, 7])"
   ]
  },
  {
   "cell_type": "code",
   "execution_count": 11,
   "id": "a4f8b258",
   "metadata": {},
   "outputs": [
    {
     "data": {
      "text/plain": [
       "[[5, 2], [9, 1], [8, 8]]"
      ]
     },
     "execution_count": 11,
     "metadata": {},
     "output_type": "execute_result"
    }
   ],
   "source": [
    "pairs([5, 9, 8, 1, 2])"
   ]
  },
  {
   "cell_type": "markdown",
   "id": "a1c3bb29",
   "metadata": {},
   "source": [
    "# 4. Write a function that adds two numbers. The catch, however, is that the numbers will be strings."
   ]
  },
  {
   "cell_type": "code",
   "execution_count": 12,
   "id": "6bcd0e88",
   "metadata": {},
   "outputs": [],
   "source": [
    "def add_str_nums(a,b):\n",
    "        \n",
    "    try:  \n",
    "        return str(int(a)+int(b))\n",
    "    except:\n",
    "        return \"Error\""
   ]
  },
  {
   "cell_type": "code",
   "execution_count": 13,
   "id": "5538ec29",
   "metadata": {},
   "outputs": [
    {
     "data": {
      "text/plain": [
       "'9'"
      ]
     },
     "execution_count": 13,
     "metadata": {},
     "output_type": "execute_result"
    }
   ],
   "source": [
    "add_str_nums(\"4\", \"5\")"
   ]
  },
  {
   "cell_type": "code",
   "execution_count": 14,
   "id": "91b2046e",
   "metadata": {},
   "outputs": [
    {
     "data": {
      "text/plain": [
       "'Error'"
      ]
     },
     "execution_count": 14,
     "metadata": {},
     "output_type": "execute_result"
    }
   ],
   "source": [
    "add_str_nums(\"abcdefg\", \"3\")"
   ]
  },
  {
   "cell_type": "markdown",
   "id": "4405e300",
   "metadata": {},
   "source": [
    "# 5. lPaeesh le pemu mnxit ehess rtnisg! Oh, sorry, that was supposed to say: Please help me unmix these strings!\n",
    "Somehow my strings have all become mixed up; every pair of characters has been swapped. Help me undo this so I can understand my strings again."
   ]
  },
  {
   "cell_type": "code",
   "execution_count": 15,
   "id": "86414c4f",
   "metadata": {},
   "outputs": [],
   "source": [
    "def unmix(s):\n",
    "    s=''.join([ s[x:x+2][::-1] for x in range(0, len(s), 2) ])\n",
    "    return s"
   ]
  },
  {
   "cell_type": "code",
   "execution_count": 16,
   "id": "443d83f5",
   "metadata": {},
   "outputs": [
    {
     "data": {
      "text/plain": [
       "'214365'"
      ]
     },
     "execution_count": 16,
     "metadata": {},
     "output_type": "execute_result"
    }
   ],
   "source": [
    "unmix(\"123456\")"
   ]
  },
  {
   "cell_type": "code",
   "execution_count": 17,
   "id": "f7488c33",
   "metadata": {},
   "outputs": [
    {
     "data": {
      "text/plain": [
       "'This is a mixed up string.'"
      ]
     },
     "execution_count": 17,
     "metadata": {},
     "output_type": "execute_result"
    }
   ],
   "source": [
    "unmix(\"hTsii  s aimex dpus rtni.g\")"
   ]
  },
  {
   "cell_type": "code",
   "execution_count": null,
   "id": "6f342bd2",
   "metadata": {},
   "outputs": [],
   "source": []
  }
 ],
 "metadata": {
  "kernelspec": {
   "display_name": "Python 3 (ipykernel)",
   "language": "python",
   "name": "python3"
  },
  "language_info": {
   "codemirror_mode": {
    "name": "ipython",
    "version": 3
   },
   "file_extension": ".py",
   "mimetype": "text/x-python",
   "name": "python",
   "nbconvert_exporter": "python",
   "pygments_lexer": "ipython3",
   "version": "3.9.12"
  }
 },
 "nbformat": 4,
 "nbformat_minor": 5
}
