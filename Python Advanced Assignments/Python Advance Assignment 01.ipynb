{
 "cells": [
  {
   "cell_type": "markdown",
   "id": "f539b01e",
   "metadata": {},
   "source": [
    "# Python Advance Assignment\n",
    "## Assignment - 01 [ FSDS NOV 21 ]"
   ]
  },
  {
   "cell_type": "markdown",
   "id": "942401c5",
   "metadata": {},
   "source": [
    "### Q1. What is the purpose of Python's OOP?\n",
    "**Ans:** \n",
    "\n",
    " Object-oriented programming is a programming paradigm that provides a means of structuring programs so that properties and behaviors are bundled into individual objects\n",
    "- In Python, object-oriented Programming (OOPs) uses objects and classes in programming. \n",
    "- It aims to implement real-world entities like inheritance, polymorphisms, encapsulation, etc. in the programming.\n",
    "- The main concept of OOPs is to bind the data and the functions that work on that together as a single unit so that no other part of the code can access this data. \n",
    "\n",
    "Some Advantages are mentioned below:\n",
    "- It helps to divide our over all program into different small segments and thus making problem solving easy through the use of objects\n",
    "- Helps in easy maintenance and modification of existing program\n",
    "- Multiple instances of an object can be made and explored."
   ]
  },
  {
   "cell_type": "markdown",
   "id": "7cfcf3e9",
   "metadata": {},
   "source": [
    "### Q2. Where does an inheritance search look for an attribute?\n",
    "**Ans:** \n",
    "\n",
    "Python searches for an attribute in an upward tree of attributes. it first searches for the attribute in its instance and then looks in the class it is generated from, to all super classes listed in its class header\n",
    "\n",
    "* Every time you use an expression of the form ```object.attr``` where object is an instance or class object, Python searches the namespace tree at and above object, for the first attr it can find. \n",
    "* Lower definitions in the tree override higher ones, inheritance forms the basis of specialization.\n",
    "\n",
    "![Image](https://www.oreilly.com/library/view/learning-python/1565924649/tagoreillycom20070222oreillyimages95460.png)"
   ]
  },
  {
   "cell_type": "markdown",
   "id": "096d7b0b",
   "metadata": {},
   "source": [
    "### Q3. How do you distinguish between a class object and an instance object?\n",
    "**Ans:** \n",
    "\n",
    "The differences between a class object and an instance object are:\n",
    "1. Class is a template for creating objects whereas object is an instance of class\n",
    "2. Seperate memory is allocated for each object whenever an object is created. but for a class this doesnot happens.\n",
    "3. A Class is created once. Many objects are created using a class.\n",
    "4. As Classes have no allocated memory. they can't be manipulated. but objects can be manipulated."
   ]
  },
  {
   "cell_type": "markdown",
   "id": "fd8cc6bc",
   "metadata": {},
   "source": [
    "### Q4. What makes the first argument in a class’s method function special?\n",
    "**Ans:** \n",
    "\n",
    "Python Classes usually have three types of methods which are:\n",
    "- Instance Methods (object level methods)\n",
    "- Class Methods (class level methods)\n",
    "- Static Methods (general utility methods)\n",
    "- `self` is the first argument for instance methods. which refers to the object itself\n",
    "- `cls` is the first argument for class methods which refers to the class itself"
   ]
  },
  {
   "cell_type": "markdown",
   "id": "94de0426",
   "metadata": {},
   "source": [
    "### Q5. What is the purpose of the __init__ method?\n",
    "**Ans:** \n",
    "\n",
    "`\\__init__` is a reseved method in python classes. \n",
    "* It is called as a constructor in object oriented terminology. \n",
    "* This method is called when an object is created from a class and it allows the class to initialize the attributes of the class."
   ]
  },
  {
   "cell_type": "markdown",
   "id": "3e47943f",
   "metadata": {},
   "source": [
    "### Q6. What is the process for creating a class instance?\n",
    "**Ans:** \n",
    "\n",
    "To create a class instance, we need to call the class by its name and pass the arguments to the class, which its `init` method accepts.\n",
    "\n",
    "**Example:** `my_name = my_class(\"warke\",\"mitesh\")` Here `my_name` is an instance of class `my_class` with attributes \"Mano\" and \"Vishnu\"."
   ]
  },
  {
   "cell_type": "markdown",
   "id": "8ddf33a9",
   "metadata": {},
   "source": [
    "### Q7. What is the process for creating a class?\n",
    "**Ans:** \n",
    "\n",
    "`class` keyword is used to created a class in python. The syntax to create a class in python is `class <classname>:`\n",
    "\n",
    "**Example:**\n",
    "\n",
    "class ClassName:\n",
    "\n",
    "\n",
    "    declare class attributes\n",
    "    \n",
    "    define constructor\n",
    "    def __init__(self):\n",
    "        declare object attributes\n",
    "    \n",
    "    define methods\n",
    "    def methods(self, arguments)"
   ]
  },
  {
   "cell_type": "markdown",
   "id": "b58c55d6",
   "metadata": {},
   "source": [
    "### Q8. How would you define the superclasses of a class?\n",
    "**Ans** \n",
    "\n",
    "Superclass/Parent class is given as a arugment to the child class\n",
    "\n",
    "\n",
    "**EXAMPLE**\n",
    "\n",
    "```class Robot:\n",
    "    def \\__init__(self, name):\n",
    "        self.name = name\n",
    "    def say_hi(self):\n",
    "        print(\"Hi, I am \" + self.name)```\n",
    "        \n",
    "```class PhysicianRobot(Robot):\n",
    "    pass```\n",
    "    \n",
    "    \n",
    "```x = Robot(\"Marvin\")\n",
    "y = PhysicianRobot(\"James\")\n",
    "print(x, type(x))\n",
    "print(y, type(y))\n",
    "y.say_hi()```\n",
    "\n",
    "\n",
    "* In the given example we have two classes Robot and PhysicianRobot\n",
    "* To make the Robot class a superclass we just pass it to PhysicainRobot as an argument."
   ]
  }
 ],
 "metadata": {
  "kernelspec": {
   "display_name": "Python 3 (ipykernel)",
   "language": "python",
   "name": "python3"
  },
  "language_info": {
   "codemirror_mode": {
    "name": "ipython",
    "version": 3
   },
   "file_extension": ".py",
   "mimetype": "text/x-python",
   "name": "python",
   "nbconvert_exporter": "python",
   "pygments_lexer": "ipython3",
   "version": "3.9.7"
  }
 },
 "nbformat": 4,
 "nbformat_minor": 5
}
