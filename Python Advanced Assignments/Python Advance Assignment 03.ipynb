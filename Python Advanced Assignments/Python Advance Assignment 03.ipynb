{
 "cells": [
  {
   "cell_type": "markdown",
   "id": "55846da8",
   "metadata": {},
   "source": [
    "# Python Advance Assignment\n",
    "## Assignment - 03 [ FSDS NOV 21 ]"
   ]
  },
  {
   "cell_type": "markdown",
   "id": "6d38e68b",
   "metadata": {},
   "source": [
    "### 1. What is the concept of an abstract superclass?\n",
    "**Ans:** \n",
    "\n",
    "* An abstract class/superclass can be considered as a blueprint for other classes. \n",
    "* It allows you to create a set of methods that must be created within any child classes built from the abstract class. \n",
    "* A class which contains one or more abstract methods is called an abstract class.\n",
    "\n",
    "* An abstract method can be created by using @abstractmethod annotation\n",
    "\n",
    "eg. ```class ClassName:```\n",
    "        \n",
    "        @abstractmethod\n",
    "        def abs_met(self):\n",
    "            pass\n",
    "            \n",
    "\n"
   ]
  },
  {
   "cell_type": "code",
   "execution_count": 1,
   "id": "00e14ca4",
   "metadata": {},
   "outputs": [],
   "source": [
    "class test:\n",
    "    def __init__(self, a , b  , c ,d ) :\n",
    "        self.__a = a \n",
    "        self.b = b\n",
    "        self.c = c \n",
    "        self.d = d \n",
    "    def test_custome(self , v ) : \n",
    "         return v - self.__a \n",
    "    \n",
    "    def __str__(self):\n",
    "        return \"this is my test code for abstraction\""
   ]
  },
  {
   "cell_type": "code",
   "execution_count": 2,
   "id": "05e5e680",
   "metadata": {},
   "outputs": [
    {
     "name": "stdout",
     "output_type": "stream",
     "text": [
      "6\n",
      "7\n",
      "8\n",
      "3\n",
      "5\n"
     ]
    }
   ],
   "source": [
    "class test1(test):\n",
    "    def __init__(self, j , *args):\n",
    "        super(test1,self).__init__(*args) #\n",
    "        self.j = j \n",
    "\n",
    "m = test1(4,5,6,7,8)\n",
    "print(m.b)\n",
    "print(m.c)\n",
    "print(m.d)\n",
    "print(m.test_custome(8))\n",
    "print(m._test__a)"
   ]
  },
  {
   "cell_type": "markdown",
   "id": "e4a49a25",
   "metadata": {},
   "source": [
    "### 2. What happens when a class statement's top level contains a basic assignment statement?\n",
    "**Ans:** \n",
    "\n",
    "When a Class statement's top level contains a basic assignment statement, its usually treated as a class attribute or class level variable. \n",
    "\n",
    "where as assignment statements inside methods are treated as instance attributes or local attributes.\n",
    "\n",
    "When an instance of a class is created a single copy of class attributes is maintained and shared to all instances of class. where as each instance object maintains its own copy of instance variables."
   ]
  },
  {
   "cell_type": "code",
   "execution_count": 2,
   "id": "c5d88b4d",
   "metadata": {},
   "outputs": [],
   "source": [
    "class Person:\n",
    "    species = 'Homesapiens' # class attribute\n",
    "    def __init__(self,name,gender):\n",
    "        self.name = name # instance attributes\n",
    "        self.gender = gender"
   ]
  },
  {
   "cell_type": "markdown",
   "id": "beb231b3",
   "metadata": {},
   "source": [
    "### 3. Why does a class need to manually call a superclass's __init__ method?\n",
    "**Ans:** \n",
    "\n",
    "\n",
    "* If a child class has \\__init__ method, then it will not inherit the \\__init__ method of the parent class. \n",
    "* In other words the \\__init__ method of the child class overrides the \\__init__ method of the parent class. \n",
    "* So we have to manually call a parent superclass's \\__init__ using super() method i.e.\n",
    "\n",
    " ``` super().__init__(arguments)```"
   ]
  },
  {
   "cell_type": "markdown",
   "id": "f7468111",
   "metadata": {},
   "source": [
    "### 4. How can you augment, instead of completely replacing, an inherited method?\n",
    "**Ans:** \n",
    "\n",
    "**`super()`** method can be used to augment, instead of completely replacing, an inherited method."
   ]
  },
  {
   "cell_type": "code",
   "execution_count": 4,
   "id": "437bf527",
   "metadata": {},
   "outputs": [
    {
     "name": "stdout",
     "output_type": "stream",
     "text": [
      "{'name': 'mitesh', 'gender': 'Male', 'salary': 10000}\n"
     ]
    }
   ],
   "source": [
    "class Person:\n",
    "    def __init__(self,name,gender):\n",
    "        self.name = name\n",
    "        self.gender = gender\n",
    "class Employee(Person):\n",
    "    def __init__(self,name,gender,salary):\n",
    "        super().__init__(name,gender) \n",
    "        self.salary = salary\n",
    "emp_1 = Employee('mitesh','Male',10000)\n",
    "print(emp_1.__dict__)       "
   ]
  },
  {
   "cell_type": "markdown",
   "id": "16559793",
   "metadata": {},
   "source": [
    "### 5. How is the local scope of a class different from that of a function?\n",
    "**Ans:** \n",
    "\n",
    "* A Variable which is defined inside a function is local to that function. It is accesible from the point at which it is defined until the end of the function, and exists for as long as the function is existing.\n",
    "\n",
    "* Variables which are defined in the class body are called as class level variables or class attributes. They can be referenced by there bare names within the same scope, but they can also be accessed from outside this scope if we use the attribute access operator (.) on a class or an instance of the class."
   ]
  }
 ],
 "metadata": {
  "kernelspec": {
   "display_name": "Python 3 (ipykernel)",
   "language": "python",
   "name": "python3"
  },
  "language_info": {
   "codemirror_mode": {
    "name": "ipython",
    "version": 3
   },
   "file_extension": ".py",
   "mimetype": "text/x-python",
   "name": "python",
   "nbconvert_exporter": "python",
   "pygments_lexer": "ipython3",
   "version": "3.9.7"
  }
 },
 "nbformat": 4,
 "nbformat_minor": 5
}
