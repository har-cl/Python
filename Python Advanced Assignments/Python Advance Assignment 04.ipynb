{
 "cells": [
  {
   "cell_type": "markdown",
   "id": "83640f69",
   "metadata": {},
   "source": [
    "# Python Advance Assignment\n",
    "## Assignment - 04 [ FSDS NOV 21 ]"
   ]
  },
  {
   "cell_type": "markdown",
   "id": "4c06fa86",
   "metadata": {},
   "source": [
    "### Q1. Which two operator overloading methods can you use in your classes to support iteration?\n",
    "**Ans:** \n",
    "\n",
    "`__iter__` and `__next__` are the operator overloading methods in python that support iteration and are collectively called iterator protocol.\n",
    "\n",
    "- `__iter__` returns the iterator object and is called at the start of loop in our respective class.\n",
    "- `__next__` is called at each loop increment, it returns the incremented value. Also Stopiteration is raised when there is no value to return."
   ]
  },
  {
   "cell_type": "markdown",
   "id": "0b3e5985",
   "metadata": {},
   "source": [
    "### Q2. In what contexts do the two operator overloading methods manage printing?\n",
    "**Ans:** \n",
    "\n",
    "* The \\__str__ and \\__repr__ methods implement object print displays. \n",
    "* The former is called by the print and str built-in functions; the latter is called by print and str if there is no \\__str__, and always by the repr built-in, interactive echoes, and nested appearances. \n",
    "* That is, \\__repr__ is used everywhere, except by print and str when a \\__str__ is defined. A \\__str__ is usually used for user-friendly displays; \\__repr__ gives extra details or the object’s as-code form."
   ]
  },
  {
   "cell_type": "markdown",
   "id": "776e9c16",
   "metadata": {},
   "source": [
    "### Q3. In a class, how do you intercept slice operations?\n",
    "**Ans:** \n",
    "\n",
    "In a class use of `slice()` in `__getitem__` method is used for intercept slice operation. This slice method is provided with start integer number, stop integer number and step integer number. \n",
    "\n",
    "**Example:** `__getitem__(slice(start,stop,step))`"
   ]
  },
  {
   "cell_type": "code",
   "execution_count": 1,
   "id": "17b9b784",
   "metadata": {},
   "outputs": [
    {
     "name": "stdout",
     "output_type": "stream",
     "text": [
      "mitesh s\n"
     ]
    }
   ],
   "source": [
    "sliced ='mitesh sanjay warke'.__getitem__(slice(0, 8, 1)) #using slice() and __getitem__ slicing can be achieved in class\n",
    "print(sliced)"
   ]
  },
  {
   "cell_type": "code",
   "execution_count": 2,
   "id": "4f67882d",
   "metadata": {},
   "outputs": [
    {
     "name": "stdout",
     "output_type": "stream",
     "text": [
      "1\n",
      "(1, 2)\n",
      "(1, 2, 3)\n"
     ]
    }
   ],
   "source": [
    "#The class demo has the __getitem__ method, slicing is comma-separated. \n",
    "#Key prints the sliced object which is passed in class through variable a.\n",
    "\n",
    "class Demo:\n",
    "\tdef __getitem__(self, key):\n",
    "\t\t# print a[1], a[1, 2],\n",
    "\t\t# a[1, 2, 3]\n",
    "\t\tprint(key)\n",
    "\t\t#return key\n",
    "\n",
    "a = Demo()\n",
    "a[1]\n",
    "a[1, 2]\n",
    "a[1, 2, 3]"
   ]
  },
  {
   "cell_type": "markdown",
   "id": "1960c808",
   "metadata": {},
   "source": [
    "### Q4. In a class, how do you capture in-place addition?\n",
    "**Ans:** \n",
    "\n",
    "**`a+b`** is normal addition. Whereas **`a+=b`** is inplace addition operation. In this in-place addition **`a`** itself will store the value of addition. In a class **`__iadd__`** method is used for this in-place operation"
   ]
  },
  {
   "cell_type": "code",
   "execution_count": 3,
   "id": "89e37d51",
   "metadata": {},
   "outputs": [
    {
     "name": "stdout",
     "output_type": "stream",
     "text": [
      "300\n"
     ]
    }
   ],
   "source": [
    "class Book:\n",
    "    def __init__(self,pages):\n",
    "        self.pages = pages\n",
    "    def __iadd__(self,other):\n",
    "        self.pages += other.pages\n",
    "        return self.pages\n",
    "        \n",
    "b1 = Book(100)\n",
    "b2 = Book(200)\n",
    "b1+=b2\n",
    "print(b1)"
   ]
  },
  {
   "cell_type": "markdown",
   "id": "341416c2",
   "metadata": {},
   "source": [
    "### Q5. When is it appropriate to use operator overloading?\n",
    "**Ans:** \n",
    "\n",
    "The operator overloading in Python means provide extended meaning beyond their predefined operational meaning. Such as, we use the \"+\" operator for adding two integers as well as joining two strings or merging two lists. We can achieve this as the \"+\" operator is overloaded by the \"int\" class and \"str\" class. Hence when we have to extended meaning beyond their predefined operational meaning we can use operator overloading"
   ]
  }
 ],
 "metadata": {
  "kernelspec": {
   "display_name": "Python 3 (ipykernel)",
   "language": "python",
   "name": "python3"
  },
  "language_info": {
   "codemirror_mode": {
    "name": "ipython",
    "version": 3
   },
   "file_extension": ".py",
   "mimetype": "text/x-python",
   "name": "python",
   "nbconvert_exporter": "python",
   "pygments_lexer": "ipython3",
   "version": "3.9.7"
  }
 },
 "nbformat": 4,
 "nbformat_minor": 5
}
