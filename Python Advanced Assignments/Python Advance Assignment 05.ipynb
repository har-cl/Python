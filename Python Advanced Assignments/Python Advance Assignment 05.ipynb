{
 "cells": [
  {
   "cell_type": "markdown",
   "id": "a8e2fc40",
   "metadata": {},
   "source": [
    "# Python Advance Assignment\n",
    "## Assignment - 05 [ FSDS NOV 21 ]"
   ]
  },
  {
   "cell_type": "markdown",
   "id": "3ae2f846",
   "metadata": {},
   "source": [
    "### Q1. What is the meaning of multiple inheritance?\n",
    "**Ans:** \n",
    "\n",
    "Inheritence is nothing but reusing the code of Parent class by the child class. Similary when a child class inherits its properties from multiple Parent classes this scenario is called **Multiple Inheritence**"
   ]
  },
  {
   "cell_type": "code",
   "execution_count": 1,
   "id": "e8567eae",
   "metadata": {},
   "outputs": [
    {
     "name": "stdout",
     "output_type": "stream",
     "text": [
      "multi_task\n",
      "Name: mitesh\n"
     ]
    }
   ],
   "source": [
    "#multiple inheritence\n",
    "class Ineuron:\n",
    "    company_website = 'https://ineuron.ai/'\n",
    "    name = 'iNeuron'\n",
    " \n",
    "    def contact_details(self):\n",
    "        print('Contact us at ', self.company_website)\n",
    "\n",
    "class OS:\n",
    "    multi_task = True\n",
    "    os_name = 'Windows OS'\n",
    "    name = \"mitesh\"\n",
    "\n",
    "class windows(OS, Ineuron):\n",
    "    def __init__(self):\n",
    "        if self.multi_task is True:\n",
    "            print('multi_task')\n",
    "        print('Name: {}'.format(self.name))\n",
    " \n",
    "windows = windows()"
   ]
  },
  {
   "cell_type": "markdown",
   "id": "38440f4c",
   "metadata": {},
   "source": [
    "### Q2. What is the concept of delegation?\n",
    "**Ans:** \n",
    "\n",
    "Delegation provides a proxy object for any class thay you want on top of the main class. its like a wrapper to your class so that you can access limited resources of the main class.\n",
    "\n",
    "it Wraps the object of main class into a smaller object with limited access\n",
    "\n",
    "Simply Delegation means that you can include a instance of another class as an instance variable, and forward messages to the instance."
   ]
  },
  {
   "cell_type": "code",
   "execution_count": 2,
   "id": "d57e9c12",
   "metadata": {},
   "outputs": [],
   "source": [
    "class UpperOut:\n",
    "  def __init__(self, outfile):\n",
    "    self.__outfile = outfile\n",
    "  def write(self, s):\n",
    "    self.__outfile.write(s.upper())\n",
    "  def __getattr__(self, name):\n",
    "    return getattr(self.__outfile, name)\n",
    "\n",
    "# Here the UpperOut class redefines the write() method to convert the argument string to uppercase before calling the underlying self.__outfile.write() method.\n",
    "# All other methods are delegated to the underlying self.__outfile object. The delegation is accomplished via the __getattr__ method."
   ]
  },
  {
   "cell_type": "markdown",
   "id": "4600a4d4",
   "metadata": {},
   "source": [
    "### Q3. What is the concept of composition?\n",
    "**Ans:** \n",
    "\n",
    "It is one of the fundamental concepts of Object-Oriented Programming. In this concept, we describe a class that references to one or more objects of other classes as an Instance variable. Here, by using the class name or by creating the object we can access the members of one class inside another class. It enables creating complex types by combining objects of different classes. It means that a class Composite can contain an object of another class Component. This type of relationship is known as Has-A Relation.\n",
    "\n"
   ]
  },
  {
   "cell_type": "code",
   "execution_count": 3,
   "id": "7e779e32",
   "metadata": {},
   "outputs": [],
   "source": [
    "class A :\n",
    "      # variables of class A\n",
    "      # methods of class A\n",
    "      ...\n",
    "      ...\n",
    "class B : \n",
    "      # by using \"obj\" we can access member's of class A.\n",
    "      obj = A()\n",
    "      # variables of class B\n",
    "      # methods of class B\n",
    "      ...\n",
    "      ..."
   ]
  },
  {
   "cell_type": "markdown",
   "id": "ce7913c2",
   "metadata": {},
   "source": [
    "### Q4. What are bound methods and how do we use them?\n",
    "**Ans:** \n",
    "\n",
    "If a function is an attribute of class and it is accessed via the instances, they are called **bound methods**. A bound method is one that has **`self`** as its first argument. Since these are dependent on the instance of classes, these are also known as **instance methods**."
   ]
  },
  {
   "cell_type": "markdown",
   "id": "04f059af",
   "metadata": {},
   "source": [
    "### Q5. What is the purpose of pseudoprivate attributes?\n",
    "**Ans:** \n",
    "\n",
    "Pseudoprivate attributes are also useful in larger frameworks or tools, both to avoid introducing new method names that might accidentally hide definitions elsewhere in the class tree and to reduce the chance of internal methods being replaced by names defined lower in the tree. If a method is intended for use only within a class that may be mixed into other classes, the double underscore prefix ensures that the method won't interfere with other names in the tree, especially in multiple-inheritance scenarios\n",
    "\n",
    "Pseudoprivate names also prevent subclasses from accidentally redefining the internal method's names,"
   ]
  },
  {
   "cell_type": "code",
   "execution_count": 4,
   "id": "6710d4ea",
   "metadata": {},
   "outputs": [
    {
     "name": "stdout",
     "output_type": "stream",
     "text": [
      "mitesh\n",
      "mitesh\n"
     ]
    }
   ],
   "source": [
    "class Info:\n",
    "    def __init__(self):\n",
    "        self.__name = 'mitesh'\n",
    "    def __say(self):\n",
    "        return self.__name\n",
    "a = Info()\n",
    "print(a._Info__name) \n",
    "print(a._Info__say()) "
   ]
  }
 ],
 "metadata": {
  "kernelspec": {
   "display_name": "Python 3 (ipykernel)",
   "language": "python",
   "name": "python3"
  },
  "language_info": {
   "codemirror_mode": {
    "name": "ipython",
    "version": 3
   },
   "file_extension": ".py",
   "mimetype": "text/x-python",
   "name": "python",
   "nbconvert_exporter": "python",
   "pygments_lexer": "ipython3",
   "version": "3.9.7"
  }
 },
 "nbformat": 4,
 "nbformat_minor": 5
}
