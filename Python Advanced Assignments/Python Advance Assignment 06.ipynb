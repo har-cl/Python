{
 "cells": [
  {
   "cell_type": "markdown",
   "id": "cdb59e56",
   "metadata": {},
   "source": [
    "# Python Advance Assignment\n",
    "## Assignment - 06 [ FSDS NOV 21 ]"
   ]
  },
  {
   "cell_type": "markdown",
   "id": "9dce2ceb",
   "metadata": {},
   "source": [
    "### Q1. Describe three applications for exception processing.\n",
    "**Ans:** \n",
    "\n",
    " Python provides the number of built-in exceptions, but here we are describing the common standard exceptions. A list of common exceptions that can be thrown from a standard Python program is given below.\n",
    "\n",
    "- ZeroDivisionError: Occurs when a number is divided by zero.\n",
    "- NameError: It occurs when a name is not found. It may be local or global.\n",
    "- IndentationError: If incorrect indentation is given.\n",
    "- IOError: It occurs when Input Output operation fails.\n",
    "- EOFError: It occurs when the end of the file is reached, and yet operations are being performed.\n",
    "\n",
    "`Example:`"
   ]
  },
  {
   "cell_type": "code",
   "execution_count": 1,
   "id": "f0de47a7",
   "metadata": {},
   "outputs": [
    {
     "name": "stdout",
     "output_type": "stream",
     "text": [
      "Enter a:4\n",
      "Enter b:0\n",
      "can't divide by zero\n",
      "division by zero\n",
      "Hi I am finally block\n"
     ]
    }
   ],
   "source": [
    "#we can alwaws put our code in try expect blocks to handle exceptions\n",
    "try:    \n",
    "    a = int(input(\"Enter a:\"))    \n",
    "    b = int(input(\"Enter b:\"))    \n",
    "    c = a/b  \n",
    "    print(\"a/b = %d\",c)    \n",
    "    # Using exception object with the except statement  \n",
    "except Exception as e:  #general statement to handle different exceptions   \n",
    "    print(\"can't divide by zero\")    \n",
    "    print(e)  \n",
    "else:    \n",
    "    print(\"Hi I am else block\") \n",
    "finally:\n",
    "    print(\"Hi I am finally block\")  "
   ]
  },
  {
   "cell_type": "markdown",
   "id": "c82ae389",
   "metadata": {},
   "source": [
    "### Q2. What happens if you don't do something extra to treat an exception?\n",
    "**Ans:** \n",
    "\n",
    "* Any uncaught exception eventually filters up to the default exception handler Python provides at the top of your program.\n",
    "* This handler prints the familiar error message and shuts down your program."
   ]
  },
  {
   "cell_type": "markdown",
   "id": "5adab9bd",
   "metadata": {},
   "source": [
    "### Q3. What are your options for recovering from an exception in your script?\n",
    "**Ans:** \n",
    "\n",
    "Python provides `try` and `except` statements for recovering from an exception in your script.\n",
    "\n",
    "Exception handling and logging the exceptions are basic ideas that a programmer should follow. Also writing the code in modular fashion helps in easily fidong the errors in end products and logging make it easier for deelopers to resolve the issue at their end."
   ]
  },
  {
   "cell_type": "markdown",
   "id": "d7379d80",
   "metadata": {},
   "source": [
    "### Q4. Describe two methods for triggering exceptions in your script ?\n",
    "**Ans:** \n",
    "\n",
    "An unhandled exception displays an error message and the program suddenly crashes. To avoid such a scenario, there are two methods to handle Python exceptions:\n",
    "\n",
    "`Try` – This method catches the exceptions raised by the program\n",
    "\n",
    "`Raise` – Triggers an exception manually using custom exceptions"
   ]
  },
  {
   "cell_type": "markdown",
   "id": "6335bd5c",
   "metadata": {},
   "source": [
    "### Q5. Identify two methods for specifying actions to be executed at termination time, regardless of whether or not an exception exists.\n",
    "**Ans:** \n",
    "\n",
    "Python Provides `else` and `finally` blocks for specifying actions to be executed at termination time, regardless of whether an exceptions exists or not."
   ]
  }
 ],
 "metadata": {
  "kernelspec": {
   "display_name": "Python 3 (ipykernel)",
   "language": "python",
   "name": "python3"
  },
  "language_info": {
   "codemirror_mode": {
    "name": "ipython",
    "version": 3
   },
   "file_extension": ".py",
   "mimetype": "text/x-python",
   "name": "python",
   "nbconvert_exporter": "python",
   "pygments_lexer": "ipython3",
   "version": "3.9.7"
  }
 },
 "nbformat": 4,
 "nbformat_minor": 5
}
