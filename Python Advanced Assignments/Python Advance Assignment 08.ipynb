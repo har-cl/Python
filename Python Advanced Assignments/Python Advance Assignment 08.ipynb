{
 "cells": [
  {
   "cell_type": "markdown",
   "id": "ce6590a1",
   "metadata": {},
   "source": [
    "# Python Advance Assignment\n",
    "## Assignment - 08 [ FSDS NOV 21 ]"
   ]
  },
  {
   "cell_type": "markdown",
   "id": "efb72245",
   "metadata": {},
   "source": [
    "### Q1. What are the two latest user-defined exception constraints in Python 3.X?\n",
    "**Ans:** \n",
    "\n",
    "* In 3.X, exceptions must be defined by classes (that is, a class instance object is raised and caught). \n",
    "* In addition, exception classes must be derived from the builtin class BaseException; most programs inherit from its Exception subclass, to support catchall handlers for normal kinds of exceptions."
   ]
  },
  {
   "cell_type": "markdown",
   "id": "f1479448",
   "metadata": {},
   "source": [
    "### Q2. How are class-based exceptions that have been raised matched to handlers?\n",
    "**Ans:** \n",
    "\n",
    "A class-based exception can either cancel the current context or allow for a resume. Exceptions are raised using the statement RAISE EXCEPTION and handled using CATCH in a TRY control structure. Class-based exceptions can be raised in any procedures and can be further propagated by any procedures.\n",
    "\n",
    "A common class based and user defined exception in a single program as shown in preious assignments can be division by zero."
   ]
  },
  {
   "cell_type": "markdown",
   "id": "15ce7b10",
   "metadata": {},
   "source": [
    "### Q3. Describe two methods for attaching context information to exception artefacts ?\n",
    "**Ans:** \n",
    "\n",
    "* You can attach context information to class-based exceptions by filling out instance attributes in the instance object raised, usually in a custom class constructor. \n",
    "* For simpler needs, built-in exception superclasses provide a constructor that stores its arguments on the instance automatically (as a tuple in the attribute args). \n",
    "* In exception handlers, you list a variable to be assigned to the raised instance, then go through this name to access attached state information and call any methods defined in the class."
   ]
  },
  {
   "cell_type": "markdown",
   "id": "7fbfd775",
   "metadata": {},
   "source": [
    "### Q4. Describe two methods for specifying the text of an exception object's error message ?\n",
    "**Ans:** \n",
    "\n",
    "**`raise`** and **`assert`** are two methods for specifying the text of an exception object's error message.**`raise`** statement is used to trigger explicit exception, if certain condition is not as per requirement of programmer. it helps in triggering exception as per need of programmer and logic.\n",
    "\n",
    "There are few assertions that programmer always want to be True to avoid code failure. This type of requirment is fullfilled by **`assert`** statement. This statement takes a Boolean Condition output of which if True, further program executes. if output of assert statement is False it raises an **`Assertion Error`**."
   ]
  },
  {
   "cell_type": "markdown",
   "id": "0855de9b",
   "metadata": {},
   "source": [
    "### Q5. Why do you no longer use string-based exceptions?\n",
    "**Ans:** \n",
    "\n",
    "According to recent updates the standard exceptions are Python classes, and a few new standard exceptions have been added. The obsolete AccessError exception has been deleted. Because it is possible (although unlikely) that this change broke existing code, the Python interpreter can be invoked the command line option -X to disable this feature, and use string exceptions like before. This option is a temporary measure - eventually the string-based standard exceptions will be removed from the language altogether. It hasn't been decided whether user-defined string exceptions will be allowed in Python 2.0.\n",
    "\n",
    "String-based Exceptions doesn't inherit from Exceptions. so plain exceptions catch all exceptions and not only system."
   ]
  }
 ],
 "metadata": {
  "kernelspec": {
   "display_name": "Python 3 (ipykernel)",
   "language": "python",
   "name": "python3"
  },
  "language_info": {
   "codemirror_mode": {
    "name": "ipython",
    "version": 3
   },
   "file_extension": ".py",
   "mimetype": "text/x-python",
   "name": "python",
   "nbconvert_exporter": "python",
   "pygments_lexer": "ipython3",
   "version": "3.9.7"
  }
 },
 "nbformat": 4,
 "nbformat_minor": 5
}
