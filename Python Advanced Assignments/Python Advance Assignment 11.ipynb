{
 "cells": [
  {
   "cell_type": "markdown",
   "id": "344e8e27",
   "metadata": {},
   "source": [
    "# Python Advance Assignment\n",
    "## Assignment - 11 [ FSDS NOV 21 ]"
   ]
  },
  {
   "cell_type": "markdown",
   "id": "11489fdc",
   "metadata": {},
   "source": [
    "### Q1. What is the concept of a metaclass?\n",
    "**Ans:** \n",
    "\n",
    "In object-oriented programming, a metaclass is a class whose instances are classes. Just as an ordinary class defines the behavior of certain objects, a metaclass defines the behavior of certain classes and their instances.\n",
    "\n",
    "A Class is also an object, and just like any other object, it’s an instance of something called Metaclass. A special class type creates these Class objects. The type class is default metaclass which is responsible for making classes."
   ]
  },
  {
   "cell_type": "code",
   "execution_count": 1,
   "id": "66b8d085",
   "metadata": {},
   "outputs": [
    {
     "name": "stdout",
     "output_type": "stream",
     "text": [
      "Type of stu_obj is: <class '__main__.Student'>\n"
     ]
    }
   ],
   "source": [
    "class Student:\n",
    "\tpass\n",
    "stu_obj = Student()\n",
    "# Print type of object of Student class\n",
    "print(\"Type of stu_obj is:\", type(stu_obj))\n",
    "# In the above example, if we try to find out the type of Student class, it comes out to be a type."
   ]
  },
  {
   "cell_type": "markdown",
   "id": "a7c66d6f",
   "metadata": {},
   "source": [
    "### Q2. What is the best way to declare a class's metaclass?\n",
    "**Ans:** \n",
    "\n",
    "A way to declare a class’ metaclass is by using **`metaclass`** keyword in class definition."
   ]
  },
  {
   "cell_type": "code",
   "execution_count": 2,
   "id": "e1a13053",
   "metadata": {},
   "outputs": [
    {
     "name": "stdout",
     "output_type": "stream",
     "text": [
      "True\n",
      "True\n",
      "True\n"
     ]
    }
   ],
   "source": [
    "n = 5\n",
    "d = { 'x' : 1, 'y' : 2 }\n",
    "class Foo:\n",
    "     pass\n",
    "x = Foo()\n",
    "for obj in (n, d, x):\n",
    "  print(type(obj) is obj.__class__)"
   ]
  },
  {
   "cell_type": "markdown",
   "id": "938e3147",
   "metadata": {},
   "source": [
    "### Q3. How do class decorators overlap with metaclasses for handling classes ?\n",
    "**Ans:** \n",
    "\n",
    "Decorators are much, much simpler and more limited and therefore should be preferred whenever the desired effect can be achieved with either a metaclass or a class decorator.\n",
    "\n",
    "we can do anything with a class decorator, we can of course do with a custom metaclass (just apply the functionality of the \"decorator function\", i.e., the one that takes a class object and modifies it, in the course of the metaclass's __new__ or __init__ that make the class object.\n",
    "\n",
    "The same applies to all magic methods, i.e., to all kinds of operations as applied to the class object itself (as opposed to, ones applied to its instances, which use magic methods as defined in the class operations on the class object itself use magic methods as defined in the metaclass)."
   ]
  },
  {
   "cell_type": "markdown",
   "id": "3f57ffac",
   "metadata": {},
   "source": [
    "### Q4. How do class decorators overlap with metaclasses for handling instances?\n",
    "**Ans:**  \n",
    "\n",
    "Anything you can do with a class decorator, you can of course do with a custom metaclass (just apply the functionality of the \"decorator function\", i.e., the one that takes a class object and modifies it, in the course of the metaclass's **`__new__`** or **`__init__`** that make the class object!)."
   ]
  }
 ],
 "metadata": {
  "kernelspec": {
   "display_name": "Python 3 (ipykernel)",
   "language": "python",
   "name": "python3"
  },
  "language_info": {
   "codemirror_mode": {
    "name": "ipython",
    "version": 3
   },
   "file_extension": ".py",
   "mimetype": "text/x-python",
   "name": "python",
   "nbconvert_exporter": "python",
   "pygments_lexer": "ipython3",
   "version": "3.9.7"
  }
 },
 "nbformat": 4,
 "nbformat_minor": 5
}
