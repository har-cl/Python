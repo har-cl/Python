{
 "cells": [
  {
   "cell_type": "markdown",
   "id": "b7b2ee9a",
   "metadata": {},
   "source": [
    "# Python Advance Assignment\n",
    "## Assignment - 12 [ FSDS NOV 21 ]"
   ]
  },
  {
   "cell_type": "markdown",
   "id": "096440ca",
   "metadata": {},
   "source": [
    "### Q1. Does assigning a value to a string's indexed character violate Python's string immutability ?\n",
    "**Ans:**  \n",
    "\n",
    "In Python, strings are made immutable so that programmers cannot alter the contents of the object (even by mistake). This avoids unnecessary bugs. we can assign a value to a string's indexed character it doesn't violate Python's string immutability because for ding that we first have to split the string word into characters which leaves us with simple character string we can replace it easily with some other character but still it will be string even if the replaced value will be an interger or floting number or anything."
   ]
  },
  {
   "cell_type": "code",
   "execution_count": 1,
   "id": "9a3d0174",
   "metadata": {},
   "outputs": [
    {
     "name": "stdout",
     "output_type": "stream",
     "text": [
      "1s\n",
      "<class 'str'>\n"
     ]
    }
   ],
   "source": [
    "#Example:\n",
    "str = \"as\"\n",
    "print(str.replace(\"a\",\"1\"))\n",
    "print(type(str.replace(\"a\",\"1\")))"
   ]
  },
  {
   "cell_type": "markdown",
   "id": "b16a1f3f",
   "metadata": {},
   "source": [
    "### Q2. Does using the += operator to concatenate strings violate Python's string immutability? Why or why not ?\n",
    "**Ans:**  \n",
    "\n",
    "**`+=`** operator is used to concatenate strings, it does not violate Python’s string immutability Property. Because doing so new creates a new association with data and variable. E.g. `str_1=\"a\"` and `str_1+=\"b`. effect of this statements to create string `ab` and reassign it to variable `str_1`, any string data is not actually modified. "
   ]
  },
  {
   "cell_type": "code",
   "execution_count": 1,
   "id": "85e75136",
   "metadata": {},
   "outputs": [
    {
     "name": "stdout",
     "output_type": "stream",
     "text": [
      "2664305477256\n",
      "2664345250032\n"
     ]
    }
   ],
   "source": [
    "str_1 = 'a'\n",
    "print(id(str_1))\n",
    "str_1 += 'b'\n",
    "print(id(str_1)) # Does not Modify existing string, Creates a New String Object"
   ]
  },
  {
   "cell_type": "markdown",
   "id": "76ec588b",
   "metadata": {},
   "source": [
    "### Q3. In Python, how many different ways are there to index a character?\n",
    "**Ans:** \n",
    "\n",
    "Each of a string's characters corresponds to an index number and each character can be accessed using their index number. We can access characters in a String in Two ways : \n",
    "- Accessing Characters by Positive Index Number. \n",
    "- Accessing Characters by Negative Index Number."
   ]
  },
  {
   "cell_type": "markdown",
   "id": "c3b59e35",
   "metadata": {},
   "source": [
    "### Q4. What is the relationship between indexing and slicing?\n",
    "**Ans:** \n",
    "\n",
    "We can access elements of sequence datatypes by using slicing and indexing. Indexing is used to obtaining individual element while slicing for sequence of elements."
   ]
  },
  {
   "cell_type": "markdown",
   "id": "a942747b",
   "metadata": {},
   "source": [
    "### Q5. What is an indexed character's exact data type? What is the data form of a slicing-generated substring?\n",
    "**Ans:** \n",
    "\n",
    "Indexed characters and sliced substrings have datatype **String**. "
   ]
  },
  {
   "cell_type": "code",
   "execution_count": 4,
   "id": "20fe9f03",
   "metadata": {},
   "outputs": [
    {
     "name": "stdout",
     "output_type": "stream",
     "text": [
      "<class 'str'>\n",
      "<class 'str'>\n"
     ]
    }
   ],
   "source": [
    "in_string = \"iNeuron Full Stack Data Science\"\n",
    "print(type(in_string[3])) # Indexing -> str\n",
    "print(type(in_string[1:10])) # Indexing -> str"
   ]
  },
  {
   "cell_type": "markdown",
   "id": "2b61703e",
   "metadata": {},
   "source": [
    "### Q6. What is the relationship between string and character \"types\" in Python?\n",
    "**Ans:** \n",
    "\n",
    "In Python, Strings are arrays of bytes representing Unicode characters. However, Python does not have a character data type, a single character is simply a string with a length of 1. Square brackets can be used to access elements of the string."
   ]
  },
  {
   "cell_type": "markdown",
   "id": "7c5362fc",
   "metadata": {},
   "source": [
    "### Q7. Identify at least two operators & one method that allow you to combine one or more smaller strings to create a larger string ?\n",
    "**Ans:** \n",
    "\n",
    "**`+`**, **`+=`** and **`*`** allow to combine one or more smaller strings to create a larger string. **`<string>.join(<sep>)`** method joins element of iterable type like list and tuple to get a combined string. "
   ]
  },
  {
   "cell_type": "markdown",
   "id": "f0e842af",
   "metadata": {},
   "source": [
    "### Q8. What is the benefit of first checking the target string with in or not in before using the index method to find a substring ?\n",
    "**Ans:** \n",
    "\n",
    "Checking the target string with **`in`** or **`not`** Operators before using the index method to find a  substring just helps confirming availability of substring and thus avoid raising of **`ValueError.`**  \n",
    "**`Example:`**    \n",
    "`in_string = \"ineuron\"`  \n",
    "`in_string.index('x') # Raises ValueError`  \n",
    "`in_string.index('u') # 3`  "
   ]
  },
  {
   "cell_type": "markdown",
   "id": "86b6bc76",
   "metadata": {},
   "source": [
    "### Q9. Which operators and built-in string methods produce simple Boolean (true/false) results?\n",
    "**Ans:** \n",
    "\n",
    "operators : = , < , >\n",
    "\n",
    "methods: bool()"
   ]
  }
 ],
 "metadata": {
  "kernelspec": {
   "display_name": "Python 3 (ipykernel)",
   "language": "python",
   "name": "python3"
  },
  "language_info": {
   "codemirror_mode": {
    "name": "ipython",
    "version": 3
   },
   "file_extension": ".py",
   "mimetype": "text/x-python",
   "name": "python",
   "nbconvert_exporter": "python",
   "pygments_lexer": "ipython3",
   "version": "3.9.7"
  }
 },
 "nbformat": 4,
 "nbformat_minor": 5
}
