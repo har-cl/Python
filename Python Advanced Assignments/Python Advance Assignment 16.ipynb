{
 "cells": [
  {
   "cell_type": "markdown",
   "id": "1b34bd2a",
   "metadata": {},
   "source": [
    "# Python Advance Assignment\n",
    "## Assignment - 16 [ FSDS NOV 21 ]"
   ]
  },
  {
   "cell_type": "markdown",
   "id": "f8313cc0",
   "metadata": {},
   "source": [
    "### Q1. What is the benefit of regular expressions?\n",
    "**Ans:** \n",
    "\n",
    "A regular expression is a special sequence of characters that helps us to match or find other strings or sets of strings, using a specialized syntax held in a pattern. Regular expressions are widely used in UNIX world.\n",
    "The Python module re provides full support for Perl-like regular expressions in Python. The re module raises the exception re.error if an error occurs while compiling or using a regular expression.\n",
    "\n",
    "\n",
    "Regular Expressions, also known as `regex` or `regexp`, are used to match strings of text such as particular characters, words, or patterns of characters. It means that we can match and extract any string pattern from the text with the help of regular expressions. it helps the programmers to Write less and cleaner code. it also avoids multiple use of `if/else` statements."
   ]
  },
  {
   "cell_type": "markdown",
   "id": "3ec69ca0",
   "metadata": {},
   "source": [
    "### Q2. Describe the difference between the effects of \"(ab)c+\" and \"a(bc)+\" Which of these, if any, is the unqualified pattern \"abc+\"?\n",
    "**Ans:** \n",
    "\n",
    "The result of both of them will be basically computed using the BOADMAS rule according to mathematics so results will be different in both case. taking in terms of regular espressions it causes the resulting RE to match 1 or more repetitions of the preceding RE. (ab)c+ will match ‘ab’ followed by any non-zero number of ‘c’s; it will not match just ‘ab’. similarly for a(bc)+ it will match ‘a’ followed by any non-zero number of ‘bc’s; it will not match just ‘a’. `(ab)c+` and `a(bc)+` are valid patterns. the difference between both these patterns is in `(ab)c+` `ab` is group whereas in `a(bc)+` `bc` is a group."
   ]
  },
  {
   "cell_type": "markdown",
   "id": "2b4c8728",
   "metadata": {},
   "source": [
    "### Q3. How much do you need to use the following sentence while using regular expressions?\n",
    "**`import re`**  \n",
    "\n",
    "**Ans:** \n",
    "\n",
    "**`import re`** statement always has to be imported before using regular expressions."
   ]
  },
  {
   "cell_type": "markdown",
   "id": "2338be46",
   "metadata": {},
   "source": [
    "### Q4. Which characters have special significance in square brackets when expressing a range, and under what circumstances?\n",
    "**Ans:** \n",
    "\n",
    "Square brackets ([ ]) designate a character class and match a single character in the string. Inside a character class, only the character class metacharacters (backslash, circumflex anchor and hyphen) have special meaning.\n",
    "\n",
    "we must use a backslash when we use character class metacharacters as literals inside a character class only. Square brackets that are used as literals must always be escaped with backslash, both inside and outside a character class."
   ]
  },
  {
   "cell_type": "code",
   "execution_count": 1,
   "id": "05d0ec2b",
   "metadata": {},
   "outputs": [],
   "source": [
    "# For example, [[abc] should be written: [\\[abc]"
   ]
  },
  {
   "cell_type": "markdown",
   "id": "bc0c3bef",
   "metadata": {},
   "source": [
    "### Q5. How does compiling a regular-expression object benefit you?\n",
    "**Ans:** \n",
    "\n",
    "We can Combine a regular expression pattern into pattern Objects.Which can be used for pattern matching. it also helps to search a pattern again without rewritting it."
   ]
  },
  {
   "cell_type": "markdown",
   "id": "c2885976",
   "metadata": {},
   "source": [
    "### Q6. What are some examples of how to use the match object returned by re.match and re.search?\n",
    "**Ans:** \n",
    "\n",
    "The `re.search()` and `re.match()` both are functions of re module in python. These functions are very efficient and fast for searching in strings. The function searches for some substring in a string and returns a match object if found, else it returns none.\n",
    "\n",
    "There is a difference between the use of both functions. Both return the first match of a substring found in the string, but `re.match()` searches only from the beginning of the string and return match object if found. But if a match of substring is found somewhere in the middle of the string, it returns none. \n",
    "\n",
    "While `re.search()` searches for the whole string even if the string contains multi-lines and tries to find a match of the substring in all the lines of string"
   ]
  },
  {
   "cell_type": "markdown",
   "id": "babed21c",
   "metadata": {},
   "source": [
    "### Q7. What is the difference between using a vertical bar (|) as an alteration and using square brackets as a character set?\n",
    "**Ans:** \n",
    "\n",
    "The vertical bar is a regex \"or\" means \"a or b\"\n",
    "\n",
    "Square brackets are a character class meaning \"any character from a or b.\n",
    "\n",
    "Character class is a shorthand for \"or\". From this explanation\n",
    "\n",
    "If we want to match an a or an e use [ae]\n",
    "\n",
    "A character class matches only a single character.\n",
    "\n",
    "we can also use hyphen to specify a range such as [0-9] or [a-e]"
   ]
  },
  {
   "cell_type": "markdown",
   "id": "aad2feb4",
   "metadata": {},
   "source": [
    "### Q8. In regular-expression search patterns, why is it necessary to use the raw-string indicator (r)? In   replacement strings?\n",
    "**Ans:**\n",
    "\n",
    "\"Regular expressions use the backslash character ('\\') to indicate special forms or to allow special characters to be used without invoking their special meaning. This collides with Python’s usage of the same character for the same purpose in string literals\"\n",
    "\n",
    "If we want a Python regular expression object which matches a newline character, then we need a 2-character string, consisting of the backslash character followed by the n character. The following lines of code all set prog to a regular expression object which recognises a newline character:\n",
    "\n",
    "prog = re.compile(\"\\\\n\")\n",
    "\n",
    "prog = re.compile(r\"\\n\")"
   ]
  }
 ],
 "metadata": {
  "kernelspec": {
   "display_name": "Python 3 (ipykernel)",
   "language": "python",
   "name": "python3"
  },
  "language_info": {
   "codemirror_mode": {
    "name": "ipython",
    "version": 3
   },
   "file_extension": ".py",
   "mimetype": "text/x-python",
   "name": "python",
   "nbconvert_exporter": "python",
   "pygments_lexer": "ipython3",
   "version": "3.9.7"
  }
 },
 "nbformat": 4,
 "nbformat_minor": 5
}
