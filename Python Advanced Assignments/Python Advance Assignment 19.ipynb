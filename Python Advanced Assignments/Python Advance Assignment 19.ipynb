{
 "cells": [
  {
   "cell_type": "markdown",
   "id": "cc53963e",
   "metadata": {},
   "source": [
    "# Python Advance Assignment\n",
    "## Assignment - 19 [ FSDS NOV 21 ]"
   ]
  },
  {
   "cell_type": "markdown",
   "id": "20fe32ca",
   "metadata": {},
   "source": [
    "### Q1. Define the relationship between a class and its instances. Is it a one-to-one or a one-to-many partnership, for example?\n",
    "**Ans:** \n",
    "\n",
    "A class is a blueprint which you use to create objects. An object is an instance of a class - it's a concrete 'thing' that you made using a specific class. So, 'object' and 'instance' are the same thing, but the word 'instance' indicates the relationship of an object to its class. a single object of a class can access multille functions defiend in the class in form of ine to many relationships.\n",
    "\n",
    "Relationship between a class and its instances is a one to many partnership."
   ]
  },
  {
   "cell_type": "markdown",
   "id": "a3998f76",
   "metadata": {},
   "source": [
    "### Q2. What kind of data is held only in an instance?\n",
    "**Ans:** \n",
    "\n",
    "If the value of a variable varies from object to object, then such variables are called instance variables. For every object, a separate copy of the instance variable will be created. Instance variables are not shared by objects.\n",
    "\n",
    "Instance objects contains the Instance variables which are specific to that specific Instance object."
   ]
  },
  {
   "cell_type": "markdown",
   "id": "3bc4acfe",
   "metadata": {},
   "source": [
    "### Q3. What kind of knowledge is stored in a class?\n",
    "**Ans:** \n",
    "\n",
    "Class creates a user-defined data structure, which holds its own data members and member functions, which can be accessed and used by creating an instance of that class. A class is like a blueprint for an object."
   ]
  },
  {
   "cell_type": "markdown",
   "id": "d6c2ef9c",
   "metadata": {},
   "source": [
    "### Q4. What exactly is a method, and how is it different from a regular function?\n",
    "**Ans:** \n",
    "\n",
    "The methods with a class can be used to access the insatnce variables of its instance. So,the object's state can be modified by its method. Function can't access the attributes of an instance of a class or can't modify the state of the object."
   ]
  },
  {
   "cell_type": "markdown",
   "id": "471e1689",
   "metadata": {},
   "source": [
    "### Q5. Is inheritance supported in Python, and if so, what is the syntax?\n",
    "**Ans:** \n",
    "\n",
    "Yes,Python supports inheritance. "
   ]
  },
  {
   "cell_type": "code",
   "execution_count": 1,
   "id": "63b31180",
   "metadata": {},
   "outputs": [
    {
     "name": "stdout",
     "output_type": "stream",
     "text": [
      "iNeuron Company was established in 2018\n"
     ]
    }
   ],
   "source": [
    "#single level inheritence\n",
    "class Ineuron:\n",
    "    company_website = 'https://ineuron.ai/'\n",
    "    name = 'iNeuron'\n",
    " \n",
    "    def contact_details(self):\n",
    "        print('Contact us at ', self.company_website)\n",
    " \n",
    " \n",
    "class Datascience(Ineuron):\n",
    "    def __init__(self):\n",
    "        self.year_of_establishment= 2018\n",
    " \n",
    "    def est_details(self):\n",
    "        print('{0} Company was established in {1}'\n",
    "              .format(self.name,self.year_of_establishment))\n",
    " \n",
    " \n",
    "ds = Datascience()\n",
    "ds.est_details()"
   ]
  },
  {
   "cell_type": "markdown",
   "id": "1f2a9517",
   "metadata": {},
   "source": [
    "### Q6. How much encapsulation (making instance or class variables private) does Python support?\n",
    "**Ans:** \n",
    "\n",
    "Encapsulation describes the idea of wrapping data and the methods that work on data within one unit. This puts restrictions on accessing variables and methods directly and can prevent the accidental modification of data. To prevent accidental change, an objects variable can only be changed by an objects method."
   ]
  },
  {
   "cell_type": "markdown",
   "id": "c0de33d4",
   "metadata": {},
   "source": [
    "### Q7. How do you distinguish between a class variable and an instance variable?\n",
    "**Ans:**\n",
    "\n",
    "`Class Variable:` It usually maintains a single shared value for all instances of class even if no instance object of the class exists.\n",
    "\n",
    "`Instance Variable:`\n",
    "It usually reserves memory for data that the class needs."
   ]
  },
  {
   "cell_type": "markdown",
   "id": "65768276",
   "metadata": {},
   "source": [
    "### Q8. When, if ever, can self be included in a class's method definitions?\n",
    "**Ans:**\n",
    "\n",
    "Yes, self can included in class method definations to access the instance variables inside class methods."
   ]
  },
  {
   "cell_type": "markdown",
   "id": "ae7c6bbf",
   "metadata": {},
   "source": [
    "### Q9. What is the difference between the `__add__` and the `__radd__` methods ?\n",
    "**Ans:** \n",
    "\n",
    "Entering `__radd__` Python will first try `__add__()`, and if that returns Not Implemented Python will check if the right-hand operand implements `__radd__`, and if it does, it will call `__radd__()` rather than raising a `TypeError`"
   ]
  },
  {
   "cell_type": "markdown",
   "id": "5eae7542",
   "metadata": {},
   "source": [
    "### Q10. When is it necessary to use a reflection method? When do you not need it, even though you support the operation in question?\n",
    "**Ans:** \n",
    "\n",
    "Reflection method we often encounter the requirement that a method in the executing object, or a variable in the calling object, or a field of the object should be assigned, while the method name or field name can not be determined when encoding the code, and need to be input in the form of passing strings through parameters."
   ]
  },
  {
   "cell_type": "markdown",
   "id": "98aac547",
   "metadata": {},
   "source": [
    "### Q11. What is the `__iadd__` method called?\n",
    "**Ans:** \n",
    "\n",
    "`__iadd__` method is called when we use implementation like a+=b which is `a.__iadd__(b)`"
   ]
  },
  {
   "cell_type": "markdown",
   "id": "f6c3908c",
   "metadata": {},
   "source": [
    "### Q12. Is the `_ _init_ _` method inherited by subclasses? What do you do if you need to customize its behavior within a subclass ?\n",
    "**Ans:**\n",
    "\n",
    "In Python, it is not compulsory that parent class constructor will always be called first. The order in which the `__init__` method is called for a parent or a child class can be modified.\n",
    "\n",
    "A subclass can do more than that; it can define a method that has exactly the same method signature (name and argument types) as a method in its superclass. In that case, the method in the subclass overrides the method in the superclass and effectively replaces its implementation."
   ]
  }
 ],
 "metadata": {
  "kernelspec": {
   "display_name": "Python 3 (ipykernel)",
   "language": "python",
   "name": "python3"
  },
  "language_info": {
   "codemirror_mode": {
    "name": "ipython",
    "version": 3
   },
   "file_extension": ".py",
   "mimetype": "text/x-python",
   "name": "python",
   "nbconvert_exporter": "python",
   "pygments_lexer": "ipython3",
   "version": "3.9.7"
  }
 },
 "nbformat": 4,
 "nbformat_minor": 5
}
