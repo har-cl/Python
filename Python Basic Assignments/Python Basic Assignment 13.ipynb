{
 "cells": [
  {
   "cell_type": "markdown",
   "id": "e3bb5f2d",
   "metadata": {},
   "source": [
    "# Python Basic Assignment\n",
    "## Assignment - 13 [ FSDS NOV 21 ]"
   ]
  },
  {
   "cell_type": "markdown",
   "id": "d8aab80a",
   "metadata": {},
   "source": [
    "### 1. What advantages do Excel spreadsheets have over CSV spreadsheets?\n",
    "**Ans:** \n",
    "\n",
    "The Advantages of Excel over CSV are:\n",
    "\n",
    "1. Excel (XLS and XLSX) file formats are better for storing and analysing complex data.\n",
    "2. An Excel not only stores data but can also do operations on the data using macros, formulas etc\n",
    "3. CSV files are plain-text files, Does not contain formatting, formulas, VBA coding ,macros, etc. It is also known as flat files\n",
    "4. Excel files are more portable than CSV files.\n",
    "5. Excel files are more readable than CSV files.\n",
    "6. Reading large data sets is considerably easier for the end-user to read, digest, and understand.\n",
    "7. Excel a binary file that holds information about all the worksheets in a workbook\n",
    "8. An Excel not only stores data but can also do operations on the data\n",
    "9. Files saved in excel cannot be opened or edited by text editors\n",
    "10. large files user is much easier in Excel for the end user. Also,\n",
    "    you can have additional functions like selecting individual cells for import,\n",
    "    convert dates and time automatically, reading formulas and their results, filters, sorting, etc\n",
    "11. Apart from text, data can also be stored in form of charts and graphs\n",
    "12. Excel can connect to external data sources to fetch data. You can use custom add-in in Excel to increase its functionality.\n",
    "13. Excel allows for Review of Data with detailed tracking and commenting feature\n",
    "14. In Excel, spreadsheets can have values of data types other than strings; cells can have different fonts, sizes,\n",
    "    or color settings; cells can have varying widths and heights; adjacent cells can be merged\n",
    "\n"
   ]
  },
  {
   "cell_type": "markdown",
   "id": "b66e958d",
   "metadata": {},
   "source": [
    "### 2.What do you pass to csv.reader() and csv.writer() to create reader and writer objects?"
   ]
  },
  {
   "cell_type": "code",
   "execution_count": 1,
   "id": "e7c67268",
   "metadata": {},
   "outputs": [
    {
     "name": "stdout",
     "output_type": "stream",
     "text": [
      "['name,department,birthday month']\n",
      "['John Smith,Accounting,November']\n",
      "['Erica Meyers,IT,March']\n"
     ]
    }
   ],
   "source": [
    "import csv\n",
    "with open('text.csv','r') as file:\n",
    "    csv_file = csv.reader(file,delimiter=',')\n",
    "    for ele in csv_file:\n",
    "        print(ele)"
   ]
  },
  {
   "cell_type": "markdown",
   "id": "c3478f56",
   "metadata": {},
   "source": [
    "### 3. What modes do File objects for reader and writer objects need to be opened in?\n",
    "**Ans:** \n",
    "\n",
    "For `csv.reader(iterable_file_object)`, the file objects needed to be opened in `read` mode `mode='r'` Whereas for `csv.writer(iterable_file_object)` the file objects needed to be opened in `write` mode `mode='w'`\n"
   ]
  },
  {
   "cell_type": "markdown",
   "id": "c2f017ec",
   "metadata": {},
   "source": [
    "### 4. What method takes a list argument and writes it to a CSV file?\n",
    "**Ans:** \n",
    "\n",
    "csv.writer class provides two methods for writing to CSV. They are `writerow()` and `writerows().` writerow() method writes a single row at a time. Whereas writerows() method is used to write multiple rows at a time."
   ]
  },
  {
   "cell_type": "code",
   "execution_count": 2,
   "id": "3a3e46b5",
   "metadata": {},
   "outputs": [],
   "source": [
    "# Example Program\n",
    "import csv\n",
    "fields = ['ID', 'Course', 'Days']  # column names\n",
    "rows = [\n",
    "    ['001', 'basic', '10'],  # data rows of csv file\n",
    "    ['002', 'programming', '10'],\n",
    "    ['003', 'ML', '20']\n",
    "]\n",
    "with open(\"iNeuron.csv\", 'w') as csvfile:\n",
    "    csvwriter = csv.writer(csvfile)  # creating a csv writer object\n",
    "    csvwriter.writerow(fields)  # writing the fields\n",
    "    csvwriter.writerows(rows)  # writing the data rows"
   ]
  },
  {
   "cell_type": "markdown",
   "id": "68179164",
   "metadata": {},
   "source": [
    "### 5. What do the keyword arguments delimiter and line terminator do?\n",
    "**Ans:** \n",
    "\n",
    "Lets take the example of a csv file:\n",
    "\n",
    "```csv\n",
    "0,x,1\n",
    "1,a,2\n",
    "2,c,3\n",
    "```\n",
    "\n",
    "Here `','` is Delimiter. We can use any Character as per our needs if required. Line Terminator comes at end of line by default it is newline and can be changed accourding to Requirement."
   ]
  },
  {
   "cell_type": "markdown",
   "id": "94752f89",
   "metadata": {},
   "source": [
    "### 6. What function takes a string of JSON data and returns a Python data structure?\n",
    "**Ans:** \n",
    "\n",
    "`loads()` method takes a string of JSON data and returns a Python data structure"
   ]
  },
  {
   "cell_type": "code",
   "execution_count": 3,
   "id": "cf976f3f",
   "metadata": {},
   "outputs": [
    {
     "name": "stdout",
     "output_type": "stream",
     "text": [
      "{\n",
      "    \"course\": \"Data Science\",\n",
      "    \"price\": \"17000\",\n",
      "    \"days\": \"1year\",\n",
      "    \"type\": [\"online\", \"offline\"]\n",
      "}\n",
      "Type of course_details is <class 'str'>\n",
      "{'course': 'Data Science', 'price': '17000', 'days': '1year', 'type': ['online', 'offline']}\n",
      "Type of my_details is <class 'dict'>\n"
     ]
    }
   ],
   "source": [
    "# Example of json.loads() method\n",
    "import json\n",
    "course_details ='''{\n",
    "    \"course\": \"Data Science\",\n",
    "    \"price\": \"17000\",\n",
    "    \"days\": \"1year\",\n",
    "    \"type\": [\"online\", \"offline\"]\n",
    "}'''\n",
    "print(course_details)\n",
    "print(f'Type of course_details is {type(course_details)}')\n",
    "my_details = json.loads(course_details)\n",
    "print(my_details)\n",
    "print(f'Type of my_details is {type(my_details)}')\n",
    "\n"
   ]
  },
  {
   "cell_type": "markdown",
   "id": "bc39716d",
   "metadata": {},
   "source": [
    "### 7. What function takes a Python data structure and returns a string of JSON data?\n",
    "**Ans:**\n",
    "\n",
    "`dumps()` method takes a python data structure and returns a string of JSON data"
   ]
  },
  {
   "cell_type": "code",
   "execution_count": 4,
   "id": "5125a827",
   "metadata": {},
   "outputs": [
    {
     "name": "stdout",
     "output_type": "stream",
     "text": [
      "{'course': 'Data Science', 'price': '17000', 'days': '1year', 'type': ['online', 'offline']}\n",
      "Type of course_details is <class 'dict'>\n",
      "{\n",
      "    \"course\": \"Data Science\",\n",
      "    \"days\": \"1year\",\n",
      "    \"price\": \"17000\",\n",
      "    \"type\": [\n",
      "        \"online\",\n",
      "        \"offline\"\n",
      "    ]\n",
      "}\n",
      "Type of course_details_json is <class 'str'>\n"
     ]
    }
   ],
   "source": [
    "# Example of json.dumps() method\n",
    "import json\n",
    "course_details = {\n",
    "    \"course\": \"Data Science\",\n",
    "    \"price\": \"17000\",\n",
    "    \"days\": \"1year\",\n",
    "    \"type\": [\"online\", \"offline\"]\n",
    "}\n",
    "print(course_details)\n",
    "print(f'Type of course_details is {type(course_details)}')\n",
    "course_details_json = json.dumps(course_details, indent=4, sort_keys=True)\n",
    "print(course_details_json)\n",
    "print(f'Type of course_details_json is {type(course_details_json)}')"
   ]
  }
 ],
 "metadata": {
  "kernelspec": {
   "display_name": "Python 3 (ipykernel)",
   "language": "python",
   "name": "python3"
  },
  "language_info": {
   "codemirror_mode": {
    "name": "ipython",
    "version": 3
   },
   "file_extension": ".py",
   "mimetype": "text/x-python",
   "name": "python",
   "nbconvert_exporter": "python",
   "pygments_lexer": "ipython3",
   "version": "3.9.7"
  }
 },
 "nbformat": 4,
 "nbformat_minor": 5
}
