{
 "cells": [
  {
   "cell_type": "markdown",
   "id": "984b4513",
   "metadata": {},
   "source": [
    "# Python Basic Assignment\n",
    "## Assignment - 21 [ FSDS NOV 21 ]"
   ]
  },
  {
   "cell_type": "markdown",
   "id": "4fe8b19e",
   "metadata": {},
   "source": [
    "### 1. Add the current date to the text file today.txt as a string."
   ]
  },
  {
   "cell_type": "code",
   "execution_count": 7,
   "id": "4c5ad5ac",
   "metadata": {},
   "outputs": [
    {
     "name": "stdout",
     "output_type": "stream",
     "text": [
      "26-08-2022\n"
     ]
    }
   ],
   "source": [
    "import datetime\n",
    "# Code to Add current date to the today.txt file\n",
    "file = open('today.txt','w')\n",
    "file.write(datetime.datetime.now().strftime(\"%d-%m-%Y\"))\n",
    "file.close()\n",
    "# Code to Read current date from today.txt file\n",
    "file = open('today.txt','r')\n",
    "print(file.read())\n",
    "file.close()"
   ]
  },
  {
   "cell_type": "markdown",
   "id": "6cf23762",
   "metadata": {},
   "source": [
    "### 2. Read the text file today.txt into the string today_string"
   ]
  },
  {
   "cell_type": "code",
   "execution_count": 8,
   "id": "107143ea",
   "metadata": {},
   "outputs": [
    {
     "name": "stdout",
     "output_type": "stream",
     "text": [
      "26-08-2022\n"
     ]
    }
   ],
   "source": [
    "file = open('today.txt','r')\n",
    "today_string = file.read()\n",
    "print(today_string)"
   ]
  },
  {
   "cell_type": "markdown",
   "id": "165addb6",
   "metadata": {},
   "source": [
    "### 3. Parse the date from today_string."
   ]
  },
  {
   "cell_type": "code",
   "execution_count": 9,
   "id": "c622da5b",
   "metadata": {},
   "outputs": [
    {
     "name": "stdout",
     "output_type": "stream",
     "text": [
      "2022-08-26 00:00:00\n"
     ]
    }
   ],
   "source": [
    "from datetime import datetime\n",
    "parsed_data = datetime.strptime(today_string, '%d-%m-%Y')\n",
    "print(parsed_data)"
   ]
  },
  {
   "cell_type": "markdown",
   "id": "664d3278",
   "metadata": {},
   "source": [
    "### 4. List the files in your current directory"
   ]
  },
  {
   "cell_type": "code",
   "execution_count": 10,
   "id": "cbacd0e4",
   "metadata": {},
   "outputs": [
    {
     "name": "stdout",
     "output_type": "stream",
     "text": [
      "Python Basic Assignment 01.ipynb\n",
      "Python Basic Assignment 25.ipynb\n",
      "Python Basic Assignment 18.ipynb\n",
      "iNeuron.csv\n",
      "Python Basic Assignment 03.ipynb\n",
      "Python Basic Assignment 07.ipynb\n",
      ".DS_Store\n",
      "Python Basic Assignment 23.ipynb\n",
      "Python Basic Assignment 21.ipynb\n",
      "Python Basic Assignment 05.ipynb\n",
      "Untitled.ipynb\n",
      "today.txt\n",
      "Python Basic Assignment 02.ipynb\n",
      "zoo.py\n",
      "Python Basic Assignment 19.ipynb\n",
      "Python Basic Assignment 24.ipynb\n",
      "Python Basic Assignment 20.ipynb\n",
      "Python Basic Assignment 04.ipynb\n",
      "Python Basic Assignment 06.ipynb\n",
      "Python Basic Assignment 22.ipynb\n",
      "Python Basic Assignment 13.ipynb\n",
      "log.txt\n",
      "Python Basic Assignment 08.ipynb\n",
      "books.csv\n",
      "Python Basic Assignment 11.ipynb\n",
      "Python Basic Assignment 15.ipynb\n",
      "Python Basic Assignment 17.ipynb\n",
      "Python Basic Assignment 09.ipynb\n",
      "test.txt\n",
      "Python Basic Assignment 10.ipynb\n",
      "Python Basic Assignment 12.ipynb\n",
      "Python Basic Assignment 16.ipynb\n",
      "Python Basic Assignment 14.ipynb\n",
      "Python Basic Assignment 06-checkpoint.ipynb\n",
      "Python Basic Assignment 19-checkpoint.ipynb\n",
      "Python Basic Assignment 12-checkpoint.ipynb\n",
      "Python Basic Assignment 16-checkpoint.ipynb\n",
      "Python Basic Assignment 09-checkpoint.ipynb\n",
      "Python Basic Assignment 23-checkpoint.ipynb\n",
      "Python Basic Assignment 02-checkpoint.ipynb\n",
      "Python Basic Assignment 18-checkpoint.ipynb\n",
      "Python Basic Assignment 07-checkpoint.ipynb\n",
      "Python Basic Assignment 13-checkpoint.ipynb\n",
      "Python Basic Assignment 08-checkpoint.ipynb\n",
      "Python Basic Assignment 17-checkpoint.ipynb\n",
      "Python Basic Assignment 03-checkpoint.ipynb\n",
      "Python Basic Assignment 22-checkpoint.ipynb\n",
      "Python Basic Assignment 10-checkpoint.ipynb\n",
      "Python Basic Assignment 25-checkpoint.ipynb\n",
      "Python Basic Assignment 04-checkpoint.ipynb\n",
      "Python Basic Assignment 21-checkpoint.ipynb\n",
      "Python Basic Assignment 14-checkpoint.ipynb\n",
      "Untitled-checkpoint.ipynb\n",
      "Python Basic Assignment 11-checkpoint.ipynb\n",
      "Python Basic Assignment 05-checkpoint.ipynb\n",
      "Python Basic Assignment 24-checkpoint.ipynb\n",
      "Python Basic Assignment 20-checkpoint.ipynb\n",
      "Python Basic Assignment 01-checkpoint.ipynb\n",
      "Python Basic Assignment 15-checkpoint.ipynb\n"
     ]
    }
   ],
   "source": [
    "import os\n",
    "for folders, subfolders, files in os.walk(os.getcwd()):\n",
    "    for file in files:\n",
    "        print(file)"
   ]
  },
  {
   "cell_type": "markdown",
   "id": "291a203b",
   "metadata": {},
   "source": [
    "### 5. Create a list of all of the files in your parent directory (minimum five files should be available)."
   ]
  },
  {
   "cell_type": "code",
   "execution_count": 11,
   "id": "efe9618b",
   "metadata": {},
   "outputs": [
    {
     "data": {
      "text/plain": [
       "['Python Basic Assignment 01.ipynb',\n",
       " 'Python Basic Assignment 25.ipynb',\n",
       " 'Python Basic Assignment 18.ipynb',\n",
       " 'iNeuron.csv',\n",
       " 'Python Basic Assignment 03.ipynb',\n",
       " 'Python Basic Assignment 07.ipynb',\n",
       " '.DS_Store',\n",
       " 'Python Basic Assignment 23.ipynb',\n",
       " 'Python Basic Assignment 21.ipynb',\n",
       " 'Python Basic Assignment 05.ipynb',\n",
       " 'Untitled.ipynb',\n",
       " 'today.txt',\n",
       " 'Python Basic Assignment 02.ipynb',\n",
       " 'zoo.py',\n",
       " 'Python Basic Assignment 19.ipynb',\n",
       " 'Python Basic Assignment 24.ipynb',\n",
       " 'Python Basic Assignment 20.ipynb',\n",
       " 'Python Basic Assignment 04.ipynb',\n",
       " 'Python Basic Assignment 06.ipynb',\n",
       " 'Python Basic Assignment 22.ipynb',\n",
       " 'Python Basic Assignment 13.ipynb',\n",
       " 'log.txt',\n",
       " 'Python Basic Assignment 08.ipynb',\n",
       " 'books.csv',\n",
       " 'Python Basic Assignment 11.ipynb',\n",
       " 'Python Basic Assignment 15.ipynb',\n",
       " 'Python Basic Assignment 17.ipynb',\n",
       " 'Python Basic Assignment 09.ipynb',\n",
       " 'test.txt',\n",
       " '.ipynb_checkpoints',\n",
       " 'Python Basic Assignment 10.ipynb',\n",
       " 'Python Basic Assignment 12.ipynb',\n",
       " 'Python Basic Assignment 16.ipynb',\n",
       " 'Python Basic Assignment 14.ipynb']"
      ]
     },
     "execution_count": 11,
     "metadata": {},
     "output_type": "execute_result"
    }
   ],
   "source": [
    "import os \n",
    "os.listdir()"
   ]
  },
  {
   "cell_type": "markdown",
   "id": "203dd9fe",
   "metadata": {},
   "source": [
    "### 6. Use multiprocessing to create three separate processes. Make each one wait a random number of seconds between one and five, print the current time, and then exit."
   ]
  },
  {
   "cell_type": "code",
   "execution_count": 20,
   "id": "b4933c95",
   "metadata": {},
   "outputs": [
    {
     "name": "stdout",
     "output_type": "stream",
     "text": [
      "starting processes\n",
      "Process 0 will sleep for 5\n",
      "starting processes\n",
      "Process 1 will sleep for 2\n",
      "starting processes\n",
      "Process 2 will sleep for 5\n"
     ]
    },
    {
     "name": "stderr",
     "output_type": "stream",
     "text": [
      "Traceback (most recent call last):\n",
      "  File \"<string>\", line 1, in <module>\n",
      "Traceback (most recent call last):\n",
      "Traceback (most recent call last):\n",
      "  File \"<string>\", line 1, in <module>\n",
      "  File \"<string>\", line 1, in <module>\n",
      "  File \"/Users/miteshwarke/opt/anaconda3/lib/python3.9/multiprocessing/spawn.py\", line 116, in spawn_main\n",
      "  File \"/Users/miteshwarke/opt/anaconda3/lib/python3.9/multiprocessing/spawn.py\", line 116, in spawn_main\n",
      "  File \"/Users/miteshwarke/opt/anaconda3/lib/python3.9/multiprocessing/spawn.py\", line 116, in spawn_main\n",
      "    exitcode = _main(fd, parent_sentinel)\n",
      "  File \"/Users/miteshwarke/opt/anaconda3/lib/python3.9/multiprocessing/spawn.py\", line 126, in _main\n",
      "    exitcode = _main(fd, parent_sentinel)\n",
      "  File \"/Users/miteshwarke/opt/anaconda3/lib/python3.9/multiprocessing/spawn.py\", line 126, in _main\n",
      "    exitcode = _main(fd, parent_sentinel)\n",
      "  File \"/Users/miteshwarke/opt/anaconda3/lib/python3.9/multiprocessing/spawn.py\", line 126, in _main\n",
      "    self = reduction.pickle.load(from_parent)\n",
      "AttributeError: Can't get attribute 'now_sleep' on <module '__main__' (built-in)>\n",
      "    self = reduction.pickle.load(from_parent)\n",
      "AttributeError: Can't get attribute 'now_sleep' on <module '__main__' (built-in)>\n",
      "    self = reduction.pickle.load(from_parent)\n",
      "AttributeError: Can't get attribute 'now_sleep' on <module '__main__' (built-in)>\n"
     ]
    }
   ],
   "source": [
    "import multiprocessing\n",
    "from datetime import datetime \n",
    "from time import sleep \n",
    "import random\n",
    "\n",
    "def now_sleep(seconds): \n",
    "    print('wait', seconds, 'seconds, time is', datetime.utcnow())\n",
    "    sleep(seconds) \n",
    "    print(\"Finished Process!\")\n",
    "\n",
    "if __name__ == '__main__':\n",
    "    for n in range(3): \n",
    "        print(\"starting processes\")\n",
    "        seconds = random.randint(1, 10) \n",
    "        print(f\"Process {n} will sleep for {seconds}\")\n",
    "        proc = multiprocessing.Process(target=now_sleep, args=(seconds,)) \n",
    "        proc.start()\n",
    "        \n",
    "# Note: this file is saved as multiprocessing.py in local file system"
   ]
  },
  {
   "cell_type": "markdown",
   "id": "71d07e78",
   "metadata": {},
   "source": [
    "### 7. Create a date object of your day of birth."
   ]
  },
  {
   "cell_type": "code",
   "execution_count": 14,
   "id": "b3e67c1c",
   "metadata": {},
   "outputs": [
    {
     "name": "stdout",
     "output_type": "stream",
     "text": [
      "1998-04-09 00:00:00 <class 'datetime.datetime'>\n"
     ]
    }
   ],
   "source": [
    "from datetime import datetime\n",
    "my_dob = datetime.strptime('09/04/1998','%d/%m/%Y')\n",
    "print(my_dob, type(my_dob))"
   ]
  },
  {
   "cell_type": "markdown",
   "id": "e5775db9",
   "metadata": {},
   "source": [
    "### 8. What day of the week was your day of birth?"
   ]
  },
  {
   "cell_type": "code",
   "execution_count": 16,
   "id": "65b6ae43",
   "metadata": {},
   "outputs": [
    {
     "data": {
      "text/plain": [
       "'Thursday'"
      ]
     },
     "execution_count": 16,
     "metadata": {},
     "output_type": "execute_result"
    }
   ],
   "source": [
    "from datetime import datetime\n",
    "my_dob = datetime(1998,4,9)\n",
    "my_dob.strftime(\"%A\")"
   ]
  },
  {
   "cell_type": "markdown",
   "id": "abe779de",
   "metadata": {},
   "source": [
    "### 9. When will you be (or when were you) 10,000 days old?"
   ]
  },
  {
   "cell_type": "code",
   "execution_count": 17,
   "id": "db7e28a0",
   "metadata": {},
   "outputs": [
    {
     "data": {
      "text/plain": [
       "datetime.datetime(1970, 11, 22, 0, 0)"
      ]
     },
     "execution_count": 17,
     "metadata": {},
     "output_type": "execute_result"
    }
   ],
   "source": [
    "from datetime import datetime, timedelta\n",
    "my_dob = datetime.strptime(\"09/04/1998\",'%d/%m/%Y')\n",
    "future_date = my_dob-timedelta(10000)\n",
    "future_date"
   ]
  }
 ],
 "metadata": {
  "kernelspec": {
   "display_name": "Python 3 (ipykernel)",
   "language": "python",
   "name": "python3"
  },
  "language_info": {
   "codemirror_mode": {
    "name": "ipython",
    "version": 3
   },
   "file_extension": ".py",
   "mimetype": "text/x-python",
   "name": "python",
   "nbconvert_exporter": "python",
   "pygments_lexer": "ipython3",
   "version": "3.9.7"
  }
 },
 "nbformat": 4,
 "nbformat_minor": 5
}
