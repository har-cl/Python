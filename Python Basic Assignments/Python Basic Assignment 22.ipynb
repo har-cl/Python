{
 "cells": [
  {
   "cell_type": "markdown",
   "id": "80a0e3c4",
   "metadata": {},
   "source": [
    "# Python Basic Assignment\n",
    "## Assignment - 22 [ FSDS NOV 21 ]"
   ]
  },
  {
   "cell_type": "markdown",
   "id": "a091ea5b",
   "metadata": {},
   "source": [
    "### 1. What is the result of the code, and explain?\n",
    "`>>> X = 'iNeuron'`  \n",
    "`>>> def func():`  \n",
    "`    print(X)`  \n",
    "`>>> func()`  \n",
    "**Ans:** \n",
    "\n",
    "The Result of this code is `iNeuron`, it's because the function intially looks for the variable `X` in its local scope,But since there is no local variable `X`, its returns the value of global variable `x` ie `iNeuron`"
   ]
  },
  {
   "cell_type": "code",
   "execution_count": 1,
   "id": "ee98b909",
   "metadata": {},
   "outputs": [
    {
     "name": "stdout",
     "output_type": "stream",
     "text": [
      "iNeuron\n"
     ]
    }
   ],
   "source": [
    "X = 'iNeuron'\n",
    "def func():\n",
    "    print(X)\n",
    "func()\n",
    "\n",
    "#The above code will display 'iNeuron' as the output. \n",
    "#This is because variable X is a global variable and within the function when printing the value of X will be 'iNeuron'"
   ]
  },
  {
   "cell_type": "markdown",
   "id": "ef65e0b3",
   "metadata": {},
   "source": [
    "### 2. What is the result of the code, and explain?\n",
    "`>>> X = 'iNeuron'`  \n",
    "`>>> def func():`  \n",
    "`X = 'NI!'`  \n",
    "`>>> func()`  \n",
    "`>>> print(X)`  \n",
    "**Ans:** \n",
    "\n",
    "The Result of this cide is `NI!`, because the function initially looks for the variable `X` in its local scope if `X` is not available then it checks for variable `X` in the global scope, Since here the `X` is present in the local scope. it prints the value `NI!`"
   ]
  },
  {
   "cell_type": "code",
   "execution_count": 2,
   "id": "8f219394",
   "metadata": {},
   "outputs": [
    {
     "name": "stdout",
     "output_type": "stream",
     "text": [
      "NI!\n"
     ]
    }
   ],
   "source": [
    "X = 'iNeuron'\n",
    "def func():\n",
    "    X = 'NI!'\n",
    "    print(X)\n",
    "func()\n",
    "\n",
    "# The above code will display 'iNeuron' as the output. This is because:\n",
    "# Only within the function will value of X be 'NI' because only in the local scope of this function will the value of X be overwritten. \n",
    "# Outside of func() value will remain as 'iNeuron'."
   ]
  },
  {
   "cell_type": "markdown",
   "id": "952c9d0e",
   "metadata": {},
   "source": [
    "### 3. What does this code print, and why?\n",
    "`>>> X = 'iNeuron'`  \n",
    "`>>> def func():`  \n",
    "`X = 'NI'`  \n",
    "`print(X)`  \n",
    "`>>> func()`  \n",
    "`>>> print(X)`   \n",
    "**Ans:** \n",
    "\n",
    "The output of the code is `NI` and `iNeuron`. `X=NI` is in the local scope of the function `func()` hence the function prints the x value as  `NI`.  `X = 'iNeuron'` is in the global scope. hence `print(X)` prints output as `iNeuron`"
   ]
  },
  {
   "cell_type": "code",
   "execution_count": 3,
   "id": "cabebabc",
   "metadata": {},
   "outputs": [
    {
     "name": "stdout",
     "output_type": "stream",
     "text": [
      "NI\n",
      "iNeuron\n"
     ]
    }
   ],
   "source": [
    "X = 'iNeuron'\n",
    "def func():\n",
    "    X = 'NI'\n",
    "    print(X)\n",
    "func()\n",
    "print(X)\n",
    "\n",
    "# The above code will display 'NI' in first line and in the second line display 'iNeuron' as the output. This is because:\n",
    "# Within func() value of X in the print() is 'NI' as variable Xis overwritten in the local scope.\n",
    "# the second print() is outside the func() where value of X is 'iNeuron' in the global scope"
   ]
  },
  {
   "cell_type": "markdown",
   "id": "905d8b7b",
   "metadata": {},
   "source": [
    "### 4. What output does this code produce? Why?\n",
    "`>>> X = 'iNeuron'`   \n",
    "`>>> def func():`   \n",
    "`global X`   \n",
    "`X = 'NI'`   \n",
    "`>>> func()`   \n",
    "`>>> print(X)`   \n",
    "**Ans:** \n",
    "\n",
    "The output of the code is `NI`. the `global` keyword allows a variable to be accessible in the current scope. since we are using global keyword inside the function `func` it directly access the variable in `X` in global scope. and changes its value to `NI`. hence the output of the code is `NI`"
   ]
  },
  {
   "cell_type": "code",
   "execution_count": 4,
   "id": "64e260a6",
   "metadata": {},
   "outputs": [
    {
     "name": "stdout",
     "output_type": "stream",
     "text": [
      "NI\n"
     ]
    }
   ],
   "source": [
    "X = 'iNeuron'\n",
    "def func():\n",
    "    global X\n",
    "    X = 'NI'\n",
    "func()\n",
    "print(X)\n",
    "\n",
    "#The above code will display 'NI' as the output. This is because:\n",
    "# Within the function func() the variable X is made global by the keyword \"global\". \n",
    "# This means that any change in variable X within the func() will persist or carried to global scope as well."
   ]
  },
  {
   "cell_type": "markdown",
   "id": "1c755c9f",
   "metadata": {},
   "source": [
    "### 5. What about this code—what’s the output, and why?\n",
    "`>>> X = 'iNeuron'`   \n",
    "`>>> def func():`   \n",
    "`X = 'NI'`   \n",
    "`def nested():`   \n",
    "`print(X)`   \n",
    "`nested()`   \n",
    "`>>> func()`   \n",
    "`>>> X`   \n",
    "**Ans:** \n",
    "\n",
    "The nested() function will print 'iNeuron', Then func() does not display anything and x ='NI' is not accessible outside the function.\n"
   ]
  },
  {
   "cell_type": "code",
   "execution_count": 8,
   "id": "9fd84bb5",
   "metadata": {},
   "outputs": [
    {
     "name": "stdout",
     "output_type": "stream",
     "text": [
      "iNeuron\n"
     ]
    },
    {
     "data": {
      "text/plain": [
       "'iNeuron'"
      ]
     },
     "execution_count": 8,
     "metadata": {},
     "output_type": "execute_result"
    }
   ],
   "source": [
    "X = 'iNeuron'\n",
    "def func():\n",
    "    X = 'NI'\n",
    "def nested():\n",
    "    print(X)\n",
    "    \n",
    "nested()\n",
    "func()\n",
    "X"
   ]
  },
  {
   "cell_type": "markdown",
   "id": "f8c745c5",
   "metadata": {},
   "source": [
    "### 6. How about this code: what is its output in Python 3, and explain?\n",
    "`>>> def func():`  \n",
    "`X = 'NI'`  \n",
    "`def nested():`  \n",
    "`nonlocal X`  \n",
    "`X = 'Spam'`  \n",
    "`nested()`  \n",
    "`print(X)`  \n",
    "`>>> func()`  \n",
    "**Ans:** \n",
    "\n",
    "The output of the code is `Spam`. \n",
    "\n",
    "Non-local variables are used in nested functions whose local scope is not defined. \n",
    "This means that the variable can be neither in the local nor the global scope. it print the updated value from nested function\n"
   ]
  },
  {
   "cell_type": "code",
   "execution_count": 9,
   "id": "9fab6b46",
   "metadata": {},
   "outputs": [
    {
     "name": "stdout",
     "output_type": "stream",
     "text": [
      "Spam\n"
     ]
    }
   ],
   "source": [
    "def func():\n",
    "    X = 'NI'\n",
    "    def nested():\n",
    "        nonlocal X\n",
    "        X = 'Spam'\n",
    "    nested()\n",
    "    print(X)\n",
    "func()"
   ]
  }
 ],
 "metadata": {
  "kernelspec": {
   "display_name": "Python 3 (ipykernel)",
   "language": "python",
   "name": "python3"
  },
  "language_info": {
   "codemirror_mode": {
    "name": "ipython",
    "version": 3
   },
   "file_extension": ".py",
   "mimetype": "text/x-python",
   "name": "python",
   "nbconvert_exporter": "python",
   "pygments_lexer": "ipython3",
   "version": "3.9.7"
  }
 },
 "nbformat": 4,
 "nbformat_minor": 5
}
