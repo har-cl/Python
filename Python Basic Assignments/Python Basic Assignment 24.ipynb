{
 "cells": [
  {
   "cell_type": "markdown",
   "id": "925a970b",
   "metadata": {},
   "source": [
    "# Python Basic Assignment\n",
    "## Assignment - 24 [ FSDS NOV 21 ]"
   ]
  },
  {
   "cell_type": "markdown",
   "id": "3267a0e0",
   "metadata": {},
   "source": [
    "### 1. What is the relationship between def statements and lambda expressions ?\n",
    "**Ans:** \n",
    "\n",
    "`def` statement is used to create a normal function. where as `lamba` expressions are used to create `Anonymous functions`. which can be assigned to a variable and can be called using the variable later in function.\n",
    "\n",
    "`Lambdas` are one-line functions without a name, in other words using lambdas we can create anonymous functions in python. Lambda functions work practically the same as any other method in Python. Lambdas differ from normal Python methods because they can have only one expression, and they can't contain any statements and their return type is a function object\n",
    "\n",
    " \n"
   ]
  },
  {
   "cell_type": "markdown",
   "id": "e23f6be0",
   "metadata": {},
   "source": [
    "### 2. What is the benefit of lambda?\n",
    "**Ans:** \n",
    "\n",
    "The following are some of the benefits of lambda expressions: \n",
    "1. Can be used to create Nameless/Anonymous functions inside some complex functions if we are planning to use it only once.\n",
    "2. Moderate to small functions can be created in a single line\n",
    "3. Fuctions created using lambda expressions can be assigned to a variable and can be used by simply calling the variable\n",
    "4. Many times lambda functions make code much more readable by avoiding the logical jumps caused by function calls\n",
    "\n"
   ]
  },
  {
   "cell_type": "markdown",
   "id": "c0abb1a0",
   "metadata": {},
   "source": [
    "### 3. Compare and contrast map, filter, and reduce.\n",
    "**Ans:** The differences between map, filter and reduce are: \n",
    "\n",
    "\n",
    "|Map|Filter|Reduce|\n",
    "|---|------|------|\n",
    "|If you already have a list of values and you want to do the exact same operation on each of the elements in the array and return the same amount of items in the list, in these type of situations it is better to use the map method.|If you already have list of values but you only want to have items in the array that match certain criteria, in these type of situations it is better to use the filter method.|If you already have list of values, but you want to use the values in that list to create something completely new, in these type of situations it is better to use the reduce method.|\n",
    "|Map operation takes a mapping function and a vector of data as arguments and returns a new vector, which is the result of applying the mapping function on each element of the vector independently.|The filter function operates on a list and returns a subset of that list after applying the filtering rule.|The reduce function will transform a given list into a single value by applying a given function continuously to all the elements.|\n",
    "\n"
   ]
  },
  {
   "cell_type": "code",
   "execution_count": 2,
   "id": "a96df72c",
   "metadata": {},
   "outputs": [
    {
     "name": "stdout",
     "output_type": "stream",
     "text": [
      "True\n",
      "False\n",
      "False\n",
      "False\n",
      "False\n"
     ]
    }
   ],
   "source": [
    "### Map functions\n",
    "Animal = [\"Anteater\", \"Dog\", \"Elephant\", \"Giraffe\", \"Cat\"]\n",
    "map_object = map(lambda s: s[0] == \"A\", Animal)\n",
    "\n",
    "\n",
    "for i in map_object:\n",
    "    print(i)"
   ]
  },
  {
   "cell_type": "code",
   "execution_count": 5,
   "id": "9ffb8453",
   "metadata": {},
   "outputs": [
    {
     "name": "stdout",
     "output_type": "stream",
     "text": [
      "Ant\n"
     ]
    }
   ],
   "source": [
    "### Filter function\n",
    "Animal = [\"Ant\", \"Dog\", \"Elephant\", \"Giraffe\", \"Cat\"]\n",
    "filter_object = filter(lambda s: s[0] == \"A\", Animal)\n",
    "\n",
    "for i in filter_object:\n",
    "    print(i)"
   ]
  },
  {
   "cell_type": "code",
   "execution_count": 4,
   "id": "d47a1253",
   "metadata": {},
   "outputs": [
    {
     "name": "stdout",
     "output_type": "stream",
     "text": [
      "18\n",
      "With an initial value: 28\n"
     ]
    }
   ],
   "source": [
    "### Reduce function\n",
    "from functools import reduce\n",
    "\n",
    "list = [4, 3, 8, 3]\n",
    "print(reduce(lambda x, y: x + y, list))\n",
    "print(\"With an initial value: \" + str(reduce(lambda x, y: x + y, list, 10)))"
   ]
  },
  {
   "cell_type": "markdown",
   "id": "ed66668e",
   "metadata": {},
   "source": [
    "### 4. What are function annotations, and how are they used?\n",
    "**Ans:**\n",
    "\n",
    "Function annotation is the standard way to access the metadata with the arguments and the return value of the function.\n",
    "These are nothing but some random and optional Python expressions that get allied to different parts of the function.\n",
    "They get evaluated only during the compile-time and have no significance during the run-time of the code.\n",
    "They do not have any significance or meaning associated with them until accessed by some third-party libraries.\n",
    "They are used to type check the functions by declaring the type of the parameters and the return value for the functions.\n",
    "The string-based annotations help us to improve the help messages.\n",
    "\n",
    "* Syntax :\n",
    "   * def func(a: 'int') -> 'int':\n",
    "    *    pass\n",
    "\n",
    "* Annotations for simple parameters:\n",
    "    * def func(x: 'float'=10.8, y: 'argument2'):\n",
    "      *  In the above code the argument, ‘x’ of the function func, \n",
    "        has been annotated to float data type and the argument ‘y’ \n",
    "        has a string-based annotation. The argument can also be \n",
    "        assigned to a default value using a ‘=’ symbol followed \n",
    "        by the default value. These default values are optional to the code.\n",
    "\n",
    "* Annotations for return values:\n",
    "    * def func(a: expression) -> 'int':\n",
    "      *  The annotations for the return value is written after the ‘->’ symbol."
   ]
  },
  {
   "cell_type": "code",
   "execution_count": 6,
   "id": "ea8b41dd",
   "metadata": {},
   "outputs": [
    {
     "name": "stdout",
     "output_type": "stream",
     "text": [
      "{'n': 'float', 'b': 'int', 'return': 'result'}\n"
     ]
    }
   ],
   "source": [
    "def fib(n:'float', b:'int')-> 'result': \n",
    "    pass\n",
    "print(fib.__annotations__)"
   ]
  },
  {
   "cell_type": "markdown",
   "id": "e91c02f9",
   "metadata": {},
   "source": [
    "### 5. What are recursive functions, and how are they used?\n",
    "**Ans:** \n",
    "\n",
    "A recursive function is a function that calls itself during its execution. The process may repeat several times, \n",
    "outputting the result and the end of each iteration. "
   ]
  },
  {
   "cell_type": "code",
   "execution_count": 7,
   "id": "40ef822b",
   "metadata": {},
   "outputs": [
    {
     "data": {
      "text/plain": [
       "6"
      ]
     },
     "execution_count": 7,
     "metadata": {},
     "output_type": "execute_result"
    }
   ],
   "source": [
    "# eg\n",
    "def fact(x):\n",
    "    if x == 1 :\n",
    "        return 1\n",
    "    else :\n",
    "        return x * fact(x-1) # recurtion    \n",
    "fact(3)"
   ]
  },
  {
   "cell_type": "markdown",
   "id": "0616de68",
   "metadata": {},
   "source": [
    "### 6. What are some general design guidelines for coding functions?\n",
    "**Ans:** \n",
    "\n",
    "1. Use 4-space indentation and no tabs.\n",
    "2. Use docstrings\n",
    "3. Wrap linethat they don’t exceed 79 characters\n",
    "4. Use of regular and updated comments are valuable to both the coders and users\n",
    "5. Use of trailing commas : in case of tuple -> ('good',)\n",
    "6. Use Python’s default UTF-8 or ASCII encodings and not any fancy encodings\n",
    "7. Naming Conventions\n",
    "8. Characters that should not be used for identifiers :\n",
    "    ‘l’ (lowercase letter el), \n",
    "    ‘O’ (uppercase letter oh), \n",
    "    ‘I’ (uppercase letter eye) as single character variable names as these are similar to the numerals one and zero.\n",
    "9. Don’t use non-ASCII characters in identifiers\n",
    "10. Name your classes and functions consistently\n",
    "11. While naming of function of methods always use self for the first argument"
   ]
  },
  {
   "cell_type": "markdown",
   "id": "50555ec6",
   "metadata": {},
   "source": [
    "### 7. Name three or more ways that functions can communicate results to a caller.\n",
    "**Ans:** \n",
    "\n",
    "- Function can return single value\n",
    "- Can return multiple values, tuple\n",
    "- can return list,dictionary\n",
    "- can return function object\n",
    "- can return class object (ex: SQL Connection object)\n",
    "- can update an output variable\n",
    "- can update a global variable\n",
    "- can update/create a file"
   ]
  }
 ],
 "metadata": {
  "kernelspec": {
   "display_name": "Python 3 (ipykernel)",
   "language": "python",
   "name": "python3"
  },
  "language_info": {
   "codemirror_mode": {
    "name": "ipython",
    "version": 3
   },
   "file_extension": ".py",
   "mimetype": "text/x-python",
   "name": "python",
   "nbconvert_exporter": "python",
   "pygments_lexer": "ipython3",
   "version": "3.9.7"
  }
 },
 "nbformat": 4,
 "nbformat_minor": 5
}
