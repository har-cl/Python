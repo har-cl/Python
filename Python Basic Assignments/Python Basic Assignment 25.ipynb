{
 "cells": [
  {
   "cell_type": "markdown",
   "id": "7f9b8597",
   "metadata": {},
   "source": [
    "# Python Basic Assignment\n",
    "## Assignment - 25 [ FSDS NOV 21 ]"
   ]
  },
  {
   "cell_type": "markdown",
   "id": "5aee2c7e",
   "metadata": {},
   "source": [
    "### 1) . What is the difference between enclosing a list comprehension in square brackets and parentheses?\n",
    "**Ans:**\n",
    "\n",
    "The difference between the two kinds of expressions is that the List comprehension is enclosed in square brackets [] while the Generator  expression is enclosed in plain parentheses ()."
   ]
  },
  {
   "cell_type": "code",
   "execution_count": 1,
   "id": "b4745353-bbeb-46d7-bcab-9f81ab1914b5",
   "metadata": {},
   "outputs": [
    {
     "data": {
      "text/plain": [
       "[0, 1, 2, 3, 4, 5, 6, 7, 8, 9]"
      ]
     },
     "execution_count": 1,
     "metadata": {},
     "output_type": "execute_result"
    }
   ],
   "source": [
    "lst = [i for i in range(10)]\n",
    "lst\n",
    "#List Comprehension with square brackets produces list.\n",
    "#List Comprehension with parentheses creates generators"
   ]
  },
  {
   "cell_type": "code",
   "execution_count": 2,
   "id": "c4f08e2c",
   "metadata": {},
   "outputs": [
    {
     "data": {
      "text/plain": [
       "<generator object <genexpr> at 0x7f8c50d75cf0>"
      ]
     },
     "execution_count": 2,
     "metadata": {},
     "output_type": "execute_result"
    }
   ],
   "source": [
    "#it is actually a generator expression - this expression is a one time only iterator which will yield the values 1, 2, 3, 4.... in that order\n",
    "lstParanthesis = (i for i in range(10))\n",
    "lstParanthesis"
   ]
  },
  {
   "cell_type": "code",
   "execution_count": 3,
   "id": "b21ca44c",
   "metadata": {},
   "outputs": [
    {
     "data": {
      "text/plain": [
       "[0, 1, 2, 3, 4, 5, 6, 7, 8, 9]"
      ]
     },
     "execution_count": 3,
     "metadata": {},
     "output_type": "execute_result"
    }
   ],
   "source": [
    "list(lstParanthesis)"
   ]
  },
  {
   "cell_type": "markdown",
   "id": "43ead631",
   "metadata": {},
   "source": [
    "### 2) What is the relationship between generators and iterators?\n",
    "**Ans:** \n",
    "\n",
    "An `iterator` is an object which contains a countable number of values and it is used to iterate over iterable objects like list, tuples, sets, etc. Iterators are implemented using a class. It follows lazy evaluation where the evaluation of the expression will be on hold and stored in the memory until the item is called specifically which helps us to avoid repeated evaluation. As lazy evaluation is implemented, it requires only 1 memory location to process the value and when we are using a large dataset then, wastage of RAM space will be reduced the need to load the entire dataset at the same time will not be there.For an iterator: `iter()` keyword is used to create an iterator containing an iterable object.`next()` \n",
    "keyword is used to call the next element in the iterable object.\n",
    "\n",
    "Similarly `Generators` are an another way of creating iterators in a simple way where it uses the keyword `yield` statement instead of `return` statement in a defined function.Generators are implemented using a function. Just as iterators, generators also follow `lazy evaluation`. Here, the yield function returns the data without affecting or exiting the function. It will return a sequence of data in an iterable format where we need to iterate over the sequence to use the data as they won’t store the entire sequence in the memory.\n"
   ]
  },
  {
   "cell_type": "code",
   "execution_count": 4,
   "id": "475ad9eb-18b8-4e3a-a246-86c341de25ad",
   "metadata": {
    "tags": []
   },
   "outputs": [],
   "source": [
    "# Generator\n",
    "def sq(n):\n",
    "    for i in range(1, n+1):\n",
    "        yield i*i"
   ]
  },
  {
   "cell_type": "code",
   "execution_count": 5,
   "id": "36eed0d1",
   "metadata": {},
   "outputs": [
    {
     "data": {
      "text/plain": [
       "<generator object sq at 0x7f8c50d75eb0>"
      ]
     },
     "execution_count": 5,
     "metadata": {},
     "output_type": "execute_result"
    }
   ],
   "source": [
    "sq(6)"
   ]
  },
  {
   "cell_type": "code",
   "execution_count": 6,
   "id": "7fb4cea7",
   "metadata": {},
   "outputs": [
    {
     "data": {
      "text/plain": [
       "<generator object sq at 0x7f8c50d75f20>"
      ]
     },
     "execution_count": 6,
     "metadata": {},
     "output_type": "execute_result"
    }
   ],
   "source": [
    "lst = sq(6)\n",
    "lst"
   ]
  },
  {
   "cell_type": "code",
   "execution_count": 7,
   "id": "e78c7d9c",
   "metadata": {},
   "outputs": [
    {
     "name": "stdout",
     "output_type": "stream",
     "text": [
      "1\n",
      "4\n",
      "9\n",
      "16\n"
     ]
    }
   ],
   "source": [
    "print(next(lst))\n",
    "print(next(lst))\n",
    "print(next(lst))\n",
    "print(next(lst))"
   ]
  },
  {
   "cell_type": "markdown",
   "id": "c4bd6bf0",
   "metadata": {},
   "source": [
    "### 3) What are the signs that a function is a generator function?\n",
    "**Ans:**\n",
    "\n",
    "A generator function uses a `yield` statement instead of a `return` statement. A generator function will always return a iterable object called generator. where as a normal function can return a `string/list/tuple/dict/NoneType` ... etc"
   ]
  },
  {
   "cell_type": "markdown",
   "id": "b35dd5fe",
   "metadata": {},
   "source": [
    "### 4) What is the purpose of a yield statement?\n",
    "**Ans:**\n",
    "\n",
    "\n",
    "A yield statement looks much like a return statement, except that instead of stopping execution of the function and returning, yield instead provides a value to the code looping over the generator and pauses execution of the generator function. The yield statement suspends function’s execution and sends a value back to the caller, but retains enough state to enable function to resume where it is left off. When resumed, the function continues execution immediately after the last yield run. This allows its code to produce a series of values over time, rather than computing them at once and sending them back like a list."
   ]
  },
  {
   "cell_type": "markdown",
   "id": "d2182986",
   "metadata": {
    "tags": []
   },
   "source": [
    "### 5) What is the relationship between map calls and list comprehensions? Make a comparison and contrast between the two ?\n",
    "**Ans:**\n",
    "\n",
    "`Map function`: Suppose we have a function and we want to compute this function for different values in a single line of code . This is where map() function plays its role. map() function returns a map object(which is an iterator) of the results after applying the given function to each item of a given iterable (list, tuple etc.)\n",
    "\n",
    "If we already have a function defined, it is often good to use map For example, map(sum, myLists) is more neat than [sum(x) for x in myLists]. You gain the elegance of not having to make up a dummy variable (e.g. sum(x) for x... or sum() for ... or sum(readableName) for readableName...) which you have to type twice, just to iterate.\n",
    "\n",
    "`List Comprehension`: List Comprehension is a substitute for the lambda function, map(), filter() and reduce()\n",
    "\n",
    "Comparision :\n",
    "\n",
    "1. List comprehension is more concise and easier to read as compared to map\n",
    "2. List comprehension allows filtering. In map, we have no such facility\n",
    "For example, to print all even numbers in range of 100, we can write [n for n in range(100) if n%2 == 0]. There is \n",
    "no alternate for it in map\n",
    "3. List comprehension are used when a list of results is required, where as map only returns a map object and does \n",
    "not return any list.\n",
    "4. List comprehension is faster than map when we need to evaluate expressions that are too long or complicated \n",
    "to express\n",
    "5. Map is faster in case of calling an already defined function (as no lambda is required)"
   ]
  }
 ],
 "metadata": {
  "kernelspec": {
   "display_name": "Python 3 (ipykernel)",
   "language": "python",
   "name": "python3"
  },
  "language_info": {
   "codemirror_mode": {
    "name": "ipython",
    "version": 3
   },
   "file_extension": ".py",
   "mimetype": "text/x-python",
   "name": "python",
   "nbconvert_exporter": "python",
   "pygments_lexer": "ipython3",
   "version": "3.9.7"
  }
 },
 "nbformat": 4,
 "nbformat_minor": 5
}
