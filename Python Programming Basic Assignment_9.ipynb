{
 "cells": [
  {
   "cell_type": "code",
   "execution_count": 83,
   "id": "dd51dc06",
   "metadata": {},
   "outputs": [
    {
     "name": "stdout",
     "output_type": "stream",
     "text": [
      "Write a Python program to check if the given number is a Disarium Number?\n",
      "enter number : a\n",
      "enter proper input:\n"
     ]
    }
   ],
   "source": [
    "try:   \n",
    "    print('Write a Python program to check if the given number is a Disarium Number?')\n",
    "\n",
    "    a=int(input('enter number : '))\n",
    "    sum=0\n",
    "    for i in range(0,len(str(a))):\n",
    "        sum+=pow(int(str(a)[i]),i+1)\n",
    "    if sum==a:\n",
    "        print('entered number is Disarium Number')\n",
    "    else:\n",
    "        print('entered number is not Disarium Number')\n",
    "\n",
    "    print('Write a Python program to print all disarium numbers between 1 to 100?')\n",
    "\n",
    "    for k in range(0,100):\n",
    "        sum=0\n",
    "        for i in range(0,len(str(k))):\n",
    "            sum+=pow(int(str(k)[i]),i+1)\n",
    "        if sum==k:\n",
    "            print(k)\n",
    "\n",
    "    print('Write a Python program to check if the given number is Happy Number?')\n",
    "\n",
    "    n=input('enter number : ')\n",
    "    sum=0\n",
    "    nn=n\n",
    "\n",
    "    while int(nn)>9:\n",
    "        for i in range(0,2):\n",
    "            sum+=pow(int(str(nn)[i]),2)\n",
    "        nn=sum\n",
    "        sum=0\n",
    "    if nn==1:\n",
    "        print('it is happy number : ')\n",
    "    else:\n",
    "        print('it is not happy number')\n",
    "\n",
    "    print('Write a Python program to print all happy numbers between 1 and 100?')\n",
    "\n",
    "    print('Happy number between 0 to 100 are : ')\n",
    "\n",
    "    for k in range(1,101):\n",
    "        sum=0\n",
    "        nn=k\n",
    "\n",
    "        while nn!=1 and nn!=4:\n",
    "            for i in range(0,len(str(nn))):\n",
    "                sum+=pow(int(str(nn)[i]),2)\n",
    "            nn=sum\n",
    "            sum=0\n",
    "            #print('iteration',nn)\n",
    "        if nn==1:\n",
    "            print(k)\n",
    "\n",
    "    print('Write a Python program to determine whether the given number is a Harshad Number?')\n",
    "\n",
    "    number=int(input('enter number : '))\n",
    "    sum=0\n",
    "    a=number\n",
    "    for i in range(0,len(str(a))):\n",
    "        sum+=a%10\n",
    "        a=int(a/10)\n",
    "    if number%sum==0:\n",
    "        print('given number is harshad number')\n",
    "    else:\n",
    "        print('it is not harshad number')\n",
    "\n",
    "    print('Write a Python program to print all pronic numbers between 1 and 100?')\n",
    "    i=0\n",
    "    num=1\n",
    "    while num<100:\n",
    "        num=i*(i+1)\n",
    "        i+=1\n",
    "        print(num)\n",
    "except:\n",
    "    print('enter proper input')"
   ]
  },
  {
   "cell_type": "code",
   "execution_count": null,
   "id": "452d81be",
   "metadata": {},
   "outputs": [],
   "source": []
  }
 ],
 "metadata": {
  "kernelspec": {
   "display_name": "Python 3 (ipykernel)",
   "language": "python",
   "name": "python3"
  },
  "language_info": {
   "codemirror_mode": {
    "name": "ipython",
    "version": 3
   },
   "file_extension": ".py",
   "mimetype": "text/x-python",
   "name": "python",
   "nbconvert_exporter": "python",
   "pygments_lexer": "ipython3",
   "version": "3.9.7"
  }
 },
 "nbformat": 4,
 "nbformat_minor": 5
}
