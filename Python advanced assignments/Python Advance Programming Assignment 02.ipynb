{
 "cells": [
  {
   "cell_type": "markdown",
   "id": "dded34ed",
   "metadata": {},
   "source": [
    "# Python Advance Programming Assignment\n",
    "## Assignment - 02 [ FSDS NOV 21 ]"
   ]
  },
  {
   "attachments": {},
   "cell_type": "markdown",
   "id": "7e7ca928",
   "metadata": {
    "tags": []
   },
   "source": [
    "### 1.Write a function that takes a positive integer num and calculates how many dots exist in a pentagonal shape around the center dot on the Nth iteration.\n",
    "In the image below you can see the first iteration is only a single dot. On the second, there are 6 dots. On the third, there are 16 dots, and on the fourth there are 31 dots.  \n",
    "\n",
    "**Examples:**  \n",
    "`pentagonal(1) ➞ 1`  \n",
    "`pentagonal(2) ➞ 6`  \n",
    "`pentagonal(3) ➞ 16`  \n",
    "`pentagonal(8) ➞ 141`  "
   ]
  },
  {
   "cell_type": "code",
   "execution_count": 7,
   "id": "2b6e8bd2",
   "metadata": {},
   "outputs": [],
   "source": [
    "def pentagon(n):\n",
    "    if n==1:\n",
    "        return 1\n",
    "    else:\n",
    "        return 5*(n-1)+pentagon(n-1)"
   ]
  },
  {
   "cell_type": "code",
   "execution_count": 8,
   "id": "07ba3ca5",
   "metadata": {},
   "outputs": [
    {
     "data": {
      "text/plain": [
       "1"
      ]
     },
     "execution_count": 8,
     "metadata": {},
     "output_type": "execute_result"
    }
   ],
   "source": [
    "pentangon(1)"
   ]
  },
  {
   "cell_type": "code",
   "execution_count": 9,
   "id": "305438b6",
   "metadata": {},
   "outputs": [
    {
     "data": {
      "text/plain": [
       "6"
      ]
     },
     "execution_count": 9,
     "metadata": {},
     "output_type": "execute_result"
    }
   ],
   "source": [
    "pentangon(2)"
   ]
  },
  {
   "cell_type": "code",
   "execution_count": 10,
   "id": "f5ae26f0",
   "metadata": {},
   "outputs": [
    {
     "data": {
      "text/plain": [
       "16"
      ]
     },
     "execution_count": 10,
     "metadata": {},
     "output_type": "execute_result"
    }
   ],
   "source": [
    "pentangon(3)"
   ]
  },
  {
   "cell_type": "code",
   "execution_count": 11,
   "id": "0148d958",
   "metadata": {},
   "outputs": [
    {
     "data": {
      "text/plain": [
       "141"
      ]
     },
     "execution_count": 11,
     "metadata": {},
     "output_type": "execute_result"
    }
   ],
   "source": [
    "pentangon(8)"
   ]
  },
  {
   "cell_type": "markdown",
   "id": "5a365317",
   "metadata": {},
   "source": [
    "### 2..  Make a function that encrypts a given input with these steps:\n",
    "Input: `\"apple\"`   \n",
    "Step 1: Reverse the input: `\"elppa\"`  \n",
    "Step 2: Replace all vowels using the following chart:    \n",
    "`a => 0`    \n",
    "`e => 1`  \n",
    "`i => 2`  \n",
    "`o => 2`  \n",
    "`u => 3`  \n",
    "`# \"1lpp0\"`  \n",
    "Step 3: Add `\"aca\"` to the end of the word: `\"1lpp0aca\"`  \n",
    "Output: `\"1lpp0aca\"`  \n",
    "**Examples:**   \n",
    "`encrypt(\"banana\") ➞ \"0n0n0baca\"`  \n",
    "`encrypt(\"karaca\") ➞ \"0c0r0kaca\"`  \n",
    "`encrypt(\"burak\") ➞ \"k0r3baca\"`  \n",
    "`encrypt(\"alpaca\") ➞ \"0c0pl0aca\"`  "
   ]
  },
  {
   "cell_type": "code",
   "execution_count": 12,
   "id": "99c8fb44",
   "metadata": {},
   "outputs": [],
   "source": [
    "def encrypt(msg):\n",
    "    \n",
    "    if type(msg)!= str:\n",
    "        raise Exception(\"msg is not in string format\")\n",
    "    else:\n",
    "        msg = msg[::-1]\n",
    "        msg = msg.replace('a', '0')\n",
    "        msg = msg.replace('e', '1')\n",
    "        msg = msg.replace('i', '2')\n",
    "        msg = msg.replace('o', '3')\n",
    "        msg = msg.replace('u', '4')\n",
    "        \n",
    "        msg += 'aca'\n",
    "        \n",
    "    return msg"
   ]
  },
  {
   "cell_type": "code",
   "execution_count": 13,
   "id": "c8a6dcfd",
   "metadata": {},
   "outputs": [
    {
     "data": {
      "text/plain": [
       "'1lpp0aca'"
      ]
     },
     "execution_count": 13,
     "metadata": {},
     "output_type": "execute_result"
    }
   ],
   "source": [
    "encrypt('apple')"
   ]
  },
  {
   "cell_type": "code",
   "execution_count": 14,
   "id": "9d7a1363",
   "metadata": {},
   "outputs": [
    {
     "data": {
      "text/plain": [
       "'0n0n0baca'"
      ]
     },
     "execution_count": 14,
     "metadata": {},
     "output_type": "execute_result"
    }
   ],
   "source": [
    "encrypt(\"banana\")"
   ]
  },
  {
   "cell_type": "code",
   "execution_count": 15,
   "id": "39538e1e",
   "metadata": {},
   "outputs": [
    {
     "data": {
      "text/plain": [
       "'0c0r0kaca'"
      ]
     },
     "execution_count": 15,
     "metadata": {},
     "output_type": "execute_result"
    }
   ],
   "source": [
    "encrypt(\"karaca\")"
   ]
  },
  {
   "cell_type": "code",
   "execution_count": 16,
   "id": "21b22580",
   "metadata": {},
   "outputs": [
    {
     "data": {
      "text/plain": [
       "'0c0pl0aca'"
      ]
     },
     "execution_count": 16,
     "metadata": {},
     "output_type": "execute_result"
    }
   ],
   "source": [
    "encrypt(\"alpaca\")"
   ]
  },
  {
   "cell_type": "markdown",
   "id": "15f379c5",
   "metadata": {},
   "source": [
    "### 3.Given the month and year as numbers, return whether that month contains a Friday 13th.(i.e You can check Python's datetime module)\n",
    "**Examples:**  \n",
    "`has_friday_13(3, 2020) ➞ True`  \n",
    "`has_friday_13(10, 2017) ➞ True`  \n",
    "`has_friday_13(1, 1985) ➞ False`  "
   ]
  },
  {
   "cell_type": "code",
   "execution_count": 17,
   "id": "2b17a3c3",
   "metadata": {},
   "outputs": [],
   "source": [
    "import datetime\n",
    "from datetime import datetime\n",
    "import calendar\n",
    "\n",
    "def has_friday_13(month, year):\n",
    "    date = f'{month} 13 {year}'.format()\n",
    "    spooky = datetime.strptime(date, '%m %d %Y').weekday()\n",
    "    return (calendar.day_name[spooky]) == \"Friday\""
   ]
  },
  {
   "cell_type": "code",
   "execution_count": 18,
   "id": "b7c1ebe8",
   "metadata": {},
   "outputs": [
    {
     "data": {
      "text/plain": [
       "True"
      ]
     },
     "execution_count": 18,
     "metadata": {},
     "output_type": "execute_result"
    }
   ],
   "source": [
    "has_friday_13(3, 2020)"
   ]
  },
  {
   "cell_type": "code",
   "execution_count": 19,
   "id": "cfe59a7d",
   "metadata": {},
   "outputs": [
    {
     "data": {
      "text/plain": [
       "True"
      ]
     },
     "execution_count": 19,
     "metadata": {},
     "output_type": "execute_result"
    }
   ],
   "source": [
    "has_friday_13(10, 2017)"
   ]
  },
  {
   "cell_type": "code",
   "execution_count": 20,
   "id": "fa4ec18d",
   "metadata": {},
   "outputs": [
    {
     "data": {
      "text/plain": [
       "False"
      ]
     },
     "execution_count": 20,
     "metadata": {},
     "output_type": "execute_result"
    }
   ],
   "source": [
    "has_friday_13(1, 1985)"
   ]
  },
  {
   "cell_type": "markdown",
   "id": "2e20dafc",
   "metadata": {},
   "source": [
    "### 4.Write a regular expression that will help us count how many bad cookies are produced every day. You must use RegEx negative lookbehind.\n",
    "**Examples:**   \n",
    "`lst = [\"bad cookie\", \"good cookie\", \"bad cookie\", \"good cookie\", \"good cookie\"]`  \n",
    "`pattern = \"yourregularexpressionhere\"`  \n",
    "`len(re.findall(pattern, \", \".join(lst))) ➞ 2`"
   ]
  },
  {
   "cell_type": "code",
   "execution_count": 21,
   "id": "43274ecc",
   "metadata": {},
   "outputs": [
    {
     "data": {
      "text/plain": [
       "2"
      ]
     },
     "execution_count": 21,
     "metadata": {},
     "output_type": "execute_result"
    }
   ],
   "source": [
    "import re\n",
    "lst = ['bad cookie', 'good cookie', 'bad cookie', 'good cookie', 'good cookie']\n",
    "pattern = 'bad\\s\\w'\n",
    "len(re.findall(pattern, ', '.join(lst)))"
   ]
  },
  {
   "cell_type": "markdown",
   "id": "ce6f15e9",
   "metadata": {},
   "source": [
    "### 5.. Given a list of words in the singular form, return a set of those words in the plural form if they appear more than once in the list.\n",
    "**Examples:**   \n",
    "`pluralize([\"cow\", \"pig\", \"cow\", \"cow\"]) ➞ { \"cows\", \"pig\" }`  \n",
    "`pluralize([\"table\", \"table\", \"table\"]) ➞ { \"tables\" }`  \n",
    "`pluralize([\"chair\", \"pencil\", \"arm\"]) ➞ { \"chair\", \"pencil\", \"arm\" }`  "
   ]
  },
  {
   "cell_type": "code",
   "execution_count": 22,
   "id": "deef2440",
   "metadata": {},
   "outputs": [],
   "source": [
    "def pluralize(l):\n",
    "    l1 = []\n",
    "    for i in l:\n",
    "        if l.count(i)>1:\n",
    "            l1.append(i+'s')\n",
    "        else:\n",
    "            l1.append(i)\n",
    "    return set(l1)"
   ]
  },
  {
   "cell_type": "code",
   "execution_count": 23,
   "id": "412c955e",
   "metadata": {},
   "outputs": [
    {
     "data": {
      "text/plain": [
       "{'cows', 'pig'}"
      ]
     },
     "execution_count": 23,
     "metadata": {},
     "output_type": "execute_result"
    }
   ],
   "source": [
    "pluralize([\"cow\", \"pig\", \"cow\", \"cow\"])"
   ]
  },
  {
   "cell_type": "code",
   "execution_count": 24,
   "id": "19ba7374",
   "metadata": {},
   "outputs": [
    {
     "data": {
      "text/plain": [
       "{'tables'}"
      ]
     },
     "execution_count": 24,
     "metadata": {},
     "output_type": "execute_result"
    }
   ],
   "source": [
    "pluralize([\"table\", \"table\", \"table\"])"
   ]
  },
  {
   "cell_type": "code",
   "execution_count": 25,
   "id": "5377ae8a",
   "metadata": {},
   "outputs": [
    {
     "data": {
      "text/plain": [
       "{'arm', 'chair', 'pencil'}"
      ]
     },
     "execution_count": 25,
     "metadata": {},
     "output_type": "execute_result"
    }
   ],
   "source": [
    "pluralize([\"chair\", \"pencil\", \"arm\"])"
   ]
  }
 ],
 "metadata": {
  "kernelspec": {
   "display_name": "Python 3 (ipykernel)",
   "language": "python",
   "name": "python3"
  },
  "language_info": {
   "codemirror_mode": {
    "name": "ipython",
    "version": 3
   },
   "file_extension": ".py",
   "mimetype": "text/x-python",
   "name": "python",
   "nbconvert_exporter": "python",
   "pygments_lexer": "ipython3",
   "version": "3.9.7"
  }
 },
 "nbformat": 4,
 "nbformat_minor": 5
}
