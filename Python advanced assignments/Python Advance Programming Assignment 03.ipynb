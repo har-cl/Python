{
 "cells": [
  {
   "cell_type": "markdown",
   "id": "b6f6eba0",
   "metadata": {},
   "source": [
    "# Python Advance Programming Assignment\n",
    "## Assignment - 03 [ FSDS NOV 21 ]"
   ]
  },
  {
   "cell_type": "markdown",
   "id": "4a0cc8f7",
   "metadata": {},
   "source": [
    "### 1.Create a function to perform basic arithmetic operations that includes addition, subtraction, multiplication and division on a string number (e.g. \"12 + 24\" or \"23 - 21\" or \"12 // 12\" or \"12 * 21\").\n",
    "Here, we have 1 followed by a space, operator followed by another space and 2. For the challenge, we are going to have only two numbers between 1 valid operator. The return value should be a number.  \n",
    "eval() is not allowed. In case of division, whenever the second number equals \"0\" return -1.   \n",
    "For example:  `\"15 // 0\"  ➞ -1`   \n",
    "**Examples:**  \n",
    "`arithmetic_operation(\"12 + 12\") ➞ 24 // 12 + 12 = 24`  \n",
    "`arithmetic_operation(\"12 - 12\") ➞ 24 // 12 - 12 = 0`  \n",
    "`arithmetic_operation(\"12 * 12\") ➞ 144 // 12 * 12 = 144`  \n",
    "`arithmetic_operation(\"12 // 0\") ➞ -1 // 12 / 0 = -1`  "
   ]
  },
  {
   "cell_type": "code",
   "execution_count": 1,
   "id": "10520ee2",
   "metadata": {},
   "outputs": [
    {
     "name": "stdout",
     "output_type": "stream",
     "text": [
      "arithmetic_operation(12 + 12) ➞ 24\n",
      "arithmetic_operation(12 - 12) ➞ 0\n",
      "arithmetic_operation(12 * 12) ➞ 144\n",
      "arithmetic_operation(12 // 0) ➞ -1\n"
     ]
    }
   ],
   "source": [
    "import operator\n",
    "\n",
    "ops = {'+':operator.add,'-':operator.sub,'*':operator.mul,'//':operator.floordiv}\n",
    "\n",
    "def arithmetic_operation(in_string):\n",
    "    in_list = in_string.split(\" \")\n",
    "    output = ops[in_list[1]](int(in_list[0]),int(in_list[2])) if int(in_list[2]) != 0 else -1\n",
    "    print(f'arithmetic_operation({in_list[0]} {in_list[1]} {in_list[2]}) ➞ {output}')\n",
    "    \n",
    "arithmetic_operation(\"12 + 12\")\n",
    "arithmetic_operation(\"12 - 12\")\n",
    "arithmetic_operation(\"12 * 12\")\n",
    "arithmetic_operation(\"12 // 0\")"
   ]
  },
  {
   "cell_type": "markdown",
   "id": "860fe1bf",
   "metadata": {},
   "source": [
    "### 2.Write a function that takes the coordinates of three points in the form of a 2d array and returns the perimeter of the triangle. The given points are the vertices of a triangle on a two-dimensional plane.\n",
    "**Examples:**  \n",
    "`perimeter( [ [15, 7], [5, 22], [11, 1] ] ) ➞ 47.08`  \n",
    "`perimeter( [ [0, 0], [0, 1], [1, 0] ] ) ➞ 3.42`  \n",
    "`perimeter( [ [-10, -10], [10, 10 ], [-10, 10] ] ) ➞ 68.28`  "
   ]
  },
  {
   "cell_type": "code",
   "execution_count": 1,
   "id": "5524d249",
   "metadata": {},
   "outputs": [],
   "source": [
    "import math\n",
    "\n",
    "def distance(x1, y1, x2, y2):\n",
    "    length = math.sqrt((x2 - x1)**2 + (y2 - y1)**2)\n",
    "    return length\n",
    "\n",
    "def perimeter(vertices):\n",
    "    \n",
    "    # [ [15, 7], [5, 22], [11, 1] ] \n",
    "    \n",
    "    side1 = distance(vertices[0][0], vertices[0][1], vertices[1][0], vertices[1][1])\n",
    "    side2 = distance(vertices[1][0], vertices[1][1], vertices[2][0], vertices[2][1])\n",
    "    side3 = distance(vertices[2][0], vertices[2][1], vertices[0][0], vertices[0][1])\n",
    "    \n",
    "    return side1 + side2+ side3"
   ]
  },
  {
   "cell_type": "code",
   "execution_count": 2,
   "id": "b2d30934",
   "metadata": {},
   "outputs": [
    {
     "data": {
      "text/plain": [
       "47.07918859608948"
      ]
     },
     "execution_count": 2,
     "metadata": {},
     "output_type": "execute_result"
    }
   ],
   "source": [
    "perimeter( [ [15, 7], [5, 22], [11, 1] ] )"
   ]
  },
  {
   "cell_type": "code",
   "execution_count": 3,
   "id": "469d1452",
   "metadata": {},
   "outputs": [
    {
     "data": {
      "text/plain": [
       "3.414213562373095"
      ]
     },
     "execution_count": 3,
     "metadata": {},
     "output_type": "execute_result"
    }
   ],
   "source": [
    "perimeter( [ [0, 0], [0, 1], [1, 0] ] )"
   ]
  },
  {
   "cell_type": "code",
   "execution_count": 4,
   "id": "ebe9ab7e",
   "metadata": {},
   "outputs": [
    {
     "data": {
      "text/plain": [
       "68.2842712474619"
      ]
     },
     "execution_count": 4,
     "metadata": {},
     "output_type": "execute_result"
    }
   ],
   "source": [
    "perimeter( [ [-10, -10], [10, 10 ], [-10, 10] ] )"
   ]
  },
  {
   "cell_type": "markdown",
   "id": "9556acd9",
   "metadata": {},
   "source": [
    "### 3.A city skyline can be represented as a 2-D list with 1s representing buildings. In the example below, the height of the tallest building is 4 (second-most right column).\n",
    "`[[0, 0, 0, 0, 0, 0],\n",
    "[0, 0, 0, 0, 1, 0],\n",
    "[0, 0, 1, 0, 1, 0],\n",
    "[0, 1, 1, 1, 1, 0],\n",
    "[1, 1, 1, 1, 1, 1]]`   \n",
    "Create a function that takes a skyline (2-D list of 0's and 1's) and returns the height of the tallest skyscraper.   \n",
    "**Examples:**  \n",
    "`tallest_skyscraper([[0, 0, 0, 0],[0, 1, 0, 0],[0, 1, 1, 0],[1, 1, 1, 1]]) ➞ 3`  \n",
    "`tallest_skyscraper([[0, 1, 0, 0],[0, 1, 0, 0],[0, 1, 1, 0],[1, 1, 1, 1]]) ➞ 4`  \n",
    "`tallest_skyscraper([[0, 0, 0, 0],[0, 0, 0, 0],[1, 1, 1, 0],[1, 1, 1, 1]]) ➞ 2` "
   ]
  },
  {
   "cell_type": "code",
   "execution_count": 5,
   "id": "a149e154",
   "metadata": {},
   "outputs": [],
   "source": [
    "def tallest_skyscraper(lst):\n",
    "    \n",
    "    tallest = 0\n",
    "    \n",
    "    for i in range(len(lst[0])):\n",
    "        # 00, 10, 20, 30\n",
    "        # 01, 11, 21, 31\n",
    "        current_height = 0\n",
    "        for j in range(len(lst)):\n",
    "            current_height += lst[j][i]\n",
    "        \n",
    "        if current_height >= tallest:\n",
    "            tallest = current_height\n",
    "            \n",
    "    return tallest"
   ]
  },
  {
   "cell_type": "code",
   "execution_count": 6,
   "id": "41079315",
   "metadata": {},
   "outputs": [
    {
     "data": {
      "text/plain": [
       "3"
      ]
     },
     "execution_count": 6,
     "metadata": {},
     "output_type": "execute_result"
    }
   ],
   "source": [
    "tallest_skyscraper([\n",
    "  [0, 0, 0, 0],\n",
    "  [0, 1, 0, 0],\n",
    "  [0, 1, 1, 0],\n",
    "  [1, 1, 1, 1]\n",
    "])"
   ]
  },
  {
   "cell_type": "code",
   "execution_count": 7,
   "id": "31c0b613",
   "metadata": {},
   "outputs": [
    {
     "data": {
      "text/plain": [
       "4"
      ]
     },
     "execution_count": 7,
     "metadata": {},
     "output_type": "execute_result"
    }
   ],
   "source": [
    "tallest_skyscraper([\n",
    "  [0, 1, 0, 0],\n",
    "  [0, 1, 0, 0],\n",
    "  [0, 1, 1, 0],\n",
    "  [1, 1, 1, 1]\n",
    "])"
   ]
  },
  {
   "cell_type": "code",
   "execution_count": 8,
   "id": "96cfefa6",
   "metadata": {},
   "outputs": [
    {
     "data": {
      "text/plain": [
       "2"
      ]
     },
     "execution_count": 8,
     "metadata": {},
     "output_type": "execute_result"
    }
   ],
   "source": [
    "tallest_skyscraper([\n",
    "  [0, 0, 0, 0],\n",
    "  [0, 0, 0, 0],\n",
    "  [1, 1, 1, 0],\n",
    "  [1, 1, 1, 1]\n",
    "]) "
   ]
  },
  {
   "cell_type": "markdown",
   "id": "42ca294b",
   "metadata": {},
   "source": [
    "### 4.A financial institution provides professional services to banks and claims charges from the customers based on the number of man-days provided. Internally, it has set a scheme to motivate and reward staff to meet and exceed targeted billable utilization and revenues by paying a bonus for each day claimed from customers in excess of a threshold target.\n",
    "\n",
    "This quarterly scheme is calculated with a threshold target of 32 days per quarter, and the incentive payment for each billable day in excess of such threshold target is shown as follows:\n",
    "\n",
    "`Days                             Bonus  \n",
    "0 to 32 days                  Zero  \n",
    "33 to 40 days         SGD$325 per billable day  \n",
    "41 to 48 days         SGD$550 per billable day  \n",
    "Greater than 48 days      SGD$600 per billable day`\n",
    "\n",
    "Please note that incentive payment is calculated progressively. As an example, if an employee reached total billable days of 45 in a quarter, his/her incentive payment is computed as follows:  \n",
    "`32*0 + 8*325 + 5*550 = 5350`  \n",
    "Write a function to read the billable days of an employee and return the bonus he/she has obtained in that quarter.\n",
    "\n",
    "**Examples:**  \n",
    "`bonus(15) ➞ 0`  \n",
    "`bonus(37) ➞ 1625`  \n",
    "`bonus(50) ➞ 8200`  "
   ]
  },
  {
   "cell_type": "code",
   "execution_count": 9,
   "id": "d3ea014b",
   "metadata": {},
   "outputs": [],
   "source": [
    "def bonus(days):\n",
    "    \n",
    "    bonus = 0\n",
    "    for i in range(days + 1):\n",
    "        if i <= 32:\n",
    "            continue\n",
    "        if i > 32 and i <= 40:\n",
    "            bonus += 325\n",
    "        if i > 40 and i <= 48:\n",
    "            bonus += 550\n",
    "        if i > 48:\n",
    "            bonus += 600\n",
    "        \n",
    "    return bonus"
   ]
  },
  {
   "cell_type": "code",
   "execution_count": 10,
   "id": "4612fd03",
   "metadata": {},
   "outputs": [
    {
     "data": {
      "text/plain": [
       "0"
      ]
     },
     "execution_count": 10,
     "metadata": {},
     "output_type": "execute_result"
    }
   ],
   "source": [
    "bonus(15)"
   ]
  },
  {
   "cell_type": "code",
   "execution_count": 11,
   "id": "27958cc4",
   "metadata": {},
   "outputs": [
    {
     "data": {
      "text/plain": [
       "1625"
      ]
     },
     "execution_count": 11,
     "metadata": {},
     "output_type": "execute_result"
    }
   ],
   "source": [
    "bonus(37)"
   ]
  },
  {
   "cell_type": "code",
   "execution_count": 12,
   "id": "2deddb8f",
   "metadata": {},
   "outputs": [
    {
     "data": {
      "text/plain": [
       "8200"
      ]
     },
     "execution_count": 12,
     "metadata": {},
     "output_type": "execute_result"
    }
   ],
   "source": [
    "bonus(50)"
   ]
  },
  {
   "cell_type": "markdown",
   "id": "a64a9fdc",
   "metadata": {},
   "source": [
    "### 5.A number is said to be Disarium if the sum of its digits raised to their respective positions is the number itself.\n",
    "Create a function that determines whether a number is a Disarium or not.  \n",
    "**Examples:**  \n",
    "`is_disarium(75) ➞ False`    \n",
    "    `# 7^1 + 5^2 = 7 + 25 = 32`  \n",
    "`is_disarium(135) ➞ True`  \n",
    "    `# 1^1 + 3^2 + 5^3 = 1 + 9 + 125 = 135`  \n",
    "`is_disarium(544) ➞ False`  \n",
    "`is_disarium(518) ➞ True`  \n",
    "`is_disarium(466) ➞ False`  \n",
    "`is_disarium(8) ➞ True`  "
   ]
  },
  {
   "cell_type": "code",
   "execution_count": 13,
   "id": "3bbdba49",
   "metadata": {},
   "outputs": [],
   "source": [
    "def is_disarium(num):\n",
    "    \n",
    "    temp = num\n",
    "    total = 0\n",
    "    itr = 1\n",
    "    \n",
    "    for i in str(num):\n",
    "        total += int(i)**itr\n",
    "        itr += 1\n",
    "        \n",
    "    return total == temp"
   ]
  },
  {
   "cell_type": "code",
   "execution_count": 14,
   "id": "f429d094",
   "metadata": {},
   "outputs": [
    {
     "data": {
      "text/plain": [
       "False"
      ]
     },
     "execution_count": 14,
     "metadata": {},
     "output_type": "execute_result"
    }
   ],
   "source": [
    "is_disarium(544)"
   ]
  },
  {
   "cell_type": "code",
   "execution_count": 15,
   "id": "bd348a20",
   "metadata": {},
   "outputs": [
    {
     "data": {
      "text/plain": [
       "True"
      ]
     },
     "execution_count": 15,
     "metadata": {},
     "output_type": "execute_result"
    }
   ],
   "source": [
    "is_disarium(518)"
   ]
  },
  {
   "cell_type": "code",
   "execution_count": 16,
   "id": "44e68890",
   "metadata": {},
   "outputs": [
    {
     "data": {
      "text/plain": [
       "False"
      ]
     },
     "execution_count": 16,
     "metadata": {},
     "output_type": "execute_result"
    }
   ],
   "source": [
    "is_disarium(466)"
   ]
  },
  {
   "cell_type": "code",
   "execution_count": 17,
   "id": "fa015572",
   "metadata": {},
   "outputs": [
    {
     "data": {
      "text/plain": [
       "True"
      ]
     },
     "execution_count": 17,
     "metadata": {},
     "output_type": "execute_result"
    }
   ],
   "source": [
    "is_disarium(8)"
   ]
  }
 ],
 "metadata": {
  "kernelspec": {
   "display_name": "Python 3 (ipykernel)",
   "language": "python",
   "name": "python3"
  },
  "language_info": {
   "codemirror_mode": {
    "name": "ipython",
    "version": 3
   },
   "file_extension": ".py",
   "mimetype": "text/x-python",
   "name": "python",
   "nbconvert_exporter": "python",
   "pygments_lexer": "ipython3",
   "version": "3.9.7"
  }
 },
 "nbformat": 4,
 "nbformat_minor": 5
}
