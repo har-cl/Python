{
 "cells": [
  {
   "cell_type": "markdown",
   "id": "e44198a7",
   "metadata": {},
   "source": [
    "# Python Advance Programming Assignment\n",
    "## Assignment - 05 [ FSDS NOV 21 ]"
   ]
  },
  {
   "cell_type": "markdown",
   "id": "a1b117a0",
   "metadata": {},
   "source": [
    "### 1.Create a function that takes a number n (integer greater than zero) as an argument, and returns 2 if n is odd and 8 if n is even. \n",
    "You can only use the following arithmetic operators:  \n",
    "`addition of numbers +, \n",
    "subtraction of numbers -, \n",
    "multiplication of number *, \n",
    "division of number /, \n",
    "and exponentiation **.`  \n",
    "You are not allowed to use any other methods in this challenge (i.e. no if statements, comparison operators, etc).  \n",
    "**Examples:**   \n",
    "`f(1) ➞ 2`  \n",
    "`f(2) ➞ 8`  \n",
    "`f(3) ➞ 2` "
   ]
  },
  {
   "cell_type": "code",
   "execution_count": 1,
   "id": "0c3f23e7",
   "metadata": {},
   "outputs": [
    {
     "name": "stdout",
     "output_type": "stream",
     "text": [
      "f(1)➞ 2\n",
      "f(2)➞ 8\n",
      "f(3)➞ 2\n"
     ]
    }
   ],
   "source": [
    "def f(in_num):\n",
    "    output = [8,2]\n",
    "    print(f'f({in_num})➞ {output[in_num&1]}')\n",
    "    \n",
    "f(1)\n",
    "f(2)\n",
    "f(3)"
   ]
  },
  {
   "cell_type": "markdown",
   "id": "1201e3a6",
   "metadata": {},
   "source": [
    "### 2.Create a function that returns the majority vote in a list. A majority vote is an element that occurs > N/2 times in a list (where N is the length of the list).\n",
    "**Examples:**   \n",
    "`majority_vote([\"A\", \"A\", \"B\"]) ➞ \"A\"`  \n",
    "`majority_vote([\"A\", \"A\", \"A\", \"B\", \"C\", \"A\"]) ➞ \"A\"`  \n",
    "`majority_vote([\"A\", \"B\", \"B\", \"A\", \"C\", \"C\"]) ➞ None`  "
   ]
  },
  {
   "cell_type": "code",
   "execution_count": 1,
   "id": "34ea855b",
   "metadata": {},
   "outputs": [],
   "source": [
    "def majority_vote(votes):\n",
    "    for i in set(votes): # using set to reduce iterations\n",
    "        if votes.count(i) > len(votes)/2:\n",
    "            return i\n",
    "    else:\n",
    "        return None"
   ]
  },
  {
   "cell_type": "code",
   "execution_count": 3,
   "id": "1ef37c74",
   "metadata": {},
   "outputs": [
    {
     "data": {
      "text/plain": [
       "'A'"
      ]
     },
     "execution_count": 3,
     "metadata": {},
     "output_type": "execute_result"
    }
   ],
   "source": [
    "majority_vote(['A', 'A', 'B'])"
   ]
  },
  {
   "cell_type": "code",
   "execution_count": 4,
   "id": "1b6549fb",
   "metadata": {},
   "outputs": [
    {
     "data": {
      "text/plain": [
       "'A'"
      ]
     },
     "execution_count": 4,
     "metadata": {},
     "output_type": "execute_result"
    }
   ],
   "source": [
    "majority_vote(['A', 'A', 'A', 'B', 'C', 'A'])"
   ]
  },
  {
   "cell_type": "code",
   "execution_count": 7,
   "id": "5e7c0a97",
   "metadata": {},
   "outputs": [
    {
     "name": "stdout",
     "output_type": "stream",
     "text": [
      "None\n"
     ]
    }
   ],
   "source": [
    "print(majority_vote(['A', 'B', 'B', 'A', 'C', 'C']))"
   ]
  },
  {
   "cell_type": "markdown",
   "id": "3438eb6a",
   "metadata": {},
   "source": [
    "### 3.Create a function that takes a string txt and censors any word from a given list lst. The text removed must be replaced by the given character char.\n",
    "**Examples:**   \n",
    "`censor_string(\"Today is a Wednesday!\", [\"Today\", \"a\"], \"-\") ➞ \"----- is - Wednesday!\"`  \n",
    "`censor_string(\"The cow jumped over the moon.\", [\"cow\", \"over\"], \"*\"), \"The *** jumped **** the moon.\")`  \n",
    "`censor_string(\"Why did the chicken cross the road ?\", [\"Did\", \"chicken\", \"road\"], \"*\") ➞ \"Why *** the ******* cross the ****?\"`  "
   ]
  },
  {
   "cell_type": "code",
   "execution_count": 12,
   "id": "4eef5ed7",
   "metadata": {},
   "outputs": [],
   "source": [
    "def censor_string(text, censorlst, replacer):\n",
    "\n",
    "    word_list = text.split()\n",
    "    for censor in censorlst:\n",
    "        index = 0\n",
    "        for word in word_list:\n",
    "            if censor.lower() == word.lower():\n",
    "                ch = len(censor) * replacer\n",
    "                word_list[index] = ch\n",
    "            elif censor.lower() == word[0:-1].lower():\n",
    "                ch = len(censor) * replacer\n",
    "                word_list[index] = ch+word[-1]\n",
    "            index+=1\n",
    "\n",
    "    return \" \".join(word_list)"
   ]
  },
  {
   "cell_type": "code",
   "execution_count": 13,
   "id": "9273cbd7",
   "metadata": {},
   "outputs": [
    {
     "data": {
      "text/plain": [
       "'----- is - Wednesday!'"
      ]
     },
     "execution_count": 13,
     "metadata": {},
     "output_type": "execute_result"
    }
   ],
   "source": [
    "censor_string('Today is a Wednesday!', ['Today', 'a'],'-')"
   ]
  },
  {
   "cell_type": "code",
   "execution_count": 14,
   "id": "0d7b4bb3",
   "metadata": {},
   "outputs": [
    {
     "data": {
      "text/plain": [
       "('The *** jumped **** the moon.',)"
      ]
     },
     "execution_count": 14,
     "metadata": {},
     "output_type": "execute_result"
    }
   ],
   "source": [
    "censor_string('The cow jumped over the moon.', ['cow', 'over'], '*'),"
   ]
  },
  {
   "cell_type": "code",
   "execution_count": 15,
   "id": "15a6069b",
   "metadata": {},
   "outputs": [
    {
     "data": {
      "text/plain": [
       "'Why *** the ******* cross the ****?'"
      ]
     },
     "execution_count": 15,
     "metadata": {},
     "output_type": "execute_result"
    }
   ],
   "source": [
    "censor_string('Why did the chicken cross the road?', ['Did', 'chicken','road'], '*')"
   ]
  },
  {
   "cell_type": "markdown",
   "id": "898c3847",
   "metadata": {},
   "source": [
    "### 4.In mathematics a Polydivisible Number (or magic number) is a number in a given number base with digits abcde... that has the following properties:\n",
    "- Its first digit a is not 0.\n",
    "- The number formed by its first two digits ab is a multiple of 2.\n",
    "- The number formed by its first three digits abc is a multiple of 3.\n",
    "- The number formed by its first four digits abcd is a multiple of 4.\n",
    "Create a function which takes an integer n and returns True if the given number is a Polydivisible Number and False otherwise. \n",
    "\n",
    "**Examples:**   \n",
    "`is_polydivisible(1232) ➞ True\n",
    "    # 1     / 1 = 1\n",
    "    # 12    / 2 = 6\n",
    "    # 123   / 3 = 41\n",
    "    # 1232  / 4 = 308\n",
    "is_polydivisible(123220 ) ➞ False\n",
    "    # 1   / 1 = 1\n",
    "    # 12   / 2 = 6\n",
    "    # 123   / 3 = 41\n",
    "    # 1232   / 4 = 308\n",
    "    # 12322   / 5 = 2464.4         # Not a Whole Number\n",
    "    # 123220   /6 = 220536.333...  # Not a Whole Number`"
   ]
  },
  {
   "cell_type": "code",
   "execution_count": 16,
   "id": "16300760",
   "metadata": {},
   "outputs": [],
   "source": [
    "def is_polydivisible(num):\n",
    "    \n",
    "    flag = True\n",
    "    divisor = 10**(len(str(num))-1)\n",
    "    itr = 0\n",
    "    \n",
    "    while(divisor > 0):\n",
    "        itr += 1\n",
    "        #print(num, divisor, num//divisor, itr)\n",
    "        if (num//divisor)%itr != 0:\n",
    "            flag = False\n",
    "            return flag\n",
    "        divisor = divisor // 10\n",
    "\n",
    "    return flag"
   ]
  },
  {
   "cell_type": "code",
   "execution_count": 17,
   "id": "c8a3e312",
   "metadata": {},
   "outputs": [
    {
     "data": {
      "text/plain": [
       "True"
      ]
     },
     "execution_count": 17,
     "metadata": {},
     "output_type": "execute_result"
    }
   ],
   "source": [
    "is_polydivisible(1232)"
   ]
  },
  {
   "cell_type": "code",
   "execution_count": 18,
   "id": "7fab6e3b",
   "metadata": {},
   "outputs": [
    {
     "data": {
      "text/plain": [
       "False"
      ]
     },
     "execution_count": 18,
     "metadata": {},
     "output_type": "execute_result"
    }
   ],
   "source": [
    "is_polydivisible(123220)"
   ]
  },
  {
   "cell_type": "markdown",
   "id": "23b50918",
   "metadata": {},
   "source": [
    "### 5.. Create a function that takes a list of numbers and returns the sum of all prime numbers in the list.\n",
    "**Examples:**   \n",
    "`sum_primes([1, 2, 3, 4, 5, 6, 7, 8, 9, 10]) ➞ 17`   \n",
    "`sum_primes([2, 3, 4, 11, 20, 50, 71]) ➞ 87`  \n",
    "`sum_primes([]) ➞ None`"
   ]
  },
  {
   "cell_type": "code",
   "execution_count": 19,
   "id": "675cc028",
   "metadata": {},
   "outputs": [],
   "source": [
    "def is_prime(n):\n",
    "    if n < 2:\n",
    "        return False\n",
    "    elif n <= 3:\n",
    "        return True\n",
    "    elif n % 2 == 0:\n",
    "        return False\n",
    "  \n",
    "    length = int(n**.5) + 1  # n**.5 is equal to sqrt(n)\n",
    "    for i in range(3, length, 2):\n",
    "        if n % i == 0:\n",
    "            return False\n",
    "\n",
    "    return True\n",
    "def sum_primes(l):\n",
    "    return sum(n for n in l if is_prime(n))"
   ]
  },
  {
   "cell_type": "code",
   "execution_count": 20,
   "id": "bcfe1fb3",
   "metadata": {},
   "outputs": [
    {
     "data": {
      "text/plain": [
       "17"
      ]
     },
     "execution_count": 20,
     "metadata": {},
     "output_type": "execute_result"
    }
   ],
   "source": [
    "sum_primes([1, 2, 3, 4, 5, 6, 7, 8, 9, 10])"
   ]
  },
  {
   "cell_type": "code",
   "execution_count": 21,
   "id": "ebc8c429",
   "metadata": {},
   "outputs": [
    {
     "data": {
      "text/plain": [
       "87"
      ]
     },
     "execution_count": 21,
     "metadata": {},
     "output_type": "execute_result"
    }
   ],
   "source": [
    "sum_primes([2, 3, 4, 11, 20, 50, 71])"
   ]
  },
  {
   "cell_type": "code",
   "execution_count": 24,
   "id": "14f8d519",
   "metadata": {},
   "outputs": [
    {
     "data": {
      "text/plain": [
       "0"
      ]
     },
     "execution_count": 24,
     "metadata": {},
     "output_type": "execute_result"
    }
   ],
   "source": [
    "sum_primes([])"
   ]
  }
 ],
 "metadata": {
  "kernelspec": {
   "display_name": "Python 3 (ipykernel)",
   "language": "python",
   "name": "python3"
  },
  "language_info": {
   "codemirror_mode": {
    "name": "ipython",
    "version": 3
   },
   "file_extension": ".py",
   "mimetype": "text/x-python",
   "name": "python",
   "nbconvert_exporter": "python",
   "pygments_lexer": "ipython3",
   "version": "3.9.7"
  }
 },
 "nbformat": 4,
 "nbformat_minor": 5
}
