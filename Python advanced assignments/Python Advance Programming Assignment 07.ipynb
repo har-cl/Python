{
 "cells": [
  {
   "cell_type": "markdown",
   "id": "c2f52ed1",
   "metadata": {},
   "source": [
    "# Python Advance Programming Assignment\n",
    "## Assignment - 07 [ FSDS NOV 21 ]"
   ]
  },
  {
   "cell_type": "markdown",
   "id": "6e188120",
   "metadata": {},
   "source": [
    "### 1. Write a function that counts how many concentric layers a rug.\n",
    "**Examples:**    \n",
    "`count_layers([\"AAAA\",\"ABBA\",\"AAAA\"]) ➞ 2`  \n",
    "`count_layers([\"AAAAAAAAA\",\"ABBBBBBBA\",\"ABBAAABBA\",\"ABBBBBBBA\",\"AAAAAAAAA\"]) ➞ 3`  \n",
    "`count_layers([\"AAAAAAAAAAA\",\"AABBBBBBBAA\",\"AABCCCCCBAA\",\"AABCAAACBAA\",\"AABCADACBAA\",\"AABCAAACBAA\",\"AABCCCCCBAA\",\"AABBBBBBBAA\",\"AAAAAAAAAAA\"]) ➞ 5`  "
   ]
  },
  {
   "cell_type": "code",
   "execution_count": 1,
   "id": "791df7b3",
   "metadata": {},
   "outputs": [
    {
     "name": "stdout",
     "output_type": "stream",
     "text": [
      "count_layers(['AAAA', 'ABBA', 'AAAA']) ➞ 2\n",
      "count_layers(['AAAAAAAAA', 'ABBBBBBBA', 'ABBAAABBA', 'ABBBBBBBA', 'AAAAAAAAA']) ➞ 3\n",
      "count_layers(['AAAAAAAAAAA', 'AABBBBBBBAA', 'AABCCCCCBAA', 'AABCAAACBAA', 'AABCADACBAA', 'AABCAAACBAA', 'AABCCCCCBAA', 'AABBBBBBBAA', 'AAAAAAAAAAA']) ➞ 5\n"
     ]
    }
   ],
   "source": [
    "def count_layers(in_list):\n",
    "    out_list = []\n",
    "    for ele in in_list:\n",
    "        if ele not in out_list:\n",
    "            out_list.append(ele)\n",
    "    print(f'count_layers({in_list}) ➞ {len(out_list)}')\n",
    "\n",
    "count_layers([\"AAAA\",\"ABBA\",\"AAAA\"])\n",
    "count_layers([\"AAAAAAAAA\",\"ABBBBBBBA\",\"ABBAAABBA\",\"ABBBBBBBA\",\"AAAAAAAAA\"])\n",
    "count_layers([\"AAAAAAAAAAA\",\"AABBBBBBBAA\",\"AABCCCCCBAA\",\"AABCAAACBAA\",\"AABCADACBAA\",\"AABCAAACBAA\",\"AABCCCCCBAA\",\"AABBBBBBBAA\",\"AAAAAAAAAAA\"])"
   ]
  },
  {
   "cell_type": "markdown",
   "id": "f1524480",
   "metadata": {},
   "source": [
    "### 2. There are many different styles of music and many albums exhibit multiple styles. Create a function that takes a list of musical styles from albums and returns how many styles are unique.\n",
    "**Examples:**    \n",
    "`unique_styles([\n",
    "  \"Dub,Dancehall\",\n",
    "  \"Industrial,Heavy Metal\",\n",
    "  \"Techno,Dubstep\",\n",
    "  \"Synth-pop,Euro-Disco\",\n",
    "  \"Industrial,Techno,Minimal\"\n",
    "]) ➞ 9`  \n",
    "`unique_styles([\n",
    "  \"Soul\",\n",
    "  \"House,Folk\",\n",
    "  \"Trance,Downtempo,Big Beat,House\",\n",
    "  \"Deep House\",\n",
    "  \"Soul\"\n",
    "]) ➞ 7` "
   ]
  },
  {
   "cell_type": "code",
   "execution_count": 1,
   "id": "fc0e90d2",
   "metadata": {},
   "outputs": [],
   "source": [
    "def unique_styles(lst):\n",
    "    uplst = []\n",
    "    for i in lst:\n",
    "        uplst.extend(i.split(','))\n",
    "    return \"unique style \",len(set(uplst))"
   ]
  },
  {
   "cell_type": "code",
   "execution_count": 3,
   "id": "50c25adc",
   "metadata": {},
   "outputs": [
    {
     "data": {
      "text/plain": [
       "('unique style ', 9)"
      ]
     },
     "execution_count": 3,
     "metadata": {},
     "output_type": "execute_result"
    }
   ],
   "source": [
    "unique_styles([\"Dub,Dancehall\",\"Industrial,Heavy Metal\",\"Techno,Dubstep\",\"Synth-pop,Euro-Disco\",\"Industrial,Techno,Minimal\"])"
   ]
  },
  {
   "cell_type": "code",
   "execution_count": 5,
   "id": "151f5c3a",
   "metadata": {},
   "outputs": [
    {
     "data": {
      "text/plain": [
       "('unique style ', 7)"
      ]
     },
     "execution_count": 5,
     "metadata": {},
     "output_type": "execute_result"
    }
   ],
   "source": [
    "unique_styles([\"Soul\",\"House,Folk\",\"Trance,Downtempo,Big Beat,House\",\"Deep House\",\"Soul\"])"
   ]
  },
  {
   "cell_type": "markdown",
   "id": "58194a2d",
   "metadata": {},
   "source": [
    "### 3. Create a function that finds a target number in a list of prime numbers. Implement a binary search algorithm in your function. The target number will be from 2 through 97. If the target is prime then return \"yes\" else return \"no\".\n",
    "**Examples:**    \n",
    "`primes = [2, 3, 5, 7, 11, 13, 17, 19, 23, 29, 31, 37, 41, 43, 47, 53, 59, 61, 67, 71, 73, 79, 83, 89, 97]`  \n",
    "`is_prime(primes, 3) ➞ \"yes\"`  \n",
    "`is_prime(primes, 4) ➞ \"no\"`  \n",
    "`is_prime(primes, 67) ➞ \"yes\"`  \n",
    "`is_prime(primes, 36) ➞ \"no\"`  "
   ]
  },
  {
   "cell_type": "code",
   "execution_count": 6,
   "id": "62984d84",
   "metadata": {},
   "outputs": [],
   "source": [
    "primes = [2, 3, 5, 7, 11, 13, 17, 19, 23, 29, 31, 37, 41, 43, 47, 53, 59, 61, 67,71, 73, 79, 83, 89, 97]\n",
    "\n",
    "def is_prime(primes,item):\n",
    "    first = 0\n",
    "    last = len(primes)-1\n",
    "    found = False\n",
    "    yes = 'No'\n",
    "    while( first<=last and not found):\n",
    "        mid = (first + last)//2\n",
    "        if primes[mid] == item :\n",
    "            found = True\n",
    "            yes = 'Yes'\n",
    "        else:\n",
    "            if item < primes[mid]:\n",
    "                last = mid - 1\n",
    "            else:\n",
    "                first = mid + 1\t\n",
    "    return yes"
   ]
  },
  {
   "cell_type": "code",
   "execution_count": 7,
   "id": "bf4ee4be",
   "metadata": {},
   "outputs": [
    {
     "data": {
      "text/plain": [
       "'Yes'"
      ]
     },
     "execution_count": 7,
     "metadata": {},
     "output_type": "execute_result"
    }
   ],
   "source": [
    "is_prime(primes, 3)"
   ]
  },
  {
   "cell_type": "code",
   "execution_count": 8,
   "id": "356c09fe",
   "metadata": {},
   "outputs": [
    {
     "data": {
      "text/plain": [
       "'No'"
      ]
     },
     "execution_count": 8,
     "metadata": {},
     "output_type": "execute_result"
    }
   ],
   "source": [
    "is_prime(primes, 4)"
   ]
  },
  {
   "cell_type": "code",
   "execution_count": 9,
   "id": "4ca989eb",
   "metadata": {},
   "outputs": [
    {
     "data": {
      "text/plain": [
       "'Yes'"
      ]
     },
     "execution_count": 9,
     "metadata": {},
     "output_type": "execute_result"
    }
   ],
   "source": [
    "is_prime(primes, 67)"
   ]
  },
  {
   "cell_type": "code",
   "execution_count": 10,
   "id": "415b4aaa",
   "metadata": {},
   "outputs": [
    {
     "data": {
      "text/plain": [
       "'No'"
      ]
     },
     "execution_count": 10,
     "metadata": {},
     "output_type": "execute_result"
    }
   ],
   "source": [
    "is_prime(primes, 36)"
   ]
  },
  {
   "cell_type": "markdown",
   "id": "5ba7696f",
   "metadata": {},
   "source": [
    "### 4. Create a function that takes in n, a, b and returns the number of positive values raised to the nth power that lie in the range [a, b], inclusive.\n",
    "**Examples:**    \n",
    "`power_ranger(2, 49, 65) ➞ 2`   \n",
    "`# 2 squares (n^2) lie between 49 and 65, 49 (7^2) and 64 (8^2)`   \n",
    "\n",
    "`power_ranger(3, 1, 27) ➞ 3`   \n",
    "`# 3 cubes (n^3) lie between 1 and 27, 1 (1^3), 8 (2^3) and 27 (3^3)`   \n",
    "\n",
    "`power_ranger(10, 1, 5) ➞ 1`  \n",
    "`# 1 value raised to the 10th power lies between 1 and 5, 1 (1^10)`  \n",
    "\n",
    "`power_ranger(5, 31, 33) ➞ 1`  \n",
    "`power_ranger(4, 250, 1300) ➞ 3`  "
   ]
  },
  {
   "cell_type": "code",
   "execution_count": 4,
   "id": "65e1a02e",
   "metadata": {},
   "outputs": [
    {
     "name": "stdout",
     "output_type": "stream",
     "text": [
      "power_ranger(2, 49, 65) ➞ 2\n",
      "power_ranger(3, 1, 27) ➞ 3\n",
      "power_ranger(10, 1, 5) ➞ 1\n",
      "power_ranger(5, 31, 33) ➞ 1\n",
      "power_ranger(4, 250, 1300) ➞ 3\n"
     ]
    }
   ],
   "source": [
    "import math\n",
    "def power_ranger(in_base,in_min,in_max):\n",
    "    output = []\n",
    "    for ele in range(in_min,in_max+1):\n",
    "        root = round(math.exp(math.log(ele)/in_base),1)\n",
    "        if str(root).split(\".\")[1] == '0':\n",
    "            output.append(int(root))\n",
    "    print(f'power_ranger{in_base,in_min,in_max} ➞ {len(set(output))}')\n",
    "\n",
    "power_ranger(2, 49, 65)\n",
    "power_ranger(3, 1, 27)\n",
    "power_ranger(10, 1, 5)\n",
    "power_ranger(5, 31, 33)\n",
    "power_ranger(4, 250, 1300)"
   ]
  },
  {
   "cell_type": "markdown",
   "id": "0625a8f8",
   "metadata": {},
   "source": [
    "### 5. Given a number, return the difference between the maximum and minimum numbers that can be formed when the digits are rearranged.\n",
    "**Examples:**    \n",
    "`rearranged_difference(972882) ➞ 760833`  \n",
    "`# 988722 - 227889 = 760833`  \n",
    "`rearranged_difference(3320707) ➞ 7709823`  \n",
    "`# 7733200 - 23377 = 7709823`  \n",
    "`rearranged_difference(90010) ➞ 90981`  \n",
    "`# 91000 - 19 = 90981`  "
   ]
  },
  {
   "cell_type": "code",
   "execution_count": 11,
   "id": "9d864b13",
   "metadata": {},
   "outputs": [],
   "source": [
    "def findDigit(n):\n",
    "    rev = 0\n",
    "    digit = [] \n",
    "    while(n > 0): \n",
    "        a = n % 10\n",
    "        rev = rev * 10 + a \n",
    "        digit.append(a)\n",
    "        n = n // 10  \n",
    "    return digit\n",
    "    \n",
    "\n",
    "def findMax(digit):\n",
    "    max = int(''.join([str(i) for i in sorted(digit,reverse = True)]))\n",
    "    return max\n",
    "      \n",
    "def finMin(digit):  \n",
    "    min = int(''.join([str(i) for i in sorted(digit,reverse = False)]))\n",
    "    return min\n",
    "def rearranged_difference(n):\n",
    "    digit = findDigit(n)\n",
    "    return findMax(digit) - finMin(digit)"
   ]
  },
  {
   "cell_type": "code",
   "execution_count": 12,
   "id": "cb849afd",
   "metadata": {},
   "outputs": [
    {
     "data": {
      "text/plain": [
       "760833"
      ]
     },
     "execution_count": 12,
     "metadata": {},
     "output_type": "execute_result"
    }
   ],
   "source": [
    "rearranged_difference(972882)"
   ]
  },
  {
   "cell_type": "code",
   "execution_count": 13,
   "id": "0da225aa",
   "metadata": {},
   "outputs": [
    {
     "data": {
      "text/plain": [
       "7709823"
      ]
     },
     "execution_count": 13,
     "metadata": {},
     "output_type": "execute_result"
    }
   ],
   "source": [
    "rearranged_difference(3320707)"
   ]
  },
  {
   "cell_type": "code",
   "execution_count": 14,
   "id": "047e73e0",
   "metadata": {},
   "outputs": [
    {
     "data": {
      "text/plain": [
       "90981"
      ]
     },
     "execution_count": 14,
     "metadata": {},
     "output_type": "execute_result"
    }
   ],
   "source": [
    "rearranged_difference(90010)"
   ]
  }
 ],
 "metadata": {
  "kernelspec": {
   "display_name": "Python 3 (ipykernel)",
   "language": "python",
   "name": "python3"
  },
  "language_info": {
   "codemirror_mode": {
    "name": "ipython",
    "version": 3
   },
   "file_extension": ".py",
   "mimetype": "text/x-python",
   "name": "python",
   "nbconvert_exporter": "python",
   "pygments_lexer": "ipython3",
   "version": "3.9.7"
  }
 },
 "nbformat": 4,
 "nbformat_minor": 5
}
