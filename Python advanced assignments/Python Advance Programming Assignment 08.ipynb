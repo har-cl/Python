{
 "cells": [
  {
   "cell_type": "markdown",
   "id": "0bae8037",
   "metadata": {},
   "source": [
    "# Python Advance Programming Assignment\n",
    "## Assignment - 08 [ FSDS NOV 21 ]"
   ]
  },
  {
   "cell_type": "markdown",
   "id": "9af2cc2c",
   "metadata": {},
   "source": [
    "### 1. Given a sentence as txt, return True if any two adjacent words have this property: One word ends with a vowel, while the word immediately after begins with a vowel (a e i o u).\n",
    "**Examples:**   \n",
    "`vowel_links(\"a very large appliance\") ➞ True`  \n",
    "`vowel_links(\"go to edabit\") ➞ True`  \n",
    "`vowel_links(\"an open fire\") ➞ False`  \n",
    "`vowel_links(\"a sudden applause\") ➞ False`  "
   ]
  },
  {
   "cell_type": "code",
   "execution_count": 1,
   "id": "d334d210",
   "metadata": {},
   "outputs": [],
   "source": [
    "def vowel_links(txt):   \n",
    "    vowel = 'aeiou'                        \n",
    "    lst = txt.split(\" \")                   \n",
    "    found = False                          \n",
    "    i = 0\n",
    "    j = 0\n",
    "    while i < len(lst)-1:                  \n",
    "        j = i + 1    \n",
    "        vl = lst[i][-1]\n",
    "        vf = lst[j][0]\n",
    "        if vl in vowel and vf in vowel:  \n",
    "            found = True\n",
    "        i += 1\n",
    "        j += 1\n",
    "    return found"
   ]
  },
  {
   "cell_type": "code",
   "execution_count": 2,
   "id": "8cb384e5",
   "metadata": {},
   "outputs": [
    {
     "data": {
      "text/plain": [
       "True"
      ]
     },
     "execution_count": 2,
     "metadata": {},
     "output_type": "execute_result"
    }
   ],
   "source": [
    "vowel_links('a very large appliance')"
   ]
  },
  {
   "cell_type": "code",
   "execution_count": 3,
   "id": "df5c5468",
   "metadata": {},
   "outputs": [
    {
     "data": {
      "text/plain": [
       "True"
      ]
     },
     "execution_count": 3,
     "metadata": {},
     "output_type": "execute_result"
    }
   ],
   "source": [
    "vowel_links('go to edabit')"
   ]
  },
  {
   "cell_type": "code",
   "execution_count": 4,
   "id": "34c72110",
   "metadata": {},
   "outputs": [
    {
     "data": {
      "text/plain": [
       "False"
      ]
     },
     "execution_count": 4,
     "metadata": {},
     "output_type": "execute_result"
    }
   ],
   "source": [
    "vowel_links('an open fire')"
   ]
  },
  {
   "cell_type": "code",
   "execution_count": 5,
   "id": "41571916",
   "metadata": {},
   "outputs": [
    {
     "data": {
      "text/plain": [
       "False"
      ]
     },
     "execution_count": 5,
     "metadata": {},
     "output_type": "execute_result"
    }
   ],
   "source": [
    "vowel_links('a sudden applause')"
   ]
  },
  {
   "cell_type": "markdown",
   "id": "9fab466a",
   "metadata": {},
   "source": [
    "### 2. You are given three inputs: a string, one letter, and a second letter. Write a function that returns True if every instance of the first letter occurs before every instance of the second letter.\n",
    "**Examples:**    \n",
    "`first_before_second(\"a rabbit jumps joyfully\", \"a\", \"j\") ➞ True`      \n",
    "`# Every instance of \"a\" occurs before every instance of \"j\".`       \n",
    "\n",
    "`first_before_second(\"knaves knew about waterfalls\", \"k\", \"w\") ➞  True`     \n",
    "\n",
    "`first_before_second(\"happy birthday\", \"a\", \"y\") ➞ False`  \n",
    "`# The \"a\" in \"birthday\" occurs after the \"y\" in \"happy\".`  \n",
    "\n",
    "`first_before_second(\"precarious kangaroos\", \"k\", \"a\") ➞ False`   "
   ]
  },
  {
   "cell_type": "code",
   "execution_count": 18,
   "id": "25bae345",
   "metadata": {},
   "outputs": [],
   "source": [
    "def findIdx(text,s):\n",
    "    lst= []\n",
    "    for i in range(len(text)):\n",
    "        if (text[i] == s):\n",
    "            lst.append(i)\n",
    "    return lst\n",
    "\n",
    "def findidxDiff(list1,list2):\n",
    "    found = False\n",
    "    for i in list1:\n",
    "        for j in list2:\n",
    "            if i < j :\n",
    "                found = True\n",
    "            else:\n",
    "                found = False\n",
    "                break\n",
    "    return found\n",
    "\n",
    "\n",
    "def first_before_second(text,ch1,ch2):\n",
    "    idxCh1 = findIdx(text,ch1)\n",
    "    idxCh2 = findIdx(text,ch2)\n",
    "    \n",
    "    return findidxDiff(idxCh1,idxCh2)"
   ]
  },
  {
   "cell_type": "code",
   "execution_count": 19,
   "id": "e9d41502",
   "metadata": {},
   "outputs": [
    {
     "data": {
      "text/plain": [
       "True"
      ]
     },
     "execution_count": 19,
     "metadata": {},
     "output_type": "execute_result"
    }
   ],
   "source": [
    "first_before_second('a rabbit jumps joyfully', 'a', 'j')"
   ]
  },
  {
   "cell_type": "code",
   "execution_count": 20,
   "id": "3baa7d75",
   "metadata": {},
   "outputs": [
    {
     "data": {
      "text/plain": [
       "True"
      ]
     },
     "execution_count": 20,
     "metadata": {},
     "output_type": "execute_result"
    }
   ],
   "source": [
    "first_before_second('knaves knew about waterfalls', 'k', 'w')"
   ]
  },
  {
   "cell_type": "code",
   "execution_count": 21,
   "id": "a9099905",
   "metadata": {},
   "outputs": [
    {
     "data": {
      "text/plain": [
       "False"
      ]
     },
     "execution_count": 21,
     "metadata": {},
     "output_type": "execute_result"
    }
   ],
   "source": [
    "first_before_second('happy birthday', 'a', 'y')"
   ]
  },
  {
   "cell_type": "code",
   "execution_count": 22,
   "id": "06fa15ef",
   "metadata": {},
   "outputs": [
    {
     "data": {
      "text/plain": [
       "False"
      ]
     },
     "execution_count": 22,
     "metadata": {},
     "output_type": "execute_result"
    }
   ],
   "source": [
    "first_before_second('precarious kangaroos', 'k', 'a')"
   ]
  },
  {
   "cell_type": "markdown",
   "id": "848113ea",
   "metadata": {},
   "source": [
    "### 3. Create a function that returns the characters from a list or string r on odd or even positions, depending on the specifier s. The specifier will be \"odd\" for items on odd positions (1, 3, 5, ...) and \"even\" for items on even positions (2, 4, 6, ...).\n",
    "**Examples:**   \n",
    "`char_at_pos([2, 4, 6, 8, 10], \"even\") ➞ [4, 8]`  \n",
    "`# 4 & 8 occupy the 2nd & 4th positions`  \n",
    "\n",
    "`char_at_pos(\"EDABIT\", \"odd\") ➞ \"EAI\"`   \n",
    "`# \"E\", \"A\" and \"I\" occupy the 1st, 3rd and 5th positions`  \n",
    "\n",
    "`char_at_pos([\"A\", \"R\", \"B\", \"I\", \"T\", \"R\", \"A\", \"R\", \"I\", \"L\", \"Y\"], \"odd\") ➞ [\"A\", \"B\", \"T\", \"A\", \"I\", \"Y\"]`  "
   ]
  },
  {
   "cell_type": "code",
   "execution_count": 23,
   "id": "22dfe4b4",
   "metadata": {},
   "outputs": [],
   "source": [
    "def char_at_pos(data,specifier):\n",
    "\n",
    "    resultlist = []\n",
    "    if specifier == 'odd':\n",
    "        for i in range(len(data)):\n",
    "            i = i+1\n",
    "            if i % 2 != 0 :\n",
    "                resultlist.append(data[i-1])\n",
    "    elif specifier == 'even':\n",
    "        for i in range(len(data)):\n",
    "            i = i+1\n",
    "            if i % 2 == 0 :\n",
    "                resultlist.append(data[i-1])\n",
    "\n",
    "    if type(data) == str:\n",
    "        return ''.join(resultlist)\n",
    "    else:\n",
    "        return resultlist"
   ]
  },
  {
   "cell_type": "code",
   "execution_count": 24,
   "id": "1cab573a",
   "metadata": {},
   "outputs": [
    {
     "data": {
      "text/plain": [
       "[4, 8]"
      ]
     },
     "execution_count": 24,
     "metadata": {},
     "output_type": "execute_result"
    }
   ],
   "source": [
    "char_at_pos([2, 4, 6, 8, 10], 'even')"
   ]
  },
  {
   "cell_type": "code",
   "execution_count": 25,
   "id": "aff74a46",
   "metadata": {},
   "outputs": [
    {
     "data": {
      "text/plain": [
       "'EAI'"
      ]
     },
     "execution_count": 25,
     "metadata": {},
     "output_type": "execute_result"
    }
   ],
   "source": [
    "char_at_pos('EDABIT', 'odd')"
   ]
  },
  {
   "cell_type": "code",
   "execution_count": 26,
   "id": "3003342a",
   "metadata": {},
   "outputs": [
    {
     "data": {
      "text/plain": [
       "['A', 'B', 'T', 'A', 'I', 'Y']"
      ]
     },
     "execution_count": 26,
     "metadata": {},
     "output_type": "execute_result"
    }
   ],
   "source": [
    "char_at_pos(['A', 'R', 'B', 'I', 'T', 'R', 'A', 'R', 'I', 'L', 'Y'], 'odd')"
   ]
  },
  {
   "cell_type": "markdown",
   "id": "e6d53fb2",
   "metadata": {},
   "source": [
    "### 4. Write a function that returns the greatest common divisor of all list elements. If the greatest common divisor is 1, return 1.\n",
    "**Examples:**   \n",
    "`GCD([10, 20, 40]) ➞ 10`  \n",
    "`GCD([1, 2, 3, 100]) ➞ 1`  \n",
    "`GCD([1024, 192, 2048, 512]) ➞ 64`  "
   ]
  },
  {
   "cell_type": "code",
   "execution_count": 28,
   "id": "94be635c",
   "metadata": {},
   "outputs": [],
   "source": [
    "def find_gcd(x, y):\n",
    "    while(y):\n",
    "        x, y = y, x % y  \n",
    "    return x      \n",
    "      \n",
    "def GCD(data):\n",
    "    \n",
    "    num1=data[0]\n",
    "    num2=data[1]\n",
    "    gcd=find_gcd(num1,num2)\n",
    "\n",
    "    for i in range(2,len(data)):\n",
    "        gcd=find_gcd(gcd,data[i])\n",
    "\n",
    "    return gcd"
   ]
  },
  {
   "cell_type": "code",
   "execution_count": 29,
   "id": "cffddd85",
   "metadata": {},
   "outputs": [
    {
     "data": {
      "text/plain": [
       "10"
      ]
     },
     "execution_count": 29,
     "metadata": {},
     "output_type": "execute_result"
    }
   ],
   "source": [
    "GCD([10, 20, 40])"
   ]
  },
  {
   "cell_type": "code",
   "execution_count": 30,
   "id": "73306d64",
   "metadata": {},
   "outputs": [
    {
     "data": {
      "text/plain": [
       "1"
      ]
     },
     "execution_count": 30,
     "metadata": {},
     "output_type": "execute_result"
    }
   ],
   "source": [
    "GCD([1, 2, 3, 100])"
   ]
  },
  {
   "cell_type": "code",
   "execution_count": 31,
   "id": "1d4525b8",
   "metadata": {},
   "outputs": [
    {
     "data": {
      "text/plain": [
       "64"
      ]
     },
     "execution_count": 31,
     "metadata": {},
     "output_type": "execute_result"
    }
   ],
   "source": [
    "GCD([1024, 192, 2048, 512])"
   ]
  },
  {
   "cell_type": "markdown",
   "id": "c1dc0d46",
   "metadata": {},
   "source": [
    "### 5. A number/string is a palindrome if the digits/characters are the same when read both forward and backward. Examples include \"racecar\" and 12321. Given a positive number n, check if n or the binary representation of n is palindromic. Return the following:\n",
    "\n",
    "- \"Decimal only.\" if only n is a palindrome.\n",
    "- \"Binary only.\" if only the binary representation of n is a palindrome.\n",
    "- \"Decimal and binary.\" if both are palindromes.\n",
    "- \"Neither!\" if neither are palindromes.\n",
    "\n",
    "**Examples:**   \n",
    "\n",
    "`palindrome_type(1306031) ➞ \"Decimal only.\"`   \n",
    "`# decimal = 1306031`   \n",
    "`# binary  = \"100111110110110101111\"`   \n",
    "\n",
    "`palindrome_type(427787) ➞ \"Binary only.\"`   \n",
    "`# decimal = 427787`   \n",
    "`# binary  = \"1101000011100001011\"`   \n",
    "\n",
    "`palindrome_type(313) ➞ \"Decimal and binary.\"`  \n",
    "`# decimal = 313`  \n",
    "`# binary  = 100111001`  \n",
    "\n",
    "`palindrome_type(934) ➞ \"Neither!\"`   \n",
    "`# decimal = 934`  \n",
    "`# binary  = \"1110100110\"`  "
   ]
  },
  {
   "cell_type": "code",
   "execution_count": 27,
   "id": "d49e53e5",
   "metadata": {},
   "outputs": [
    {
     "name": "stdout",
     "output_type": "stream",
     "text": [
      "palindrome(1306031) ➞ Decimal only.\n",
      "palindrome(427787) ➞ Neither!\n",
      "palindrome(313) ➞ Decimal and binary.\n",
      "palindrome(934) ➞ Neither!\n"
     ]
    }
   ],
   "source": [
    "def palindrome_type(in_num):\n",
    "    output = None\n",
    "    if str(in_num) == str(in_num)[::-1] and str(bin(in_num)[2:]) == str(bin(in_num)[2:])[::-1]:\n",
    "        output = 'Decimal and binary.'\n",
    "    elif str(in_num) == str(in_num)[::-1] and str(bin(in_num)[2:]) != str(bin(in_num)[2:])[::-1]:\n",
    "        output = 'Decimal only.'\n",
    "    elif str(bin(in_num)[2:]) != str(bin(in_num)[2:])[::-1] and str(in_num) == str(in_num)[::-1]:\n",
    "        output = 'Binary only.'\n",
    "    else:\n",
    "        output = 'Neither!'\n",
    "    print(f'palindrome({in_num}) ➞ {output}')\n",
    "\n",
    "palindrome_type(1306031)\n",
    "palindrome_type(427787)\n",
    "palindrome_type(313)\n",
    "palindrome_type(934)"
   ]
  }
 ],
 "metadata": {
  "kernelspec": {
   "display_name": "Python 3 (ipykernel)",
   "language": "python",
   "name": "python3"
  },
  "language_info": {
   "codemirror_mode": {
    "name": "ipython",
    "version": 3
   },
   "file_extension": ".py",
   "mimetype": "text/x-python",
   "name": "python",
   "nbconvert_exporter": "python",
   "pygments_lexer": "ipython3",
   "version": "3.9.7"
  }
 },
 "nbformat": 4,
 "nbformat_minor": 5
}
