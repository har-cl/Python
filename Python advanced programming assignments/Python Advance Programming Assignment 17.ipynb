{
 "cells": [
  {
   "cell_type": "markdown",
   "id": "6d88c965",
   "metadata": {},
   "source": [
    "# Python Advance Programming Assignment\n",
    "## Assignment - 17 [ FSDS NOV 21 ]"
   ]
  },
  {
   "cell_type": "markdown",
   "id": "1f8666a2",
   "metadata": {},
   "source": [
    "### 1. Create a function that transposes a 2D matrix.\n",
    "\n",
    "**Examples:**    \n",
    "\n",
    "`transpose_matrix([\n",
    "  [1, 1, 1],\n",
    "  [2, 2, 2],\n",
    "  [3, 3, 3]\n",
    "]) ➞ [\n",
    "  [1, 2, 3],\n",
    "  [1, 2, 3],\n",
    "  [1, 2, 3]\n",
    "]`\n",
    "\n",
    "`transpose_matrix([\n",
    "  [5, 5],\n",
    "  [6, 7],\n",
    "  [9, 1]\n",
    "]) ➞ [\n",
    "  [5, 6, 9],\n",
    "  [5, 7, 1]\n",
    "]`\n"
   ]
  },
  {
   "cell_type": "code",
   "execution_count": 5,
   "id": "e9819b7b",
   "metadata": {},
   "outputs": [
    {
     "name": "stdout",
     "output_type": "stream",
     "text": [
      "Transposed matrix is\n",
      "5  6  \n",
      "5  7  \n",
      "9  1  \n"
     ]
    }
   ],
   "source": [
    "transpose_matrix([\n",
    "  [5, 5],\n",
    "  [6, 7],\n",
    "  [9, 1]\n",
    "])"
   ]
  },
  {
   "cell_type": "code",
   "execution_count": 1,
   "id": "dcefb967",
   "metadata": {},
   "outputs": [
    {
     "name": "stdout",
     "output_type": "stream",
     "text": [
      "transpose_matrix([[1, 1, 1], [2, 2, 2], [3, 3, 3]]) ➞ [[1, 2, 3], [1, 2, 3], [1, 2, 3]]\n",
      "transpose_matrix([[5, 5], [6, 7], [9, 1]]) ➞ [[5, 6, 9], [5, 7, 1]]\n"
     ]
    }
   ],
   "source": [
    "def transpose_matrix(in_list):\n",
    "    output = []\n",
    "    for ele_1 in range(len(in_list[0])):\n",
    "        temp = []\n",
    "        for ele_2 in in_list:\n",
    "            temp.append(ele_2[ele_1])\n",
    "        output.append(temp)\n",
    "    print(f'transpose_matrix({in_list}) ➞ {output}')\n",
    "\n",
    "transpose_matrix([[1, 1, 1],[2, 2, 2],[3, 3, 3]])\n",
    "transpose_matrix([[5, 5],[6, 7],[9, 1]])"
   ]
  },
  {
   "cell_type": "markdown",
   "id": "08575f5f",
   "metadata": {},
   "source": [
    "### 2. Create a function that determines whether a string is a valid hex code.\n",
    "\n",
    "A hex code must begin with a pound key # and is exactly 6 characters in length. Each character must be a digit from 0-9 or an alphabetic character from A-F. All alphabetic characters may be uppercase or lowercase.\n",
    "\n",
    "**Examples:**    \n",
    "`is_valid_hex_code(\"#CD5C5C\") ➞ True`  \n",
    "`is_valid_hex_code(\"#EAECEE\") ➞ True`  \n",
    "`is_valid_hex_code(\"#eaecee\") ➞ True`  \n",
    "\n",
    "`is_valid_hex_code(\"#CD5C58C\") ➞ False`  \n",
    "    `# Length exceeds 6`  \n",
    "\n",
    "`is_valid_hex_code(\"#CD5C5Z\") ➞ False`  \n",
    "    `# Not all alphabetic characters in A-F`  \n",
    "\n",
    "`is_valid_hex_code(\"#CD5C&C\") ➞ False`  \n",
    "    `# Contains unacceptable character`  \n",
    "\n",
    "`is_valid_hex_code(\"CD5C5C\") ➞ False`  \n",
    "    `# Missing #`  "
   ]
  },
  {
   "cell_type": "code",
   "execution_count": 16,
   "id": "fe428f1e",
   "metadata": {},
   "outputs": [
    {
     "name": "stdout",
     "output_type": "stream",
     "text": [
      "is_valid_hex_code(#CD5C5C) ➞ True\n",
      "is_valid_hex_code(#EAECEE) ➞ True\n",
      "is_valid_hex_code(#eaecee) ➞ True\n",
      "is_valid_hex_code(#CD5C58C) ➞ False\n",
      "is_valid_hex_code(#CD5C5Z) ➞ False\n",
      "is_valid_hex_code(#CD5C&C) ➞ False\n",
      "is_valid_hex_code(CD5C5C) ➞ False\n"
     ]
    }
   ],
   "source": [
    "def is_valid_hex_code(in_string):\n",
    "    out_string = True\n",
    "    for ele in in_string:\n",
    "        if ele.lower() not in '#abcdef0123456789' or len(in_string) != 7:\n",
    "            out_string = False\n",
    "    print(f'is_valid_hex_code({in_string}) ➞ {out_string}')\n",
    "\n",
    "is_valid_hex_code(\"#CD5C5C\")\n",
    "is_valid_hex_code(\"#EAECEE\")\n",
    "is_valid_hex_code(\"#eaecee\")\n",
    "is_valid_hex_code(\"#CD5C58C\")\n",
    "is_valid_hex_code(\"#CD5C5Z\")\n",
    "is_valid_hex_code(\"#CD5C&C\")\n",
    "is_valid_hex_code(\"CD5C5C\")"
   ]
  },
  {
   "cell_type": "markdown",
   "id": "16d630f0",
   "metadata": {},
   "source": [
    "### 3. Given a list of math equations (given as strings), return the percentage of correct answers as a string. Round to the nearest whole number.\n",
    "\n",
    "**Examples:**    \n",
    "`mark_maths([\"2+2=4\", \"3+2=5\", \"10-3=3\", \"5+5=10\"]) ➞ \"75%\"`   \n",
    "`mark_maths([\"1-2=-2\"]), \"0%\"`  \n",
    "`mark_maths([\"2+3=5\", \"4+4=9\", \"3-1=2\"]) ➞ \"67%\"`   "
   ]
  },
  {
   "cell_type": "code",
   "execution_count": 17,
   "id": "eaba421e",
   "metadata": {},
   "outputs": [],
   "source": [
    "def mark_maths(lst):\n",
    "    sign=[\"+\",\"-\",\"=\"]\n",
    "    res=0\n",
    "    for exp in lst:\n",
    "        temp=[]\n",
    "        start = 0\n",
    "        for i in range(0,len(exp)-1):\n",
    "            if exp[i]== '=':\n",
    "                temp.append(exp[i+1:])\n",
    "            elif exp[i+1] in sign and exp[i].isdigit():\n",
    "                temp.append(exp[start:i+1])\n",
    "                start=i+1\n",
    "        if(int(temp[0])+int(temp[1])==int(temp[2])):\n",
    "            res+=1\n",
    "    return (str(round((res/len(lst))*100)) +\"%\" )"
   ]
  },
  {
   "cell_type": "code",
   "execution_count": 18,
   "id": "c1e5caed",
   "metadata": {},
   "outputs": [
    {
     "data": {
      "text/plain": [
       "'75%'"
      ]
     },
     "execution_count": 18,
     "metadata": {},
     "output_type": "execute_result"
    }
   ],
   "source": [
    "mark_maths([\"2+2=4\", \"3+2=5\", \"10-3=3\", \"5+5=10\"])"
   ]
  },
  {
   "cell_type": "code",
   "execution_count": 19,
   "id": "35e833f2",
   "metadata": {},
   "outputs": [
    {
     "data": {
      "text/plain": [
       "'0%'"
      ]
     },
     "execution_count": 19,
     "metadata": {},
     "output_type": "execute_result"
    }
   ],
   "source": [
    "mark_maths([\"1-2=-2\"])"
   ]
  },
  {
   "cell_type": "code",
   "execution_count": 20,
   "id": "269e4392",
   "metadata": {},
   "outputs": [
    {
     "data": {
      "text/plain": [
       "'67%'"
      ]
     },
     "execution_count": 20,
     "metadata": {},
     "output_type": "execute_result"
    }
   ],
   "source": [
    "mark_maths([\"2+3=5\", \"4+4=9\", \"3-1=2\"])"
   ]
  },
  {
   "cell_type": "markdown",
   "id": "29ccf081",
   "metadata": {},
   "source": [
    "### 4. There are two players, Alice and Bob, each with a 3-by-3 grid. A referee tells Alice to fill out one particular row in the grid (say the second row) by putting either a 1 or a 0 in each box, such that the sum of the numbers in that row is odd. The referee tells Bob to fill out one column in the grid (say the first column) by putting either a 1 or a 0 in each box, such that the sum of the numbers in that column is even.\n",
    "\n",
    "Alice and Bob win the game if Alice’s numbers give an odd sum, Bob’s give an even sum, and (most important) they’ve each written down the same number in the one square where their row and column intersect.\n",
    "\n",
    "**Examples:**    \n",
    "`magic_square_game([2, \"100\"], [1, \"101\"]) ➞ False`  \n",
    "`magic_square_game([2, \"001\"], [1, \"101\"]) ➞ True`  \n",
    "`magic_square_game([3, \"111\"], [2, \"011\"]) ➞ True`  \n",
    "`magic_square_game([1, \"010\"], [3, \"101\"]) ➞ False`   \n",
    "`# Two lists, Alice [row, \"her choice\"], Bob [column, \"his choice\"]`   "
   ]
  },
  {
   "cell_type": "code",
   "execution_count": 21,
   "id": "6af58672",
   "metadata": {},
   "outputs": [],
   "source": [
    "def my_sum(s):\n",
    "    c=0\n",
    "    for i in s:\n",
    "        c+=int(i)\n",
    "    return c\n",
    "    \n",
    "def magic_square_game(alice,bob):\n",
    "    row=alice[0]-1\n",
    "    column=bob[0]-1\n",
    "    ac=alice[1]\n",
    "    bc=bob[1]\n",
    "\n",
    "    if my_sum(ac)%2 != 0 and my_sum(bc)%2 == 0:\n",
    "        if ac[column]==bc[row]:\n",
    "            return True\n",
    "        else:\n",
    "            return False\n",
    "    else:\n",
    "        return False"
   ]
  },
  {
   "cell_type": "code",
   "execution_count": 22,
   "id": "0b9e10aa",
   "metadata": {},
   "outputs": [
    {
     "data": {
      "text/plain": [
       "False"
      ]
     },
     "execution_count": 22,
     "metadata": {},
     "output_type": "execute_result"
    }
   ],
   "source": [
    "magic_square_game([2, \"100\"], [1, \"101\"])"
   ]
  },
  {
   "cell_type": "code",
   "execution_count": 23,
   "id": "3999686a",
   "metadata": {},
   "outputs": [
    {
     "data": {
      "text/plain": [
       "True"
      ]
     },
     "execution_count": 23,
     "metadata": {},
     "output_type": "execute_result"
    }
   ],
   "source": [
    "magic_square_game([2, \"001\"], [1, \"101\"])"
   ]
  },
  {
   "cell_type": "code",
   "execution_count": 24,
   "id": "0b1b0dc0",
   "metadata": {},
   "outputs": [
    {
     "data": {
      "text/plain": [
       "True"
      ]
     },
     "execution_count": 24,
     "metadata": {},
     "output_type": "execute_result"
    }
   ],
   "source": [
    "magic_square_game([3, \"111\"], [2, \"011\"]) "
   ]
  },
  {
   "cell_type": "code",
   "execution_count": 25,
   "id": "07506d50",
   "metadata": {},
   "outputs": [
    {
     "data": {
      "text/plain": [
       "False"
      ]
     },
     "execution_count": 25,
     "metadata": {},
     "output_type": "execute_result"
    }
   ],
   "source": [
    "magic_square_game([1, \"010\"], [3, \"101\"])"
   ]
  },
  {
   "cell_type": "markdown",
   "id": "17467f13",
   "metadata": {},
   "source": [
    "### 5. From point A, an object is moving towards point B at constant velocity va (in km/hr). From point B, another object is moving towards point A at constant velocity vb (in km/hr). Knowing this and the distance between point A and B (in km), write a function that returns how much time passes until both objects meet.\n",
    "\n",
    "Format the output like this: `\"2h 23min 34s\"`   \n",
    "\n",
    "**Examples:**    \n",
    "`lets_meet(100, 10, 30) ➞ \"2h 30min 0s\"`  \n",
    "`lets_meet(280, 70, 80) ➞ \"1h 52min 0s\"`  \n",
    "`lets_meet(90, 75, 65) ➞ \"0h 38min 34s\"`  "
   ]
  },
  {
   "cell_type": "code",
   "execution_count": 26,
   "id": "96982271",
   "metadata": {},
   "outputs": [],
   "source": [
    "def lets_meet(distance,Va,Vb):\n",
    "    \n",
    "    time=distance/(Va+Vb)\n",
    "    hour = int(time)\n",
    "    min = (time*60) % 60.\n",
    "    sec = (time*3600) % 60.\n",
    "    return \"%02dh:%02dmin:%02ds\" % (hour, min, sec)"
   ]
  },
  {
   "cell_type": "code",
   "execution_count": 27,
   "id": "0e6e2ac5",
   "metadata": {},
   "outputs": [
    {
     "data": {
      "text/plain": [
       "'02h:30min:00s'"
      ]
     },
     "execution_count": 27,
     "metadata": {},
     "output_type": "execute_result"
    }
   ],
   "source": [
    "lets_meet(100, 10, 30)"
   ]
  },
  {
   "cell_type": "code",
   "execution_count": 28,
   "id": "36ba8e4a",
   "metadata": {},
   "outputs": [
    {
     "data": {
      "text/plain": [
       "'01h:52min:00s'"
      ]
     },
     "execution_count": 28,
     "metadata": {},
     "output_type": "execute_result"
    }
   ],
   "source": [
    "lets_meet(280, 70, 80)"
   ]
  },
  {
   "cell_type": "code",
   "execution_count": 29,
   "id": "263f6444",
   "metadata": {},
   "outputs": [
    {
     "data": {
      "text/plain": [
       "'00h:38min:34s'"
      ]
     },
     "execution_count": 29,
     "metadata": {},
     "output_type": "execute_result"
    }
   ],
   "source": [
    "lets_meet(90, 75, 65)"
   ]
  }
 ],
 "metadata": {
  "kernelspec": {
   "display_name": "Python 3 (ipykernel)",
   "language": "python",
   "name": "python3"
  },
  "language_info": {
   "codemirror_mode": {
    "name": "ipython",
    "version": 3
   },
   "file_extension": ".py",
   "mimetype": "text/x-python",
   "name": "python",
   "nbconvert_exporter": "python",
   "pygments_lexer": "ipython3",
   "version": "3.9.7"
  }
 },
 "nbformat": 4,
 "nbformat_minor": 5
}
