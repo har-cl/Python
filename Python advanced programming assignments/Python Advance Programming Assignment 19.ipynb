{
 "cells": [
  {
   "cell_type": "markdown",
   "id": "77ed8233",
   "metadata": {},
   "source": [
    "# Python Advance Programming Assignment\n",
    "## Assignment - 19 [ FSDS NOV 21 ]"
   ]
  },
  {
   "cell_type": "markdown",
   "id": "f045220b",
   "metadata": {},
   "source": [
    "### 1. Create a checker board generator, which takes as inputs n and 2 elements to generate an n x n checkerboard with those two elements as alternating squares.\n",
    "**Examples:**   \n",
    "`checker_board(2, 7, 6) ➞ [\n",
    "  [7, 6],\n",
    "  [6, 7]\n",
    "]`\n",
    "\n",
    "`checker_board(3, \"A\", \"B\") ➞ [\n",
    "  [\"A\", \"B\", \"A\"],\n",
    "  [\"B\", \"A\", \"B\"],\n",
    "  [\"A\", \"B\", \"A\"]\n",
    "]`\n",
    "\n",
    "`checker_board(4, \"c\", \"d\") ➞ [\n",
    "  [\"c\", \"d\", \"c\", \"d\"],\n",
    "  [\"d\", \"c\", \"d\", \"c\"],\n",
    "  [\"c\", \"d\", \"c\", \"d\"],\n",
    "  [\"d\", \"c\", \"d\", \"c\"]\n",
    "]`\n",
    "\n",
    "`checker_board(4, \"c\", \"c\") ➞ \"invalid\"`  "
   ]
  },
  {
   "cell_type": "code",
   "execution_count": 1,
   "id": "4f89f41d",
   "metadata": {},
   "outputs": [],
   "source": [
    "def checker_board(n,i1,i2):\n",
    "    if(i1==i2):\n",
    "        return \"invalid\"\n",
    "    else:\n",
    "        matrix=[]\n",
    "        for i in range(n):          \n",
    "            a =[] \n",
    "            for j in range(n):    \n",
    "                a.append(i1)\n",
    " \n",
    "                i1, i2 = i2, i1\n",
    "            matrix.append(a)\n",
    "            if n%2==0:\n",
    "                i1, i2 = i2, i1\n",
    "        return matrix"
   ]
  },
  {
   "cell_type": "code",
   "execution_count": 2,
   "id": "28fc5c1e",
   "metadata": {},
   "outputs": [
    {
     "data": {
      "text/plain": [
       "[[7, 6], [6, 7]]"
      ]
     },
     "execution_count": 2,
     "metadata": {},
     "output_type": "execute_result"
    }
   ],
   "source": [
    "checker_board(2, 7, 6)"
   ]
  },
  {
   "cell_type": "code",
   "execution_count": 3,
   "id": "a11a3a43",
   "metadata": {},
   "outputs": [
    {
     "data": {
      "text/plain": [
       "[['A', 'B', 'A'], ['B', 'A', 'B'], ['A', 'B', 'A']]"
      ]
     },
     "execution_count": 3,
     "metadata": {},
     "output_type": "execute_result"
    }
   ],
   "source": [
    "checker_board(3, \"A\", \"B\")"
   ]
  },
  {
   "cell_type": "code",
   "execution_count": 4,
   "id": "25a5e96e",
   "metadata": {},
   "outputs": [
    {
     "data": {
      "text/plain": [
       "[['c', 'd', 'c', 'd'],\n",
       " ['d', 'c', 'd', 'c'],\n",
       " ['c', 'd', 'c', 'd'],\n",
       " ['d', 'c', 'd', 'c']]"
      ]
     },
     "execution_count": 4,
     "metadata": {},
     "output_type": "execute_result"
    }
   ],
   "source": [
    "checker_board(4, \"c\", \"d\")"
   ]
  },
  {
   "cell_type": "code",
   "execution_count": 5,
   "id": "256e6ae7",
   "metadata": {},
   "outputs": [
    {
     "data": {
      "text/plain": [
       "'invalid'"
      ]
     },
     "execution_count": 5,
     "metadata": {},
     "output_type": "execute_result"
    }
   ],
   "source": [
    "checker_board(4, \"c\", \"c\")"
   ]
  },
  {
   "cell_type": "markdown",
   "id": "5deef5d7",
   "metadata": {},
   "source": [
    "### 2. A string is an almost-palindrome if, by changing only one character, you can make it a palindrome. Create a function that returns True if a string is an almost-palindrome and False otherwise.\n",
    "\n",
    "**Examples:**   \n",
    "`almost_palindrome(\"abcdcbg\") ➞ True`  \n",
    "`# Transformed to \"abcdcba\" by changing \"g\" to \"a\".`  \n",
    "\n",
    "`almost_palindrome(\"abccia\") ➞ True`  \n",
    "`# Transformed to \"abccba\" by changing \"i\" to \"b\".`  \n",
    "\n",
    "`almost_palindrome(\"abcdaaa\") ➞ False`  \n",
    "`# Can't be transformed to a palindrome in exactly 1 turn.`  \n",
    "\n",
    "`almost_palindrome(\"1234312\") ➞ False`"
   ]
  },
  {
   "cell_type": "code",
   "execution_count": 6,
   "id": "29c79146",
   "metadata": {},
   "outputs": [],
   "source": [
    "def almost_palindrome(s):\n",
    "    rs=s[::-1]\n",
    "    count=0\n",
    "    for i in range(len(s)):\n",
    "        if s[i]!=rs[i]:\n",
    "            count+=1\n",
    "    if count >2 :\n",
    "        return False\n",
    "    return True"
   ]
  },
  {
   "cell_type": "code",
   "execution_count": 7,
   "id": "41b477d7",
   "metadata": {},
   "outputs": [
    {
     "data": {
      "text/plain": [
       "True"
      ]
     },
     "execution_count": 7,
     "metadata": {},
     "output_type": "execute_result"
    }
   ],
   "source": [
    "almost_palindrome(\"abcdcbg\")"
   ]
  },
  {
   "cell_type": "code",
   "execution_count": 8,
   "id": "04da8bf8",
   "metadata": {},
   "outputs": [
    {
     "data": {
      "text/plain": [
       "True"
      ]
     },
     "execution_count": 8,
     "metadata": {},
     "output_type": "execute_result"
    }
   ],
   "source": [
    "almost_palindrome(\"abccia\")"
   ]
  },
  {
   "cell_type": "code",
   "execution_count": 9,
   "id": "861f771f",
   "metadata": {},
   "outputs": [
    {
     "data": {
      "text/plain": [
       "False"
      ]
     },
     "execution_count": 9,
     "metadata": {},
     "output_type": "execute_result"
    }
   ],
   "source": [
    "almost_palindrome(\"abcdaaa\")"
   ]
  },
  {
   "cell_type": "code",
   "execution_count": 10,
   "id": "4453ad6a",
   "metadata": {},
   "outputs": [
    {
     "data": {
      "text/plain": [
       "False"
      ]
     },
     "execution_count": 10,
     "metadata": {},
     "output_type": "execute_result"
    }
   ],
   "source": [
    "almost_palindrome(\"1234312\")"
   ]
  },
  {
   "cell_type": "markdown",
   "id": "3aad17bf",
   "metadata": {},
   "source": [
    "### 3. Create a function that finds how many prime numbers there are, up to the given integer.\n",
    "**Examples:**   \n",
    "`prime_numbers(10) ➞ 4 # 2, 3, 5 and 7`   \n",
    "`prime_numbers(20) ➞ 8 # 2, 3, 5, 7, 11, 13, 17 and 19`   \n",
    "`prime_numbers(30) ➞ 10 # 2, 3, 5, 7, 11, 13, 17, 19, 23 and 29`  "
   ]
  },
  {
   "cell_type": "code",
   "execution_count": 11,
   "id": "24c2e79c",
   "metadata": {},
   "outputs": [],
   "source": [
    "def prime_numbers(n):\n",
    "    count=0\n",
    "    for i in range(n+1):\n",
    "        if i>1:\n",
    "            for j in range(2,i):\n",
    "                if(i % j==0):\n",
    "                    break\n",
    "            else:\n",
    "    \n",
    "                count+=1\n",
    "    return count"
   ]
  },
  {
   "cell_type": "code",
   "execution_count": 12,
   "id": "93b8c5cd",
   "metadata": {},
   "outputs": [
    {
     "data": {
      "text/plain": [
       "4"
      ]
     },
     "execution_count": 12,
     "metadata": {},
     "output_type": "execute_result"
    }
   ],
   "source": [
    "prime_numbers(10)"
   ]
  },
  {
   "cell_type": "code",
   "execution_count": 13,
   "id": "fcefbd8f",
   "metadata": {},
   "outputs": [
    {
     "data": {
      "text/plain": [
       "8"
      ]
     },
     "execution_count": 13,
     "metadata": {},
     "output_type": "execute_result"
    }
   ],
   "source": [
    "prime_numbers(20)"
   ]
  },
  {
   "cell_type": "code",
   "execution_count": 14,
   "id": "33be6f61",
   "metadata": {},
   "outputs": [
    {
     "data": {
      "text/plain": [
       "10"
      ]
     },
     "execution_count": 14,
     "metadata": {},
     "output_type": "execute_result"
    }
   ],
   "source": [
    "prime_numbers(30)"
   ]
  },
  {
   "cell_type": "markdown",
   "id": "75ef46eb",
   "metadata": {},
   "source": [
    "### 4. If today was Monday, in two days, it would be Wednesday.\n",
    "\n",
    "Create a function that takes in a list of days as input and the number of days to increment by. Return a list of days after n number of days has passed.\n",
    "\n",
    "**Examples:**   \n",
    "`after_n_days([\"Thursday\", \"Monday\"], 4) ➞ [\"Monday\", \"Friday\"]`  \n",
    "`after_n_days([\"Sunday\", \"Sunday\", \"Sunday\"], 1) ➞ [\"Monday\", \"Monday\", \"Monday\"]`  \n",
    "`after_n_days([\"Monday\", \"Tuesday\", \"Friday\"], 1) ➞ [\"Tuesday\", \"Wednesday\", \"Saturday\"]`  "
   ]
  },
  {
   "cell_type": "code",
   "execution_count": 15,
   "id": "17a2e3ef",
   "metadata": {},
   "outputs": [],
   "source": [
    "def after_n_days(lst,n):\n",
    "    index=[]\n",
    "    new=[]\n",
    "    days=[\"Monday\",\"Tuesday\",\"Wednesday\",\"Thursday\",\"Friday\",\"Saturday\",\"Sunday\"]\n",
    "    index=[days.index(i) for i in lst]\n",
    "    index=[(i+n)%7 for i in index]\n",
    "    for i in index:\n",
    "        new.append(days[i])\n",
    "    return new"
   ]
  },
  {
   "cell_type": "code",
   "execution_count": 16,
   "id": "fbcdee2b",
   "metadata": {},
   "outputs": [
    {
     "data": {
      "text/plain": [
       "['Monday', 'Friday']"
      ]
     },
     "execution_count": 16,
     "metadata": {},
     "output_type": "execute_result"
    }
   ],
   "source": [
    "after_n_days([\"Thursday\", \"Monday\"],4)"
   ]
  },
  {
   "cell_type": "code",
   "execution_count": 17,
   "id": "6556a2ec",
   "metadata": {},
   "outputs": [
    {
     "data": {
      "text/plain": [
       "['Monday', 'Monday', 'Monday']"
      ]
     },
     "execution_count": 17,
     "metadata": {},
     "output_type": "execute_result"
    }
   ],
   "source": [
    "after_n_days([\"Sunday\", \"Sunday\", \"Sunday\"], 1)"
   ]
  },
  {
   "cell_type": "code",
   "execution_count": 19,
   "id": "afc41a2c",
   "metadata": {},
   "outputs": [
    {
     "data": {
      "text/plain": [
       "['Tuesday', 'Wednesday', 'Saturday']"
      ]
     },
     "execution_count": 19,
     "metadata": {},
     "output_type": "execute_result"
    }
   ],
   "source": [
    "after_n_days([\"Monday\", \"Tuesday\", \"Friday\"], 1)"
   ]
  },
  {
   "cell_type": "markdown",
   "id": "8d61cf98",
   "metadata": {},
   "source": [
    "### 5. You are in the process of creating a chat application and want to add an anonymous name feature. This anonymous name feature will create an alias that consists of two capitalized words beginning with the same letter as the users first name.\n",
    "\n",
    "Create a function that determines if the list of users is mapped to a list of anonymous names correctly.\n",
    "\n",
    "**Examples:**   \n",
    "`is_correct_aliases([\"Adrian M.\", \"Harriet S.\", \"Mandy T.\"], [\"Amazing Artichoke\", \"Hopeful Hedgehog\", \"Marvelous Mouse\"]) ➞ True`\n",
    "\n",
    "`is_correct_aliases([\"Rachel F.\", \"Pam G.\", \"Fred Z.\", \"Nancy K.\"], [\"Reassuring Rat\", \"Peaceful Panda\", \"Fantastic Frog\", \"Notable Nickel\"]) ➞ True`\n",
    "\n",
    "`is_correct_aliases([\"Beth T.\"], [\"Brandishing Mimosa\"]) ➞ False`  \n",
    "`# Both words in \"Brandishing Mimosa\" should begin with a \"B\" - \"Brandishing Beaver\" would do the trick.`  \n"
   ]
  },
  {
   "cell_type": "code",
   "execution_count": 20,
   "id": "9492c105",
   "metadata": {},
   "outputs": [],
   "source": [
    "def is_correct_aliases(lst1,lst2):\n",
    "    new=[]\n",
    "    for i in lst2:\n",
    "        x=i.split()\n",
    "        new.append(x)\n",
    "    for i in range(len(lst1)):\n",
    "\n",
    "        if lst1[i][0]!=new[i][0][0] or lst1[i][0] !=new[i][1][0]:\n",
    "            return False\n",
    "    return True"
   ]
  },
  {
   "cell_type": "code",
   "execution_count": 21,
   "id": "a020d270",
   "metadata": {},
   "outputs": [
    {
     "data": {
      "text/plain": [
       "True"
      ]
     },
     "execution_count": 21,
     "metadata": {},
     "output_type": "execute_result"
    }
   ],
   "source": [
    "is_correct_aliases([\"Adrian M.\", \"Harriet S.\", \"Mandy T.\"], [\"Amazing Artichoke\", \"Hopeful Hedgehog\", \"Marvelous Mouse\"])"
   ]
  },
  {
   "cell_type": "code",
   "execution_count": 22,
   "id": "bb370dbb",
   "metadata": {},
   "outputs": [
    {
     "data": {
      "text/plain": [
       "True"
      ]
     },
     "execution_count": 22,
     "metadata": {},
     "output_type": "execute_result"
    }
   ],
   "source": [
    "is_correct_aliases([\"Rachel F.\", \"Pam G.\", \"Fred Z.\", \"Nancy K.\"], [\"Reassuring Rat\", \"Peaceful Panda\", \"Fantastic Frog\", \"Notable Nickel\"])"
   ]
  },
  {
   "cell_type": "code",
   "execution_count": 23,
   "id": "dda9201f",
   "metadata": {},
   "outputs": [
    {
     "data": {
      "text/plain": [
       "False"
      ]
     },
     "execution_count": 23,
     "metadata": {},
     "output_type": "execute_result"
    }
   ],
   "source": [
    "is_correct_aliases([\"Beth T.\"], [\"Brandishing Mimosa\"])"
   ]
  }
 ],
 "metadata": {
  "kernelspec": {
   "display_name": "Python 3 (ipykernel)",
   "language": "python",
   "name": "python3"
  },
  "language_info": {
   "codemirror_mode": {
    "name": "ipython",
    "version": 3
   },
   "file_extension": ".py",
   "mimetype": "text/x-python",
   "name": "python",
   "nbconvert_exporter": "python",
   "pygments_lexer": "ipython3",
   "version": "3.9.7"
  }
 },
 "nbformat": 4,
 "nbformat_minor": 5
}
